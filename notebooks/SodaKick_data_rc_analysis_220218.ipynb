{
 "cells": [
  {
   "cell_type": "code",
   "execution_count": 1,
   "metadata": {},
   "outputs": [],
   "source": [
    "import requests\n",
    "from bs4 import BeautifulSoup\n",
    "import pandas as pd\n",
    "import numpy as np\n",
    "import re\n",
    "import sys, getopt\n",
    "import csv\n",
    "import pickle\n",
    "\n",
    "pd.set_option('display.max_rows', 500)\n",
    "\n",
    "import matplotlib as mpl\n",
    "import matplotlib.pyplot as plt\n",
    "from matplotlib.colors import ListedColormap\n",
    "%matplotlib inline  \n",
    "import seaborn as sns\n",
    "sns.set_style(\"darkgrid\")\n",
    "\n",
    "import umap\n",
    "from sklearn.decomposition import TruncatedSVD as tsvd\n",
    "\n",
    "def nearZeroVarDropAuto(df,thresh=0.99):\n",
    "    vVal=df.var(axis=0).values\n",
    "    cs=pd.Series(vVal).sort_values(ascending=False).cumsum()\n",
    "    remove=cs[cs>cs.values[-1]*thresh].index.values\n",
    "    return df.drop(df.columns[remove],axis=1)"
   ]
  },
  {
   "cell_type": "code",
   "execution_count": 61,
   "metadata": {},
   "outputs": [],
   "source": [
    "all_players=pd.read_hdf('/Users/federico comitani/GitHub/sodakick/data/all_players_separate_teams_220218.h5',key='pl') "
   ]
  },
  {
   "cell_type": "code",
   "execution_count": 62,
   "metadata": {},
   "outputs": [
    {
     "data": {
      "text/plain": [
       "(20138, 172)"
      ]
     },
     "execution_count": 62,
     "metadata": {},
     "output_type": "execute_result"
    }
   ],
   "source": [
    "all_players.shape"
   ]
  },
  {
   "cell_type": "code",
   "execution_count": 225,
   "metadata": {},
   "outputs": [],
   "source": [
    "#rc_out_play=pd.read_hdf('/Users/federico comitani/GitHub/sodakick/data/by_player_lou_220413.h5')\n",
    "rc_out_feat=pd.read_hdf('/Users/federico comitani/GitHub/sodakick/data/rc_byfeat_220413.h5')"
   ]
  },
  {
   "cell_type": "code",
   "execution_count": 226,
   "metadata": {},
   "outputs": [
    {
     "data": {
      "text/plain": [
       "Index(['passes_completed', 'passes_live', 'passes_switches',\n",
       "       'passes_left_foot', 'passes_offsides', 'touches'],\n",
       "      dtype='object')"
      ]
     },
     "execution_count": 226,
     "metadata": {},
     "output_type": "execute_result"
    }
   ],
   "source": [
    "c='0_0_0_1_0_1'\n",
    "rc_out_feat[rc_out_feat[c]==1].index"
   ]
  },
  {
   "cell_type": "code",
   "execution_count": 227,
   "metadata": {},
   "outputs": [],
   "source": [
    "#for role in all_players.position.unique():\n",
    "#    print(role+': {:.3f}'.format(all_players[all_players['position'].str.contains(role)][rc_out_feat[rc_out_feat['0_4']==1].index].mean().mean()))\n"
   ]
  },
  {
   "cell_type": "code",
   "execution_count": 234,
   "metadata": {},
   "outputs": [],
   "source": [
    "dict_names={'0_0': 'ball control',\n",
    "            '0_1': 'forward action',\n",
    "            '0_2': 'action support',\n",
    "            '0_3': 'goal keeping',\n",
    "            '0_4': 'goal keeping %',\n",
    "            \n",
    "            '0_0_0': 'ball control abs', #tackles\n",
    "            '0_0_0_0': 'aggressivity', #tackles\n",
    "            '0_0_0_0_0': 'tackles', #tackles\n",
    "            '0_0_0_0_1': 'fouls', #tackles\n",
    "            '0_0_0_0_2': 'actions in own pen area', #tackles\n",
    "            '0_0_0_0_3': 'dribbles against and fouls', #tackles\n",
    "            '0_0_0_0_4': 'aerials', #tackles\n",
    "            '0_0_0_0_5': 'blocks', # + head\n",
    "            '0_0_0_1': 'passes', #tackles\n",
    "            '0_0_0_1_0': 'passes medium', #tackles\n",
    "            '0_0_0_1_0_0': 'passes completed', #tackles\n",
    "            '0_0_0_1_0_1': 'touches', #tackles\n",
    "\n",
    "            '0_0_0_1_1': 'passes short', #tackles\n",
    "            '0_0_0_1_2': 'passes forward action', #tackles\n",
    "            '0_0_1': 'ball control %',  #tackles and pressure #and blocks, clearances\n",
    "            '0_0_1_0': 'passes long',  #tackles and pressure #and blocks, clearances\n",
    "            '0_0_1_1': 'passes %',  #tackles and pressure #and blocks, clearances\n",
    "\n",
    "            '0_1_0': 'forward action',\n",
    "            '0_1_0_0': 'fouled actions',\n",
    "            '0_1_0_1': 'dribbles',\n",
    "            '0_1_0_2': 'goals',\n",
    "            '0_1_0_3': 'shots',\n",
    "            '0_1_1': 'action precision',\n",
    "\n",
    "            '0_2_0': 'corner kics',\n",
    "            '0_2_1': 'support into pen area',\n",
    "            '0_2_2': 'assists',\n",
    "            '0_2_3': 'assiststed shots',\n",
    "            '0_2_4': 'crosses',\n",
    "      \n",
    "            '0_3_0': 'saves',\n",
    "            '0_3_1': 'passes gk',\n",
    "            '0_3_2': 'goals against',\n",
    "            '0_3_3': 'penalities against',\n",
    "            '0_3_4': 'passes launched and defensive actions outside of pen area',\n",
    "            \n",
    "            '0_4_0': 'defensive actions gk %',\n",
    "            '0_4_1': 'passes gk %',\n",
    "           }"
   ]
  },
  {
   "cell_type": "code",
   "execution_count": 235,
   "metadata": {},
   "outputs": [],
   "source": [
    "#rc_out_feat.columns=[dict_names[c] for c in rc_out_feat.columns]"
   ]
  },
  {
   "cell_type": "code",
   "execution_count": 236,
   "metadata": {},
   "outputs": [],
   "source": [
    "tmp_all=all_players.drop(['player','season','birth_year','nationality','squad','league','position'],axis=1)\n",
    "tmp_all=(tmp_all-tmp_all.min())/(tmp_all.max()-tmp_all.min())\n",
    "\n",
    "for c in rc_out_feat.columns:\n",
    "    if c in dict_names.keys():\n",
    "        tmp_all[dict_names[c]]=tmp_all[rc_out_feat[rc_out_feat[c]==1].index].mean(axis=1)\n",
    "        \n",
    "tmp_all['experience']=tmp_all['minutes']\n",
    "tmp_all=tmp_all[['experience']+[x for x in tmp_all.columns if x in dict_names.values()]]\n",
    "\n",
    "\n",
    "tmp_all=tmp_all/tmp_all.max()\n",
    "tmp_all.to_hdf('/Users/federico comitani/GitHub/sodakick/data/rc_features_220413.h5',key='df')"
   ]
  },
  {
   "cell_type": "code",
   "execution_count": 223,
   "metadata": {},
   "outputs": [],
   "source": []
  },
  {
   "cell_type": "code",
   "execution_count": null,
   "metadata": {},
   "outputs": [],
   "source": [
    "\"\"\"import aroughcun as rc\n",
    "import uuid \n",
    "\n",
    "def my_sqrt(x):    \n",
    "    sq = np.sqrt(x)\n",
    "    return [sq*.5, sq*1.5]\n",
    "\n",
    "\n",
    "cluster_membership, tree = rc.cluster(tmp, dim=12, min_csize=None,\n",
    "                         dynmesh=False, filterfeat='tSVD', ffrange='logspace',\n",
    "                         neifactor=1, metric_clu='cosine', metric_map='cosine', \n",
    "                         savemap=False, chk=False, optimizer='tpe', clu_algo='louvain',\n",
    "                         search_candid=25, \n",
    "                         tpe_patience=12, neicap=50,\n",
    "                         neirange=my_sqrt,\n",
    "                         outpath=r'/Users/federico comitani/GitHub/sodakick/data/rc_tests/'+str(uuid.uuid1()), \n",
    "                         debug=True, gpu=False)\"\"\""
   ]
  },
  {
   "cell_type": "code",
   "execution_count": 9,
   "metadata": {},
   "outputs": [],
   "source": [
    "#[tmp.columns[x] for _, x in sorted(zip(ts.components_[4], np.arange(tmp.shape[1])))]"
   ]
  },
  {
   "cell_type": "code",
   "execution_count": 14,
   "metadata": {},
   "outputs": [
    {
     "name": "stderr",
     "output_type": "stream",
     "text": [
      "//miniconda3/lib/python3.7/site-packages/umap/umap_.py:1530: UserWarning: gradient function is not yet implemented for jaccard distance metric; inverse_transform will be unavailable\n",
      "  \"inverse_transform will be unavailable\".format(self.metric)\n"
     ]
    }
   ],
   "source": [
    "import umap\n",
    "\n",
    "mapping=umap.UMAP(metric='jaccard', n_components=2, min_dist=.5, spread=2, n_neighbors=int(np.sqrt(tmp.shape[0])/2), \\\n",
    "                                n_epochs=1000, learning_rate=0.01, \\\n",
    "                                verbose=False, random_state=32)\n",
    "\n",
    "mapping.fit(tmp.astype(float).values)\n",
    "mh=pd.DataFrame(mapping.transform(tmp.values), index=tmp.index)\n",
    "mh=(mh-mh.min())/(mh.max()-mh.min())"
   ]
  },
  {
   "cell_type": "code",
   "execution_count": 21,
   "metadata": {},
   "outputs": [
    {
     "data": {
      "text/plain": [
       "Text(0, 0.5, 'UMAP 2')"
      ]
     },
     "execution_count": 21,
     "metadata": {},
     "output_type": "execute_result"
    },
    {
     "data": {
      "image/png": "[encoded data removed]",
      "text/plain": [
       "<Figure size 720x720 with 1 Axes>"
      ]
     },
     "metadata": {},
     "output_type": "display_data"
    }
   ],
   "source": [
    "fig, ax = plt.subplots(1, 1,figsize=(10,10))\n",
    "#plt.axis('off')\n",
    "ax.set_facecolor('white')\n",
    "plt.grid(color='#aaaaaa')\n",
    "\n",
    "\n",
    "plt.scatter(mh[0],mh[1], s=50)\n",
    "\n",
    "ax.tick_params(axis='y', which='major', labelsize=0)\n",
    "ax.tick_params(axis='x', which='major', labelsize=0)\n",
    "\n",
    "ax.set_xticks(np.linspace(0,1,6))\n",
    "ax.set_xticklabels(['{:.1f}'.format(x) for x in np.linspace(0,1,6)])\n",
    "for tick in ax.xaxis.get_major_ticks():\n",
    "    tick.label.set_fontsize(20) \n",
    "plt.xlim((-.1,1.1))\n",
    "plt.xlabel('UMAP 1', fontsize=35)\n",
    "\n",
    "\n",
    "ax.set_yticks(np.linspace(0,1,6))\n",
    "ax.set_yticklabels(['{:.1f}'.format(x) for x in np.linspace(0,1,6)])\n",
    "for tick in ax.yaxis.get_major_ticks():\n",
    "    tick.label.set_fontsize(25) \n",
    "    \n",
    "plt.ylim((-.1,1.1))\n",
    "plt.ylabel('UMAP 2', fontsize=30)"
   ]
  },
  {
   "cell_type": "code",
   "execution_count": 11,
   "metadata": {},
   "outputs": [
    {
     "ename": "NameError",
     "evalue": "name 'tmp' is not defined",
     "output_type": "error",
     "traceback": [
      "\u001b[0;31m---------------------------------------------------------------------------\u001b[0m",
      "\u001b[0;31mNameError\u001b[0m                                 Traceback (most recent call last)",
      "\u001b[0;32m<ipython-input-11-e6b75d6095c2>\u001b[0m in \u001b[0;36m<module>\u001b[0;34m\u001b[0m\n\u001b[0;32m----> 1\u001b[0;31m mapping=umap.UMAP(metric='mahalanobis', n_components=2, min_dist=.5, spread=2, n_neighbors=int(np.sqrt(tmp.shape[0])/2), \\\n\u001b[0m\u001b[1;32m      2\u001b[0m                                 \u001b[0mn_epochs\u001b[0m\u001b[0;34m=\u001b[0m\u001b[0;36m1000\u001b[0m\u001b[0;34m,\u001b[0m \u001b[0mlearning_rate\u001b[0m\u001b[0;34m=\u001b[0m\u001b[0;36m0.01\u001b[0m\u001b[0;34m,\u001b[0m\u001b[0;31m \u001b[0m\u001b[0;31m\\\u001b[0m\u001b[0;34m\u001b[0m\u001b[0;34m\u001b[0m\u001b[0m\n\u001b[1;32m      3\u001b[0m                                 verbose=False, random_state=32)\n\u001b[1;32m      4\u001b[0m \u001b[0;34m\u001b[0m\u001b[0m\n\u001b[1;32m      5\u001b[0m \u001b[0mmapping\u001b[0m\u001b[0;34m.\u001b[0m\u001b[0mfit\u001b[0m\u001b[0;34m(\u001b[0m\u001b[0mtmp\u001b[0m\u001b[0;34m.\u001b[0m\u001b[0mastype\u001b[0m\u001b[0;34m(\u001b[0m\u001b[0mfloat\u001b[0m\u001b[0;34m)\u001b[0m\u001b[0;34m.\u001b[0m\u001b[0mvalues\u001b[0m\u001b[0;34m)\u001b[0m\u001b[0;34m\u001b[0m\u001b[0;34m\u001b[0m\u001b[0m\n",
      "\u001b[0;31mNameError\u001b[0m: name 'tmp' is not defined"
     ]
    }
   ],
   "source": [
    "mapping=umap.UMAP(metric='mahalanobis', n_components=2, min_dist=.5, spread=2, n_neighbors=int(np.sqrt(tmp.shape[0])/2), \\\n",
    "                                n_epochs=1000, learning_rate=0.01, \\\n",
    "                                verbose=False, random_state=32)\n",
    "\n",
    "mapping.fit(tmp.astype(float).values)\n",
    "mh2=pd.DataFrame(mapping.transform(tmp.values), index=tmp.index)\n",
    "mh2=(mh2-mh2.min())/(mh2.max()-mh2.min())"
   ]
  },
  {
   "cell_type": "code",
   "execution_count": 13,
   "metadata": {},
   "outputs": [
    {
     "data": {
      "text/plain": [
       "Index(['player', 'season', 'birth_year', 'nationality', 'squad', 'league',\n",
       "       'position', 'games', 'games_starts', 'minutes',\n",
       "       ...\n",
       "       'psxg', 'psnpxg_per_shot_on_target_against', 'psxg_net',\n",
       "       'passes_pct_launched', 'pct_passes_launched', 'passes_length_avg',\n",
       "       'pct_goal_kicks_launched', 'goal_kick_length_avg',\n",
       "       'crosses_stopped_pct', 'avg_distance_def_actions'],\n",
       "      dtype='object', length=172)"
      ]
     },
     "execution_count": 13,
     "metadata": {},
     "output_type": "execute_result"
    }
   ],
   "source": [
    "all_players.columns"
   ]
  },
  {
   "cell_type": "code",
   "execution_count": null,
   "metadata": {},
   "outputs": [],
   "source": [
    "fig, ax = plt.subplots(1, 1,figsize=(10,10))\n",
    "#plt.axis('off')\n",
    "ax.set_facecolor('white')\n",
    "plt.grid(color='#aaaaaa')\n",
    "\n",
    "\n",
    "plt.scatter(mh2[0],mh2[1], s=50)\n",
    "\n",
    "ax.tick_params(axis='y', which='major', labelsize=0)\n",
    "ax.tick_params(axis='x', which='major', labelsize=0)\n",
    "\n",
    "ax.set_xticks(np.linspace(0,1,6))\n",
    "ax.set_xticklabels(['{:.1f}'.format(x) for x in np.linspace(0,1,6)])\n",
    "for tick in ax.xaxis.get_major_ticks():\n",
    "    tick.label.set_fontsize(20) \n",
    "plt.xlim((-.1,1.1))\n",
    "plt.xlabel('UMAP 1', fontsize=35)\n",
    "\n",
    "\n",
    "ax.set_yticks(np.linspace(0,1,6))\n",
    "ax.set_yticklabels(['{:.1f}'.format(x) for x in np.linspace(0,1,6)])\n",
    "for tick in ax.yaxis.get_major_ticks():\n",
    "    tick.label.set_fontsize(25) \n",
    "    \n",
    "plt.ylim((-.1,1.1))\n",
    "plt.ylabel('UMAP 2', fontsize=30)"
   ]
  },
  {
   "cell_type": "code",
   "execution_count": null,
   "metadata": {},
   "outputs": [],
   "source": [
    "# OLD\n",
    "#rc_out_feat=pd.read_hdf('/Users/federico comitani/GitHub/sodakick/data/rc_byfeature_lou_tpe3.h5')\n",
    "dict_names={'0_0': 'ball control',\n",
    "            '0_1': 'aggressivity',\n",
    "            '0_2': 'goal keeping',\n",
    "            '0_3': 'support',\n",
    "            '0_4': 'goal keeping 2',\n",
    "            '0_0_0': 'defense', #tackles\n",
    "            '0_0_1': 'aerials', #and blocks, clearances\n",
    "            '0_0_2': 'passes',\n",
    "            '0_0_3': 'long passes',\n",
    "            '0_0_4': 'fouls', #and pressure\n",
    "            '0_0_5': 'direction', #carry+touches #ball controly this and 0_0 mobility\n",
    "            '0_0_6': 'border control', #\n",
    "            '0_0_7': 'short passes',\n",
    "            '0_0_8': 'percent passes',\n",
    "            '0_0_9': 'progressive actions',\n",
    "            '0_1_0': 'aggressivity',\n",
    "            '0_1_1': 'percent aggressivity',\n",
    "            '0_1_0_0': 'fouled actions',\n",
    "            '0_1_0_1': 'dribbles',\n",
    "            '0_1_0_2': 'penalty area actions',\n",
    "            '0_1_0_3': 'shots',\n",
    "            '0_1_0_4': 'penalties',\n",
    "            '0_2_0':   'saves gk',\n",
    "            '0_2_1':   'actions against gk',\n",
    "            '0_2_2':   'clean sheets gk',\n",
    "            '0_2_3':   'penalties gk',\n",
    "            '0_2_5':   'passes gk',\n",
    "            '0_2_5':   'passes launched gk',\n",
    "            '0_3_0':   'passes into penalty area',\n",
    "            '0_3_1':   'assists',\n",
    "            '0_3_0_0':   'shot creating actions',\n",
    "            '0_3_0_0':   'passes into penalty area',\n",
    "            '0_3_0_1':   'crosses area',\n",
    "            '0_4_0':   'percent saves gk',\n",
    "            '0_4_1':   'percent passes gk',        \n",
    "           }"
   ]
  }
 ],
 "metadata": {
  "kernelspec": {
   "display_name": "Python 3",
   "language": "python",
   "name": "python3"
  },
  "language_info": {
   "codemirror_mode": {
    "name": "ipython",
    "version": 3
   },
   "file_extension": ".py",
   "mimetype": "text/x-python",
   "name": "python",
   "nbconvert_exporter": "python",
   "pygments_lexer": "ipython3",
   "version": "3.7.6"
  }
 },
 "nbformat": 4,
 "nbformat_minor": 4
}
