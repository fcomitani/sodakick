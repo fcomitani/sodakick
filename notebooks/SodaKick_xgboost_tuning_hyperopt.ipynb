{
 "cells": [
  {
   "cell_type": "code",
   "execution_count": 1,
   "metadata": {},
   "outputs": [],
   "source": [
    "import pandas as pd\n",
    "import numpy as np\n",
    "import re\n",
    "import sys, getopt, os\n",
    "import csv\n",
    "import pickle\n",
    "import copy\n",
    "\n",
    "pd.set_option('display.max_rows', 500)\n",
    "\n",
    "import matplotlib as mpl\n",
    "import matplotlib.pyplot as plt\n",
    "from matplotlib.colors import ListedColormap\n",
    "%matplotlib inline  \n",
    "import seaborn as sns\n",
    "sns.set_style(\"darkgrid\")\n",
    "\n",
    "%run SodaKick_download_functions.ipynb"
   ]
  },
  {
   "cell_type": "code",
   "execution_count": 2,
   "metadata": {},
   "outputs": [],
   "source": [
    "#note xgboost can handle missing values internally\n",
    "#list of parameters:\n",
    "#https://xgboost.readthedocs.io/en/latest/parameter.html\n",
    "#https://shengyg.github.io/repository/machine%20learning/2017/02/25/Complete-Guide-to-Parameter-Tuning-xgboost.html\n",
    "\n",
    "#custom obj functions\n",
    "#https://xgboost.readthedocs.io/en/latest/tutorials/custom_metric_obj.html\n",
    "#https://xgboost.readthedocs.io/en/latest/parameter.html#learning-task-parameters"
   ]
  },
  {
   "cell_type": "code",
   "execution_count": 3,
   "metadata": {},
   "outputs": [],
   "source": [
    "import sklearn.datasets\n",
    "import sklearn.metrics\n",
    "from sklearn.model_selection import train_test_split\n",
    "\n",
    "from sklearn.model_selection import RepeatedKFold, KFold\n",
    "from sklearn.multioutput import MultiOutputRegressor\n",
    "\n",
    "import xgboost as xgb\n",
    "from xgboost import XGBRegressor\n",
    "\n",
    "from ray import tune\n",
    "from ray.tune.schedulers import ASHAScheduler\n",
    "from ray.tune.integration.xgboost import TuneReportCheckpointCallback\n",
    "from functools import partial \n",
    "from ray.tune.suggest.hyperopt import HyperOptSearch\n",
    "\n",
    "from sklearn.model_selection import cross_val_score\n",
    "#https://docs.ray.io/en/master/tune/tutorials/tune-xgboost.html\n",
    "\n",
    "from hyperopt import hp"
   ]
  },
  {
   "cell_type": "code",
   "execution_count": 4,
   "metadata": {},
   "outputs": [],
   "source": [
    "#https://towardsdatascience.com/quirky-keras-custom-and-asymmetric-loss-functions-for-keras-in-r-a8b5271171fe\n",
    "def WSE(output, target, a=1.5, b=.5):\n",
    "    loss = torch.mean(a*torch.minimum(torch.zeros(output.shape[1]),output - target)**2+\\\n",
    "                      b*torch.maximum(torch.zeros(output.shape[1]),output - target)**2)      \n",
    "    return loss\n",
    "\n",
    "def WSEl1(output, target, a=1.5, b=.5):\n",
    "    loss = torch.mean(a*torch.abs(torch.minimum(torch.zeros(output.shape[1]),output - target))+\\\n",
    "                      b*torch.abs(torch.maximum(torch.zeros(output.shape[1]),output - target)))      \n",
    "    return loss\n",
    "\n",
    "def WSE2(output, target, a=1.5, b=.5):\n",
    "    loss = np.mean(a*np.minimum(np.zeros(output.shape[0]),output - target)**2+\\\n",
    "                      b*np.maximum(np.zeros(output.shape[0]),output - target)**2)      \n",
    "    return loss\n",
    "\n",
    "def WSEl12(output, target, a=1.5, b=.5):\n",
    "    loss = np.mean(a*np.abs(np.minimum(np.zeros(output.shape[0]),output - target))+\\\n",
    "                      b*np.abs(np.maximum(np.zeros(output.shape[0]),output - target)))      \n",
    "    return loss"
   ]
  },
  {
   "cell_type": "code",
   "execution_count": 5,
   "metadata": {},
   "outputs": [
    {
     "name": "stderr",
     "output_type": "stream",
     "text": [
      "//miniconda3/lib/python3.7/site-packages/ipykernel_launcher.py:22: RuntimeWarning: invalid value encountered in true_divide\n"
     ]
    }
   ],
   "source": [
    "from sklearn import preprocessing\n",
    "\n",
    "    \n",
    "with open(r'/Users/federico comitani/GitHub/sodakick/data/10leagues_inp_2a.pkl', 'rb') as pk:\n",
    "    inp=pickle.load(pk)\n",
    "with open(r'/Users/federico comitani/GitHub/sodakick/data/10leagues_out_2a.pkl', 'rb') as pk:\n",
    "    out=pickle.load(pk)     \n",
    "    \n",
    "with open(r'/Users/federico comitani/GitHub/sodakick/data/10leagues_inp_2b.pkl', 'rb') as pk:\n",
    "    inpb=pickle.load(pk)\n",
    "with open(r'/Users/federico comitani/GitHub/sodakick/data/10leagues_out_2b.pkl', 'rb') as pk:\n",
    "    outb=pickle.load(pk)     \n",
    "\n",
    "inp=np.concatenate([inp,inpb])\n",
    "out=np.concatenate([out,outb])\n",
    "\n",
    "def normalize_mins(vec):\n",
    "    for i in range(vec.shape[0]):\n",
    "        vec[i][::8]=vec[i][::8]/90\n",
    "\n",
    "def NormalizeData(data):\n",
    "    return (data - np.min(data)) / (np.max(data) - np.min(data))\n",
    "\n",
    "def NormalizeMatrix(data):   \n",
    "    for i in range(data.shape[1]):\n",
    "        data[:,i] = NormalizeData(data[:,i])\n",
    "        \n",
    "NormalizeMatrix(inp)\n",
    "np.nan_to_num(inp, copy=False)\n",
    "\n",
    "normalize_mins(out)\n",
    "\n",
    "#scaler = preprocessing.StandardScaler().fit(inp)\n",
    "#inp = scaler.transform(inp)"
   ]
  },
  {
   "cell_type": "code",
   "execution_count": 6,
   "metadata": {},
   "outputs": [],
   "source": [
    "from typing import Tuple\n",
    "\n",
    "def WSE(predt: np.ndarray, dtrain: xgb.DMatrix) -> Tuple[str, float]:\n",
    "    \n",
    "    target = dtrain.get_label()\n",
    "    predt[predt < -1] = -1 + 1e-6\n",
    "    \n",
    "    a=1.5\n",
    "    b=.5\n",
    "    \n",
    "    elements = a*np.minimum(np.zeros(len(predt)),predt - target)**2+\\\n",
    "                      b*np.maximum(np.zeros(len(predt)),predt - target)**2\n",
    "    \n",
    "    return 'WSE', float(np.sqrt(np.sum(elements) / len(target)))"
   ]
  },
  {
   "cell_type": "code",
   "execution_count": 7,
   "metadata": {},
   "outputs": [],
   "source": [
    "\"\"\"from sklearn.metrics import mean_squared_error\n",
    "\n",
    "def train_xgb(config, col=0):\n",
    "    \n",
    "    train_x, test_x, train_y, test_y = train_test_split(\n",
    "         inp, out[:,col], test_size=0.2)\n",
    "    train_set = xgb.DMatrix(train_x, label=train_y)\n",
    "    test_set = xgb.DMatrix(test_x, label=test_y)  \n",
    "    \n",
    "    results = {}\n",
    "    xgb.train(\n",
    "         config,\n",
    "         train_set,\n",
    "         evals=[(test_set, \"eval\")],\n",
    "         evals_result=results,\n",
    "         verbose_eval=False,\n",
    "         callbacks=[TuneReportCheckpointCallback(filename=\"model.xgb\")])\n",
    "    \n",
    "    #error = results[\"eval\"][\"error\"][-1]\n",
    "    rmse = results[\"eval\"][\"rmse\"][-1]\n",
    "    tune.report(rmse=rmse, done=True)\n",
    "    \n",
    "def get_best_model_checkpoint(analysis):\n",
    "    best_bst = xgb.Booster()\n",
    "    best_bst.load_model(os.path.join(analysis.best_checkpoint, \"model.xgb\"))\n",
    "    #error = analysis.best_result[\"eval-error\"]\n",
    "    rmse = analysis.best_result[\"eval-rmse\"]\n",
    "    print(f\"Best model parameters: {analysis.best_config}\")\n",
    "    #print(f\"Best model total error: {error:.4f}\")\n",
    "    print(f\"Best model rmse: {rmse:.4f}\")\n",
    "    \n",
    "    return best_bst\"\"\"\n",
    "\n",
    "search_space = {\n",
    " \"n_estimators\": 100,\n",
    " \"max_depth\": 1+hp.randint('max_depth', 14),\n",
    " \"min_child_weight\": hp.choice(\"min_child_weight\",[1, 2, 3, 4, 5]),\n",
    " \"subsample\": hp.choice(\"subsample\",np.linspace(.5,.9,5)),\n",
    " \"eta\": hp.choice(\"eta\",[1e-4, 1e-3, 1e-2, 1e-1]),\n",
    " \"colsample_bytree\": hp.choice(\"colsample_bytree\",np.linspace(0,.9,10)),\n",
    " \"alpha\": hp.randint(\"alpha\", 20),\n",
    " \"lambda\": hp.randint(\"lambda\", 10),\n",
    " \"gamma\" : hp.choice(\"gamma\",np.linspace(0,.9,10)),\n",
    " \"objective\": \"reg:pseudohubererror\",\n",
    " \"eval_metric\": \"rmse\", \n",
    " \"learning_rate\": 1e-1, \n",
    " }\n"
   ]
  },
  {
   "cell_type": "code",
   "execution_count": 8,
   "metadata": {},
   "outputs": [
    {
     "data": {
      "text/plain": [
       "<hyperopt.pyll.base.Apply at 0x1331d5cd0>"
      ]
     },
     "execution_count": 8,
     "metadata": {},
     "output_type": "execute_result"
    }
   ],
   "source": [
    "1+hp.randint('max_depth', 14)"
   ]
  },
  {
   "cell_type": "code",
   "execution_count": 1,
   "metadata": {},
   "outputs": [
    {
     "ename": "NameError",
     "evalue": "name 'hp' is not defined",
     "output_type": "error",
     "traceback": [
      "\u001b[0;31m---------------------------------------------------------------------------\u001b[0m",
      "\u001b[0;31mNameError\u001b[0m                                 Traceback (most recent call last)",
      "\u001b[0;32m<ipython-input-1-f9a4cce0b861>\u001b[0m in \u001b[0;36m<module>\u001b[0;34m\u001b[0m\n\u001b[1;32m      1\u001b[0m search_space = {\n\u001b[1;32m      2\u001b[0m  \u001b[0;34m\"n_estimators\"\u001b[0m\u001b[0;34m:\u001b[0m \u001b[0;36m100\u001b[0m\u001b[0;34m,\u001b[0m\u001b[0;34m\u001b[0m\u001b[0;34m\u001b[0m\u001b[0m\n\u001b[0;32m----> 3\u001b[0;31m  \u001b[0;34m\"max_depth\"\u001b[0m\u001b[0;34m:\u001b[0m \u001b[0;36m2\u001b[0m\u001b[0;34m+\u001b[0m\u001b[0mhp\u001b[0m\u001b[0;34m.\u001b[0m\u001b[0mrandint\u001b[0m\u001b[0;34m(\u001b[0m\u001b[0;34m'max_depth'\u001b[0m\u001b[0;34m,\u001b[0m \u001b[0;36m13\u001b[0m\u001b[0;34m)\u001b[0m\u001b[0;34m,\u001b[0m\u001b[0;34m\u001b[0m\u001b[0;34m\u001b[0m\u001b[0m\n\u001b[0m\u001b[1;32m      4\u001b[0m  \u001b[0;34m\"min_child_weight\"\u001b[0m\u001b[0;34m:\u001b[0m \u001b[0mhp\u001b[0m\u001b[0;34m.\u001b[0m\u001b[0mchoice\u001b[0m\u001b[0;34m(\u001b[0m\u001b[0;34m\"min_child_weight\"\u001b[0m\u001b[0;34m,\u001b[0m\u001b[0;34m[\u001b[0m\u001b[0;36m1\u001b[0m\u001b[0;34m,\u001b[0m \u001b[0;36m2\u001b[0m\u001b[0;34m,\u001b[0m \u001b[0;36m3\u001b[0m\u001b[0;34m,\u001b[0m \u001b[0;36m4\u001b[0m\u001b[0;34m,\u001b[0m \u001b[0;36m5\u001b[0m\u001b[0;34m]\u001b[0m\u001b[0;34m)\u001b[0m\u001b[0;34m,\u001b[0m\u001b[0;34m\u001b[0m\u001b[0;34m\u001b[0m\u001b[0m\n\u001b[1;32m      5\u001b[0m  \u001b[0;34m\"subsample\"\u001b[0m\u001b[0;34m:\u001b[0m \u001b[0mhp\u001b[0m\u001b[0;34m.\u001b[0m\u001b[0mchoice\u001b[0m\u001b[0;34m(\u001b[0m\u001b[0;34m\"subsample\"\u001b[0m\u001b[0;34m,\u001b[0m\u001b[0mnp\u001b[0m\u001b[0;34m.\u001b[0m\u001b[0mlinspace\u001b[0m\u001b[0;34m(\u001b[0m\u001b[0;36m.5\u001b[0m\u001b[0;34m,\u001b[0m\u001b[0;36m.9\u001b[0m\u001b[0;34m,\u001b[0m\u001b[0;36m5\u001b[0m\u001b[0;34m)\u001b[0m\u001b[0;34m)\u001b[0m\u001b[0;34m,\u001b[0m\u001b[0;34m\u001b[0m\u001b[0;34m\u001b[0m\u001b[0m\n",
      "\u001b[0;31mNameError\u001b[0m: name 'hp' is not defined"
     ]
    }
   ],
   "source": [
    "search_space = {\n",
    " \"n_estimators\": 100,\n",
    " \"max_depth\": 2+hp.randint('max_depth', 13),\n",
    " \"min_child_weight\": hp.choice(\"min_child_weight\",[1, 2, 3, 4, 5]),\n",
    " \"subsample\": hp.choice(\"subsample\",np.linspace(.5,.9,5)),\n",
    " \"eta\": hp.choice(\"eta\",[1e-2, 5e-2, 1e-1, 5e-1, 3e-1]),\n",
    " \"colsample_bytree\": hp.choice(\"colsample_bytree\",np.linspace(0.1,.9,9)),\n",
    " \"alpha\": hp.randint(\"alpha\", 5),\n",
    " \"lambda\": hp.randint(\"lambda\", 10),\n",
    " \"gamma\" : hp.choice(\"gamma\",np.linspace(0,.9,10)),\n",
    " \"objective\": \"reg:pseudohubererror\",\n",
    " \"eval_metric\": \"rmse\", \n",
    " \"learning_rate\": 1e-1, \n",
    " }\n",
    "\n",
    "x_train, x_test, y_train, y_test = train_test_split(\n",
    "     inp, out, test_size=0.5, shuffle=True)\n",
    "\n",
    "x_train, x_test, y_train, y_test = train_test_split(\n",
    "     x_train, y_train, test_size=0.3, shuffle=True)\n",
    "\n",
    "def train_xgb(config, col=0):\n",
    "    \n",
    "    model = XGBRegressor(**config)\n",
    "    eval_set = [(x_train, y_train[:,col]),(x_test, y_test[:,col])]\n",
    "    model.fit(x_train, y_train[:,col], eval_metric=\"rmse\", eval_set=eval_set, early_stopping_rounds = 5, verbose=False)    \n",
    "    \n",
    "    evals_result = model.evals_result()\n",
    "    \n",
    "    #preds = model.predict(x_test,ntree_limit=model.get_booster().best_ntree_limit)    \n",
    "    tune.report(rmse = evals_result['validation_1']['rmse'][-1], done=True)    \n",
    "\n",
    "def tune_xgb(search_space, col):\n",
    "    \n",
    "    search_alg = HyperOptSearch(space=search_space, metric=\"rmse\", mode=\"min\")\n",
    "\n",
    "    # This will enable aggressive early stopping of bad trials.\n",
    "    #scheduler = ASHAScheduler(\n",
    "    #    max_t=20,  # 10 training iterations\n",
    "    #    grace_period=5,\n",
    "    #    reduction_factor=2)\n",
    "\n",
    "    analysis = tune.run(\n",
    "        partial(train_xgb, col=col),\n",
    "        search_alg=search_alg,\n",
    "        resources_per_trial={\"cpu\": 1},\n",
    "        num_samples=100,\n",
    "        #scheduler=scheduler,\n",
    "        verbose=1,\n",
    "        metric=\"rmse\", mode=\"min\")\n",
    "\n",
    "    return analysis"
   ]
  },
  {
   "cell_type": "code",
   "execution_count": 10,
   "metadata": {},
   "outputs": [
    {
     "data": {
      "text/html": [
       "== Status ==<br>Memory usage on this node: 9.0/16.0 GiB<br>Using FIFO scheduling algorithm.<br>Resources requested: 0/8 CPUs, 0/0 GPUs, 0.0/4.12 GiB heap, 0.0/2.06 GiB objects<br>Current best trial: 7133626c with rmse=1.39442 and parameters={'alpha': 0, 'colsample_bytree': 0.8, 'eta': 0.05, 'eval_metric': 'rmse', 'gamma': 0.1, 'lambda': 6, 'learning_rate': 0.1, 'max_depth': 9, 'min_child_weight': 3, 'n_estimators': 100, 'objective': 'reg:pseudohubererror', 'subsample': 0.9}<br>Result logdir: /Users/federico comitani/ray_results/DEFAULT_2021-06-02_09-39-48<br>Number of trials: 100/100 (100 TERMINATED)<br><br>"
      ],
      "text/plain": [
       "<IPython.core.display.HTML object>"
      ]
     },
     "metadata": {},
     "output_type": "display_data"
    },
    {
     "name": "stderr",
     "output_type": "stream",
     "text": [
      "2021-06-02 09:53:12,732\tINFO tune.py:549 -- Total run time: 804.02 seconds (803.59 seconds for the tuning loop).\n"
     ]
    },
    {
     "name": "stdout",
     "output_type": "stream",
     "text": [
      "<ray.tune.analysis.experiment_analysis.ExperimentAnalysis object at 0x141882190>\n",
      "\n",
      "\n"
     ]
    }
   ],
   "source": [
    "#best_bst=[]\n",
    "best_cfg=[]\n",
    "for i in range(8):\n",
    "    print('Feature #: '+str(i))\n",
    "    analysis = tune_xgb(search_space, i)\n",
    "    print(analysis)\n",
    "    best_cfg.append(analysis.get_best_config())\n",
    "    #best_cfg[-1]['file']=analysis.best_checkpoint\n",
    "    #best_bst.append(get_best_model_checkpoint(analysis))\n",
    "    print('\\n')"
   ]
  },
  {
   "cell_type": "code",
   "execution_count": 12,
   "metadata": {},
   "outputs": [
    {
     "data": {
      "text/html": [
       "<div>\n",
       "<style scoped>\n",
       "    .dataframe tbody tr th:only-of-type {\n",
       "        vertical-align: middle;\n",
       "    }\n",
       "\n",
       "    .dataframe tbody tr th {\n",
       "        vertical-align: top;\n",
       "    }\n",
       "\n",
       "    .dataframe thead th {\n",
       "        text-align: right;\n",
       "    }\n",
       "</style>\n",
       "<table border=\"1\" class=\"dataframe\">\n",
       "  <thead>\n",
       "    <tr style=\"text-align: right;\">\n",
       "      <th></th>\n",
       "      <th>alpha</th>\n",
       "      <th>colsample_bytree</th>\n",
       "      <th>eta</th>\n",
       "      <th>eval_metric</th>\n",
       "      <th>gamma</th>\n",
       "      <th>lambda</th>\n",
       "      <th>learning_rate</th>\n",
       "      <th>max_depth</th>\n",
       "      <th>min_child_weight</th>\n",
       "      <th>n_estimators</th>\n",
       "      <th>objective</th>\n",
       "      <th>subsample</th>\n",
       "    </tr>\n",
       "  </thead>\n",
       "  <tbody>\n",
       "    <tr>\n",
       "      <th>0</th>\n",
       "      <td>0</td>\n",
       "      <td>0.3</td>\n",
       "      <td>0.3</td>\n",
       "      <td>rmse</td>\n",
       "      <td>0.0</td>\n",
       "      <td>6</td>\n",
       "      <td>0.1</td>\n",
       "      <td>9</td>\n",
       "      <td>1</td>\n",
       "      <td>100</td>\n",
       "      <td>reg:pseudohubererror</td>\n",
       "      <td>0.6</td>\n",
       "    </tr>\n",
       "    <tr>\n",
       "      <th>1</th>\n",
       "      <td>0</td>\n",
       "      <td>0.1</td>\n",
       "      <td>0.05</td>\n",
       "      <td>rmse</td>\n",
       "      <td>0.6</td>\n",
       "      <td>2</td>\n",
       "      <td>0.1</td>\n",
       "      <td>5</td>\n",
       "      <td>1</td>\n",
       "      <td>100</td>\n",
       "      <td>reg:pseudohubererror</td>\n",
       "      <td>0.5</td>\n",
       "    </tr>\n",
       "    <tr>\n",
       "      <th>2</th>\n",
       "      <td>3</td>\n",
       "      <td>0.4</td>\n",
       "      <td>0.01</td>\n",
       "      <td>rmse</td>\n",
       "      <td>0.9</td>\n",
       "      <td>0</td>\n",
       "      <td>0.1</td>\n",
       "      <td>3</td>\n",
       "      <td>3</td>\n",
       "      <td>100</td>\n",
       "      <td>reg:pseudohubererror</td>\n",
       "      <td>0.6</td>\n",
       "    </tr>\n",
       "    <tr>\n",
       "      <th>3</th>\n",
       "      <td>1</td>\n",
       "      <td>0.4</td>\n",
       "      <td>0.1</td>\n",
       "      <td>rmse</td>\n",
       "      <td>0.1</td>\n",
       "      <td>5</td>\n",
       "      <td>0.1</td>\n",
       "      <td>7</td>\n",
       "      <td>1</td>\n",
       "      <td>100</td>\n",
       "      <td>reg:pseudohubererror</td>\n",
       "      <td>0.9</td>\n",
       "    </tr>\n",
       "    <tr>\n",
       "      <th>4</th>\n",
       "      <td>1</td>\n",
       "      <td>0.2</td>\n",
       "      <td>0.3</td>\n",
       "      <td>rmse</td>\n",
       "      <td>0.0</td>\n",
       "      <td>0</td>\n",
       "      <td>0.1</td>\n",
       "      <td>9</td>\n",
       "      <td>1</td>\n",
       "      <td>100</td>\n",
       "      <td>reg:pseudohubererror</td>\n",
       "      <td>0.9</td>\n",
       "    </tr>\n",
       "    <tr>\n",
       "      <th>5</th>\n",
       "      <td>0</td>\n",
       "      <td>0.7</td>\n",
       "      <td>0.5</td>\n",
       "      <td>rmse</td>\n",
       "      <td>0.1</td>\n",
       "      <td>9</td>\n",
       "      <td>0.1</td>\n",
       "      <td>4</td>\n",
       "      <td>1</td>\n",
       "      <td>100</td>\n",
       "      <td>reg:pseudohubererror</td>\n",
       "      <td>0.5</td>\n",
       "    </tr>\n",
       "    <tr>\n",
       "      <th>6</th>\n",
       "      <td>0</td>\n",
       "      <td>0.3</td>\n",
       "      <td>0.1</td>\n",
       "      <td>rmse</td>\n",
       "      <td>0.3</td>\n",
       "      <td>2</td>\n",
       "      <td>0.1</td>\n",
       "      <td>9</td>\n",
       "      <td>4</td>\n",
       "      <td>100</td>\n",
       "      <td>reg:pseudohubererror</td>\n",
       "      <td>0.8</td>\n",
       "    </tr>\n",
       "    <tr>\n",
       "      <th>7</th>\n",
       "      <td>0</td>\n",
       "      <td>0.8</td>\n",
       "      <td>0.05</td>\n",
       "      <td>rmse</td>\n",
       "      <td>0.1</td>\n",
       "      <td>6</td>\n",
       "      <td>0.1</td>\n",
       "      <td>9</td>\n",
       "      <td>3</td>\n",
       "      <td>100</td>\n",
       "      <td>reg:pseudohubererror</td>\n",
       "      <td>0.9</td>\n",
       "    </tr>\n",
       "  </tbody>\n",
       "</table>\n",
       "</div>"
      ],
      "text/plain": [
       "  alpha colsample_bytree   eta eval_metric gamma lambda learning_rate  \\\n",
       "0     0              0.3   0.3        rmse   0.0      6           0.1   \n",
       "1     0              0.1  0.05        rmse   0.6      2           0.1   \n",
       "2     3              0.4  0.01        rmse   0.9      0           0.1   \n",
       "3     1              0.4   0.1        rmse   0.1      5           0.1   \n",
       "4     1              0.2   0.3        rmse   0.0      0           0.1   \n",
       "5     0              0.7   0.5        rmse   0.1      9           0.1   \n",
       "6     0              0.3   0.1        rmse   0.3      2           0.1   \n",
       "7     0              0.8  0.05        rmse   0.1      6           0.1   \n",
       "\n",
       "  max_depth min_child_weight n_estimators             objective subsample  \n",
       "0         9                1          100  reg:pseudohubererror       0.6  \n",
       "1         5                1          100  reg:pseudohubererror       0.5  \n",
       "2         3                3          100  reg:pseudohubererror       0.6  \n",
       "3         7                1          100  reg:pseudohubererror       0.9  \n",
       "4         9                1          100  reg:pseudohubererror       0.9  \n",
       "5         4                1          100  reg:pseudohubererror       0.5  \n",
       "6         9                4          100  reg:pseudohubererror       0.8  \n",
       "7         9                3          100  reg:pseudohubererror       0.9  "
      ]
     },
     "execution_count": 12,
     "metadata": {},
     "output_type": "execute_result"
    }
   ],
   "source": [
    "stats=pd.concat([pd.Series(bc) for bc in best_cfg], axis=1).T\n",
    "stats"
   ]
  },
  {
   "cell_type": "markdown",
   "metadata": {},
   "source": [
    "# K fold on single column because why not"
   ]
  },
  {
   "cell_type": "code",
   "execution_count": 13,
   "metadata": {},
   "outputs": [],
   "source": [
    "from sklearn.model_selection import KFold\n",
    "\n",
    "def runKfold(indata, outdata, num, best_cfg=best_cfg):\n",
    "    \n",
    "    kf = KFold(n_splits=5, shuffle=True)\n",
    "    kf.get_n_splits(indata)\n",
    "    \n",
    "    tmpparms = best_cfg[num]\n",
    "    tmpparms.pop(\"file\", None)    \n",
    "    tmpparms['n_estimators']=1000\n",
    "    print(tmpparms)\n",
    "        \n",
    "    ec,losses, errors = [], [], []\n",
    "    rmses = []\n",
    "    results=[]\n",
    "    \n",
    "    for train_index, test_index in kf.split(indata):        \n",
    "        x_train, y_train, x_test, y_test = indata[train_index], outdata[train_index], indata[test_index], outdata[test_index]\n",
    "\n",
    "        train_set = xgb.DMatrix(x_train, label=y_train[:,i])\n",
    "        test_set = xgb.DMatrix(x_test, label=y_test[:,i])\n",
    "    \n",
    "        model=XGBRegressor(**tmpparms)\n",
    "        model.fit(x_train, y_train[:,i],\n",
    "            eval_set = [(x_train, y_train[:,i]),(x_test, y_test[:,i])],\n",
    "            eval_metric = 'rmse',\n",
    "            early_stopping_rounds = 10, verbose=False)\n",
    "        \n",
    "        results.append(model.evals_result())\n",
    "        best_iteration = model.get_booster().best_ntree_limit\n",
    "        \n",
    "        #pred = model.predict(x_test, ntree_limit=best_iteration)\n",
    "        #errors.append(np.mean(pred-y_test[:,i]))\n",
    "\n",
    "        ec.append(model.best_iteration)\n",
    "        losses.append(model.get_booster().best_score)\n",
    "        #rmses.append(results[-1]['validation_1']['rmse'][-1])\n",
    "    \n",
    "    print('Num: {:.3f}+/-{:.3f}'.format(np.mean(ec),np.std(ec)))\n",
    "    print('KFold Result: {:.3f}+/-{:.3f}'.format(np.mean([np.mean(x) for x in losses]),np.std([np.mean(x) for x in losses])))\n",
    "    #print('Error Result: {:.3f}+/-{:.3f}'.format(np.mean([np.mean(x) for x in errors]),np.std([np.mean(x) for x in errors])))\n",
    "    #print('RMSE Result: {:.3f}+/-{:.3f}'.format(np.mean(rmses),np.std(rmses)))\n",
    "\n",
    "    # plot log loss\n",
    "    fig, ax = plt.subplots()\n",
    "    for rs in results:\n",
    "        ax.plot(range(len(rs['validation_0']['rmse'])), rs['validation_0']['rmse'], label='Train', color='blue')\n",
    "        ax.plot(range(len(rs['validation_1']['rmse'])), rs['validation_1']['rmse'], label='Test', color='orange')\n",
    "    plt.show()\n",
    "    \n",
    "    return np.mean([np.mean(x) for x in losses]), np.mean(ec)"
   ]
  },
  {
   "cell_type": "code",
   "execution_count": 14,
   "metadata": {},
   "outputs": [
    {
     "name": "stdout",
     "output_type": "stream",
     "text": [
      "Feature #: 0\n",
      "{'alpha': 0, 'colsample_bytree': 0.30000000000000004, 'eta': 0.3, 'eval_metric': 'rmse', 'gamma': 0.0, 'lambda': 6, 'learning_rate': 0.1, 'max_depth': 9, 'min_child_weight': 1, 'n_estimators': 1000, 'objective': 'reg:pseudohubererror', 'subsample': 0.6}\n"
     ]
    },
    {
     "name": "stderr",
     "output_type": "stream",
     "text": [
      "//miniconda3/lib/python3.7/site-packages/xgboost/data.py:106: UserWarning: Use subset (sliced data) of np.ndarray is not recommended because it will generate extra copies and increase memory consumption\n",
      "  \"because it will generate extra copies and increase \" +\n"
     ]
    },
    {
     "name": "stdout",
     "output_type": "stream",
     "text": [
      "Num: 412.600+/-102.975\n",
      "KFold Result: 0.024+/-0.017\n",
      "RMSE Result: 0.024+/-0.017\n"
     ]
    },
    {
     "data": {
      "image/png": "[encoded data removed]",
      "text/plain": [
       "<Figure size 432x288 with 1 Axes>"
      ]
     },
     "metadata": {},
     "output_type": "display_data"
    },
    {
     "name": "stdout",
     "output_type": "stream",
     "text": [
      "\n",
      "Feature #: 1\n",
      "{'alpha': 0, 'colsample_bytree': 0.1, 'eta': 0.05, 'eval_metric': 'rmse', 'gamma': 0.6000000000000001, 'lambda': 2, 'learning_rate': 0.1, 'max_depth': 5, 'min_child_weight': 1, 'n_estimators': 1000, 'objective': 'reg:pseudohubererror', 'subsample': 0.5}\n",
      "Num: 72.400+/-11.482\n",
      "KFold Result: 0.012+/-0.013\n",
      "RMSE Result: 0.012+/-0.013\n"
     ]
    },
    {
     "data": {
      "image/png": "[encoded data removed]",
      "text/plain": [
       "<Figure size 432x288 with 1 Axes>"
      ]
     },
     "metadata": {},
     "output_type": "display_data"
    },
    {
     "name": "stdout",
     "output_type": "stream",
     "text": [
      "\n",
      "Feature #: 2\n",
      "{'alpha': 3, 'colsample_bytree': 0.4, 'eta': 0.01, 'eval_metric': 'rmse', 'gamma': 0.9, 'lambda': 0, 'learning_rate': 0.1, 'max_depth': 3, 'min_child_weight': 3, 'n_estimators': 1000, 'objective': 'reg:pseudohubererror', 'subsample': 0.6}\n",
      "Num: 61.600+/-12.060\n",
      "KFold Result: 0.050+/-0.008\n",
      "RMSE Result: 0.050+/-0.008\n"
     ]
    },
    {
     "data": {
      "image/png": "[encoded data removed]",
      "text/plain": [
       "<Figure size 432x288 with 1 Axes>"
      ]
     },
     "metadata": {},
     "output_type": "display_data"
    },
    {
     "name": "stdout",
     "output_type": "stream",
     "text": [
      "\n",
      "Feature #: 3\n",
      "{'alpha': 1, 'colsample_bytree': 0.4, 'eta': 0.1, 'eval_metric': 'rmse', 'gamma': 0.1, 'lambda': 5, 'learning_rate': 0.1, 'max_depth': 7, 'min_child_weight': 1, 'n_estimators': 1000, 'objective': 'reg:pseudohubererror', 'subsample': 0.9}\n",
      "Num: 125.400+/-15.513\n",
      "KFold Result: 0.102+/-0.008\n",
      "RMSE Result: 0.102+/-0.008\n"
     ]
    },
    {
     "data": {
      "image/png": "[encoded data removed]",
      "text/plain": [
       "<Figure size 432x288 with 1 Axes>"
      ]
     },
     "metadata": {},
     "output_type": "display_data"
    },
    {
     "name": "stdout",
     "output_type": "stream",
     "text": [
      "\n",
      "Feature #: 4\n",
      "{'alpha': 1, 'colsample_bytree': 0.2, 'eta': 0.3, 'eval_metric': 'rmse', 'gamma': 0.0, 'lambda': 0, 'learning_rate': 0.1, 'max_depth': 9, 'min_child_weight': 1, 'n_estimators': 1000, 'objective': 'reg:pseudohubererror', 'subsample': 0.9}\n",
      "Num: 162.400+/-12.126\n",
      "KFold Result: 0.015+/-0.002\n",
      "RMSE Result: 0.015+/-0.002\n"
     ]
    },
    {
     "data": {
      "image/png": "[encoded data removed]",
      "text/plain": [
       "<Figure size 432x288 with 1 Axes>"
      ]
     },
     "metadata": {},
     "output_type": "display_data"
    },
    {
     "name": "stdout",
     "output_type": "stream",
     "text": [
      "\n",
      "Feature #: 5\n",
      "{'alpha': 0, 'colsample_bytree': 0.7000000000000001, 'eta': 0.5, 'eval_metric': 'rmse', 'gamma': 0.1, 'lambda': 9, 'learning_rate': 0.1, 'max_depth': 4, 'min_child_weight': 1, 'n_estimators': 1000, 'objective': 'reg:pseudohubererror', 'subsample': 0.5}\n",
      "Num: 72.000+/-22.900\n",
      "KFold Result: 0.041+/-0.011\n",
      "RMSE Result: 0.041+/-0.011\n"
     ]
    },
    {
     "data": {
      "image/png": "[encoded data removed]",
      "text/plain": [
       "<Figure size 432x288 with 1 Axes>"
      ]
     },
     "metadata": {},
     "output_type": "display_data"
    },
    {
     "name": "stdout",
     "output_type": "stream",
     "text": [
      "\n",
      "Feature #: 6\n",
      "{'alpha': 0, 'colsample_bytree': 0.30000000000000004, 'eta': 0.1, 'eval_metric': 'rmse', 'gamma': 0.30000000000000004, 'lambda': 2, 'learning_rate': 0.1, 'max_depth': 9, 'min_child_weight': 4, 'n_estimators': 1000, 'objective': 'reg:pseudohubererror', 'subsample': 0.8}\n",
      "Num: 234.800+/-42.902\n",
      "KFold Result: 0.560+/-0.054\n",
      "RMSE Result: 0.560+/-0.054\n"
     ]
    },
    {
     "data": {
      "image/png": "[encoded data removed]",
      "text/plain": [
       "<Figure size 432x288 with 1 Axes>"
      ]
     },
     "metadata": {},
     "output_type": "display_data"
    },
    {
     "name": "stdout",
     "output_type": "stream",
     "text": [
      "\n",
      "Feature #: 7\n",
      "{'alpha': 0, 'colsample_bytree': 0.8, 'eta': 0.05, 'eval_metric': 'rmse', 'gamma': 0.1, 'lambda': 6, 'learning_rate': 0.1, 'max_depth': 9, 'min_child_weight': 3, 'n_estimators': 1000, 'objective': 'reg:pseudohubererror', 'subsample': 0.9}\n",
      "Num: 317.000+/-31.369\n",
      "KFold Result: 0.786+/-0.054\n",
      "RMSE Result: 0.786+/-0.054\n"
     ]
    },
    {
     "data": {
      "image/png": "[encoded data removed]",
      "text/plain": [
       "<Figure size 432x288 with 1 Axes>"
      ]
     },
     "metadata": {},
     "output_type": "display_data"
    },
    {
     "name": "stdout",
     "output_type": "stream",
     "text": [
      "\n"
     ]
    }
   ],
   "source": [
    "rmses, epochss=[],[]\n",
    "for i in range(8):\n",
    "    print('Feature #: '+str(i))\n",
    "    rmse, epochs = runKfold(inp, out, i, best_cfg)\n",
    "    rmses.append(rmse)\n",
    "    epochss.append(epochs)\n",
    "    print()"
   ]
  },
  {
   "cell_type": "markdown",
   "metadata": {},
   "source": [
    "# Now train as multioutput"
   ]
  },
  {
   "cell_type": "code",
   "execution_count": 52,
   "metadata": {},
   "outputs": [
    {
     "name": "stdout",
     "output_type": "stream",
     "text": [
      "{'alpha': 1, 'colsample_bytree': 0.5, 'eta': 0.0001, 'eval_metric': 'rmse', 'gamma': 0.0, 'lambda': 0, 'learning_rate': 0.1, 'max_depth': 13, 'min_child_weight': 5, 'n_estimators': 190, 'objective': 'reg:pseudohubererror', 'subsample': 0.8}\n"
     ]
    },
    {
     "name": "stderr",
     "output_type": "stream",
     "text": [
      "//miniconda3/lib/python3.7/site-packages/xgboost/data.py:106: UserWarning: Use subset (sliced data) of np.ndarray is not recommended because it will generate extra copies and increase memory consumption\n",
      "  \"because it will generate extra copies and increase \" +\n"
     ]
    },
    {
     "name": "stdout",
     "output_type": "stream",
     "text": [
      "{'alpha': 0, 'colsample_bytree': 0.4, 'eta': 0.1, 'eval_metric': 'rmse', 'gamma': 0.9, 'lambda': 0, 'learning_rate': 0.1, 'max_depth': 4, 'min_child_weight': 4, 'n_estimators': 85, 'objective': 'reg:pseudohubererror', 'subsample': 0.8}\n"
     ]
    },
    {
     "name": "stderr",
     "output_type": "stream",
     "text": [
      "//miniconda3/lib/python3.7/site-packages/xgboost/data.py:106: UserWarning: Use subset (sliced data) of np.ndarray is not recommended because it will generate extra copies and increase memory consumption\n",
      "  \"because it will generate extra copies and increase \" +\n"
     ]
    },
    {
     "name": "stdout",
     "output_type": "stream",
     "text": [
      "{'alpha': 0, 'colsample_bytree': 0.9, 'eta': 0.1, 'eval_metric': 'rmse', 'gamma': 0.0, 'lambda': 7, 'learning_rate': 0.1, 'max_depth': 6, 'min_child_weight': 5, 'n_estimators': 289, 'objective': 'reg:pseudohubererror', 'subsample': 0.7}\n"
     ]
    },
    {
     "name": "stderr",
     "output_type": "stream",
     "text": [
      "//miniconda3/lib/python3.7/site-packages/xgboost/data.py:106: UserWarning: Use subset (sliced data) of np.ndarray is not recommended because it will generate extra copies and increase memory consumption\n",
      "  \"because it will generate extra copies and increase \" +\n"
     ]
    },
    {
     "name": "stdout",
     "output_type": "stream",
     "text": [
      "{'alpha': 1, 'colsample_bytree': 0.5, 'eta': 0.001, 'eval_metric': 'rmse', 'gamma': 0.0, 'lambda': 4, 'learning_rate': 0.1, 'max_depth': 12, 'min_child_weight': 2, 'n_estimators': 264, 'objective': 'reg:pseudohubererror', 'subsample': 0.9}\n"
     ]
    },
    {
     "name": "stderr",
     "output_type": "stream",
     "text": [
      "//miniconda3/lib/python3.7/site-packages/xgboost/data.py:106: UserWarning: Use subset (sliced data) of np.ndarray is not recommended because it will generate extra copies and increase memory consumption\n",
      "  \"because it will generate extra copies and increase \" +\n"
     ]
    },
    {
     "name": "stdout",
     "output_type": "stream",
     "text": [
      "{'alpha': 1, 'colsample_bytree': 0.6000000000000001, 'eta': 0.0001, 'eval_metric': 'rmse', 'gamma': 0.8, 'lambda': 4, 'learning_rate': 0.1, 'max_depth': 1, 'min_child_weight': 5, 'n_estimators': 70, 'objective': 'reg:pseudohubererror', 'subsample': 0.6}\n"
     ]
    },
    {
     "name": "stderr",
     "output_type": "stream",
     "text": [
      "//miniconda3/lib/python3.7/site-packages/xgboost/data.py:106: UserWarning: Use subset (sliced data) of np.ndarray is not recommended because it will generate extra copies and increase memory consumption\n",
      "  \"because it will generate extra copies and increase \" +\n"
     ]
    },
    {
     "name": "stdout",
     "output_type": "stream",
     "text": [
      "{'alpha': 1, 'colsample_bytree': 0.1, 'eta': 0.01, 'eval_metric': 'rmse', 'gamma': 0.0, 'lambda': 8, 'learning_rate': 0.1, 'max_depth': 12, 'min_child_weight': 1, 'n_estimators': 185, 'objective': 'reg:pseudohubererror', 'subsample': 0.9}\n"
     ]
    },
    {
     "name": "stderr",
     "output_type": "stream",
     "text": [
      "//miniconda3/lib/python3.7/site-packages/xgboost/data.py:106: UserWarning: Use subset (sliced data) of np.ndarray is not recommended because it will generate extra copies and increase memory consumption\n",
      "  \"because it will generate extra copies and increase \" +\n"
     ]
    },
    {
     "name": "stdout",
     "output_type": "stream",
     "text": [
      "{'alpha': 0, 'colsample_bytree': 0.1, 'eta': 0.001, 'eval_metric': 'rmse', 'gamma': 0.1, 'lambda': 3, 'learning_rate': 0.1, 'max_depth': 7, 'min_child_weight': 3, 'n_estimators': 438, 'objective': 'reg:pseudohubererror', 'subsample': 0.6}\n"
     ]
    },
    {
     "name": "stderr",
     "output_type": "stream",
     "text": [
      "//miniconda3/lib/python3.7/site-packages/xgboost/data.py:106: UserWarning: Use subset (sliced data) of np.ndarray is not recommended because it will generate extra copies and increase memory consumption\n",
      "  \"because it will generate extra copies and increase \" +\n"
     ]
    },
    {
     "name": "stdout",
     "output_type": "stream",
     "text": [
      "{'alpha': 4, 'colsample_bytree': 0.9, 'eta': 0.0001, 'eval_metric': 'rmse', 'gamma': 0.4, 'lambda': 7, 'learning_rate': 0.1, 'max_depth': 8, 'min_child_weight': 5, 'n_estimators': 258, 'objective': 'reg:pseudohubererror', 'subsample': 0.9}\n"
     ]
    },
    {
     "name": "stderr",
     "output_type": "stream",
     "text": [
      "//miniconda3/lib/python3.7/site-packages/xgboost/data.py:106: UserWarning: Use subset (sliced data) of np.ndarray is not recommended because it will generate extra copies and increase memory consumption\n",
      "  \"because it will generate extra copies and increase \" +\n"
     ]
    }
   ],
   "source": [
    "from sklearn.multioutput import MultiOutputRegressor\n",
    "\n",
    "x_train, x_test, y_train, y_test = train_test_split(inp, out, test_size=0.20, random_state=32)\n",
    "\n",
    "models=[]\n",
    "for num in range(8):\n",
    "    \n",
    "    tmpparms = best_cfg[num]\n",
    "    tmpparms.pop(\"file\", None)    \n",
    "    tmpparms['n_estimators']=epochss[num]\n",
    "    print(tmpparms)\n",
    "    \n",
    "    models.append(MultiOutputRegressor(\n",
    "        XGBRegressor(**tmpparms)))\n",
    "    models[-1].fit(x_train, y_train[:,num::8])"
   ]
  },
  {
   "cell_type": "code",
   "execution_count": 53,
   "metadata": {},
   "outputs": [],
   "source": [
    "def multiprediction(inpt, models):\n",
    "    \n",
    "    preds=[]\n",
    "    for model in models:\n",
    "        preds.append(model.predict(inpt))\n",
    "\n",
    "    preds = np.array(preds)   \n",
    "    preds = np.resize(preds, (preds.shape[1], preds.shape[2]*preds.shape[0]))\n",
    "    \n",
    "    rearranged=[]\n",
    "    for i in range(8):\n",
    "        for j in range(50):\n",
    "            rearranged.append(i+8*j)\n",
    "        \n",
    "    return preds[:,rearranged]"
   ]
  },
  {
   "cell_type": "code",
   "execution_count": 54,
   "metadata": {},
   "outputs": [],
   "source": [
    "y_pred = multiprediction(x_test, models)"
   ]
  },
  {
   "cell_type": "code",
   "execution_count": 55,
   "metadata": {},
   "outputs": [
    {
     "data": {
      "text/plain": [
       "0.2582644037363629"
      ]
     },
     "execution_count": 55,
     "metadata": {},
     "output_type": "execute_result"
    }
   ],
   "source": [
    "from sklearn.metrics import mean_squared_error as mse\n",
    "mse(y_pred,y_test)"
   ]
  },
  {
   "cell_type": "markdown",
   "metadata": {},
   "source": [
    "# Manual inspection"
   ]
  },
  {
   "cell_type": "code",
   "execution_count": 57,
   "metadata": {},
   "outputs": [],
   "source": [
    "pred=multiprediction(x_test, models)"
   ]
  },
  {
   "cell_type": "code",
   "execution_count": 58,
   "metadata": {},
   "outputs": [
    {
     "name": "stdout",
     "output_type": "stream",
     "text": [
      "Baseline WSE: 0.230\n",
      "Baseline WSE l1: 0.139\n",
      "Baseline MSE: 0.153\n",
      "Baseline MSE l1: 0.092\n",
      "-18.0\n",
      "16.566666666666666\n",
      "2.0000000000000004\n"
     ]
    }
   ],
   "source": [
    "print('Baseline WSE: {:.3f}'.format(WSE2(np.array([0]*out[0].shape[0]),out[0])))\n",
    "print('Baseline WSE l1: {:.3f}'.format(WSEl12(np.array([0]*out[0].shape[0]),out[0])))\n",
    "print('Baseline MSE: {:.3f}'.format(WSE2(np.array([0]*out[0].shape[0]),out[0], a=1, b=1)))\n",
    "print('Baseline MSE l1: {:.3f}'.format(WSEl12(np.array([0]*out[0].shape[0]),out[0], a=1, b=1)))\n",
    "\n",
    "print((out[1]-out[10]).sum())\n",
    "print((out[50]-out[60]).sum())\n",
    "print((out[100]-out[110]).sum())"
   ]
  },
  {
   "cell_type": "code",
   "execution_count": 59,
   "metadata": {},
   "outputs": [
    {
     "name": "stdout",
     "output_type": "stream",
     "text": [
      "Baseline WSE: 0.308\n",
      "Baseline WSE l1: 0.278\n",
      "Baseline MSE: 0.442\n",
      "Baseline MSE l1: 0.452\n",
      "-0.69406843\n",
      "0.26070547\n",
      "0.36485147\n"
     ]
    }
   ],
   "source": [
    "print('Baseline WSE: {:.3f}'.format(WSE2(pred[0],out[0])))\n",
    "print('Baseline WSE l1: {:.3f}'.format(WSEl12(pred[0],out[0])))\n",
    "print('Baseline MSE: {:.3f}'.format(WSE2(pred[0],out[0], a=1, b=1)))\n",
    "print('Baseline MSE l1: {:.3f}'.format(WSEl12(pred[0],out[0], a=1, b=1)))\n",
    "\n",
    "print((pred[1]-pred[10]).sum())\n",
    "print((pred[50]-pred[60]).sum())\n",
    "print((pred[100]-pred[110]).sum())"
   ]
  },
  {
   "cell_type": "code",
   "execution_count": 61,
   "metadata": {},
   "outputs": [],
   "source": [
    "def revert_output(output,lineup=None):\n",
    "\n",
    "    reframe=pd.DataFrame(output.reshape(50,8),\n",
    "                 columns=['minutes','goals','assists','cards_yellow','cards_red','own_goals','goals_against','saves'])\n",
    "    \n",
    "    reframe[reframe<0] = 0\n",
    "    if lineup is not None:\n",
    "        reframe.index=lineup\n",
    "        reframe.drop([x for x in reframe.index if x.startswith('dummy')], axis=0, inplace=True)\n",
    "        \n",
    "    reframe['minutes']*=90\n",
    "    #byteamframe=pd.concat([reframe.loc[[x for x in reframe.index if x in lineup[lineup['team']==0].index]].sum(axis=0),\n",
    "    #                    reframe.loc[[x for x in reframe.index if x in lineup[lineup['team']==1].index]].sum(axis=0)], axis=1).T\n",
    "    \n",
    "    byteamframe=pd.concat([reframe.iloc[:25,:].sum(axis=0),reframe.iloc[25:,:].sum(axis=0)], axis=1).T\n",
    "    \n",
    "    return reframe, byteamframe[byteamframe.columns[1:]]"
   ]
  },
  {
   "cell_type": "code",
   "execution_count": 62,
   "metadata": {},
   "outputs": [
    {
     "name": "stdout",
     "output_type": "stream",
     "text": [
      "       goals    assists  cards_yellow  cards_red  own_goals  goals_against  \\\n",
      "0  10.436198  12.355657      10.09856  11.081532  11.901042       9.726839   \n",
      "1  12.024956  10.500724      11.43756  10.833818  11.455255      11.569149   \n",
      "\n",
      "       saves  \n",
      "0  10.667063  \n",
      "1  10.629506  \n",
      "   goals  assists  cards_yellow  cards_red  own_goals  goals_against  saves\n",
      "0    1.0      1.0           3.0        0.0        0.0            0.0    3.0\n",
      "1    0.0      0.0           1.0        0.0        0.0            1.0    5.0\n"
     ]
    }
   ],
   "source": [
    "cats=['minutes','goals','assists','cards_yellow','cards_red','own_goals']+['goals_against','saves']\n",
    "\n",
    "reframe, byteamframe = revert_output(pred[0])\n",
    "print(byteamframe)\n",
    "reframe, byteamframe = revert_output(out[0])\n",
    "print(byteamframe)"
   ]
  },
  {
   "cell_type": "code",
   "execution_count": null,
   "metadata": {},
   "outputs": [],
   "source": []
  }
 ],
 "metadata": {
  "kernelspec": {
   "display_name": "Python 3",
   "language": "python",
   "name": "python3"
  },
  "language_info": {
   "codemirror_mode": {
    "name": "ipython",
    "version": 3
   },
   "file_extension": ".py",
   "mimetype": "text/x-python",
   "name": "python",
   "nbconvert_exporter": "python",
   "pygments_lexer": "ipython3",
   "version": "3.7.6"
  }
 },
 "nbformat": 4,
 "nbformat_minor": 4
}
