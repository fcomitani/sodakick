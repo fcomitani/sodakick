{
 "cells": [
  {
   "cell_type": "code",
   "execution_count": 1,
   "metadata": {},
   "outputs": [],
   "source": [
    "import requests\n",
    "import pandas as pd\n",
    "import numpy as np\n",
    "import re\n",
    "import sys, getopt\n",
    "import csv\n",
    "import pickle\n",
    "import copy\n",
    "import os\n",
    "import math\n",
    "\n",
    "pd.set_option('display.max_rows', 500)\n",
    "\n",
    "import matplotlib as mpl\n",
    "import matplotlib.pyplot as plt\n",
    "from matplotlib.colors import ListedColormap\n",
    "%matplotlib inline  \n",
    "import seaborn as sns\n",
    "sns.set_style(\"darkgrid\")\n",
    "\n",
    "import umap\n",
    "from sklearn.decomposition import TruncatedSVD as tsvd\n",
    "\n",
    "def nearZeroVarDropAuto(df,thresh=0.99):\n",
    "    vVal=df.var(axis=0).values\n",
    "    cs=pd.Series(vVal).sort_values(ascending=False).cumsum()\n",
    "    remove=cs[cs>cs.values[-1]*thresh].index.values\n",
    "    return df.drop(df.columns[remove],axis=1)\n",
    "\n",
    "%run SodaKick_download_functions.ipynb\n",
    "\n",
    "\n",
    "import torch\n",
    "from torch.utils.data import DataLoader, Dataset\n",
    "from torch.optim import SGD, Adagrad, Adam, Adagrad\n",
    "import torch.nn as nn\n",
    "import torch.nn.functional as F"
   ]
  },
  {
   "cell_type": "code",
   "execution_count": 2,
   "metadata": {},
   "outputs": [],
   "source": [
    "#from ray import tune\n",
    "#from ray.tune import CLIReporter\n",
    "#from ray.tune.schedulers import ASHAScheduler\n",
    "\n",
    "from hyperopt import hp, tpe, fmin, Trials\n",
    "from hyperopt import STATUS_OK, STATUS_FAIL\n",
    "from hyperopt.pyll import scope"
   ]
  },
  {
   "cell_type": "code",
   "execution_count": 3,
   "metadata": {},
   "outputs": [],
   "source": [
    "class EarlyStopping:\n",
    "\n",
    "    \"\"\" Stops the training if loss doesn't improve after a given number of epochs. \"\"\"\n",
    "\n",
    "    def __init__(self, patience=3, epsilon=1e-5, keepBest=True, silent=True):\n",
    "\n",
    "        \"\"\"\n",
    "        Args:\n",
    "            patience (int): Number of epochs without change before stopping the learning (default 3).\n",
    "            epsilon (float): Minimum change in loss to be considered for early stopping (default 1e-5).\n",
    "            keepBest (bool): Keep track of the best model (memory consuming).\n",
    "        \"\"\"\n",
    "\n",
    "        self.patience = patience\n",
    "        self.epsilon = epsilon\n",
    "        self.counter = 0\n",
    "        \n",
    "        self.bestScore = np.inf\n",
    "     \n",
    "        self.keepBest = keepBest \n",
    "        self.bestModel = None\n",
    "\n",
    "        self.earlyStop = False\n",
    "        self.silent = silent\n",
    "\n",
    "    def __call__(self, loss, model):\n",
    "\n",
    "\n",
    "        \"\"\" Evaluate the loss change between epochs and activates early stop if below epsilon.\n",
    "\n",
    "        Args:\n",
    "            loss (float): current loss.\n",
    "            model (torch model): the current model.\n",
    "        \"\"\"\n",
    "\n",
    "        if loss > self.bestScore - self.epsilon:\n",
    "\n",
    "            self.counter += 1\n",
    "            if not self.silent:\n",
    "                print('EarlyStopping counter: {:d}/{:d}'.format(self.counter,self.patience))\n",
    "\n",
    "            if self.counter >= self.patience:\n",
    "                self.earlyStop = True\n",
    "\n",
    "        else:   \n",
    "\n",
    "            self.counter = 0\n",
    "            self.bestScore = loss\n",
    "\n",
    "            if self.keepBest:\n",
    "                self.bestModel = copy.deepcopy(model)\n"
   ]
  },
  {
   "cell_type": "code",
   "execution_count": 4,
   "metadata": {},
   "outputs": [],
   "source": [
    "class matchesDataset(Dataset):\n",
    "\n",
    "    \"\"\" Extend pytorch Dataset class to include cleaning and training set creation, \"\"\"\n",
    "    \n",
    "    def __init__(self, matches, results):\n",
    "\n",
    "        self.matches = torch.tensor(matches, dtype=torch.float32)\n",
    "        self.results = torch.tensor(results, dtype=torch.float32)\n",
    "\n",
    "    def __len__(self):\n",
    "\n",
    "        \"\"\" Returns the len of the training sample. \"\"\"\n",
    "        \n",
    "        return len(self.matches)\n",
    "        \n",
    "\n",
    "    def __getitem__(self, index): \n",
    "\n",
    "        \"\"\" Returns a word, a context word and a list of negative words for training for a given index. \n",
    "\n",
    "        Args:\n",
    "            index (int): index for the word selection.\n",
    "\n",
    "        Returns:\n",
    "            (string, string, list of strings): selected word, context word and a randomly drawn list \n",
    "                                               of negative words.\n",
    "\n",
    "        \"\"\"\n",
    "        return self.matches[index], self.results[index]"
   ]
  },
  {
   "cell_type": "code",
   "execution_count": 5,
   "metadata": {},
   "outputs": [],
   "source": [
    "#https://towardsdatascience.com/quirky-keras-custom-and-asymmetric-loss-functions-for-keras-in-r-a8b5271171fe\n",
    "#weighted asimmetric square error, errors by going below the value (not seeing a goal when it's there) are weighted more\n",
    "\n",
    "def WSE(output, target, a=1.5, b=.5):\n",
    "    loss = torch.mean(a/(a+b)*torch.minimum(torch.zeros(output.shape[1]),output - target)**2+\\\n",
    "                      b/(a+b)*torch.maximum(torch.zeros(output.shape[1]),output - target)**2)      \n",
    "    return loss\n",
    "\n",
    "def WSEl1(output, target, a=1.5, b=.5):\n",
    "    loss = torch.mean(a/(a+b)*torch.abs(torch.minimum(torch.zeros(output.shape[1]),output - target))+\\\n",
    "                      b/(a+b)*torch.abs(torch.maximum(torch.zeros(output.shape[1]),output - target)))      \n",
    "    return loss\n",
    "\n",
    "def WSE2(output, target, a=1.5, b=.5):\n",
    "    loss = np.mean(a/(a+b)*np.minimum(np.zeros(output.shape[0]),output - target)**2+\\\n",
    "                      b/(a+b)*np.maximum(np.zeros(output.shape[0]),output - target)**2)      \n",
    "    return loss\n",
    "\n",
    "def WSEl12(output, target, a=1.25, b=.75):\n",
    "    loss = np.mean(a/(a+b)*np.abs(np.minimum(np.zeros(output.shape[0]),output - target))+\\\n",
    "                      b/(a+b)*np.abs(np.maximum(np.zeros(output.shape[0]),output - target)))      \n",
    "    return loss\n",
    "\n",
    "\n",
    "def log_cosh_loss(y_pred: torch.Tensor, y_true: torch.Tensor) -> torch.Tensor:\n",
    "    def _log_cosh(x: torch.Tensor) -> torch.Tensor:\n",
    "        return x + torch.nn.functional.softplus(-2. * x) - math.log(2.0)\n",
    "    return torch.mean(_log_cosh(y_pred - y_true))\n",
    "\n",
    "\n",
    "\n",
    "def Wlog_cosh_loss(y_pred: torch.Tensor, y_true: torch.Tensor, a=1.5, b=.5) -> torch.Tensor:\n",
    "\n",
    "    def _log_cosh(x: torch.Tensor) -> torch.Tensor:\n",
    "        return x + torch.nn.functional.softplus(-2. * x) - math.log(2.0)   \n",
    "        \n",
    "    return torch.mean(a/(a+b)*_log_cosh(torch.minimum(torch.zeros(y_pred.shape[1]),y_pred - y_true))+\\\n",
    "                   b/(a+b)*_log_cosh(torch.maximum(torch.zeros(y_pred.shape[1]),y_pred - y_true)))\n",
    "\n",
    "\n",
    "class LogCoshLoss(torch.nn.Module):\n",
    "    def __init__(self):\n",
    "        super().__init__()\n",
    "\n",
    "    def forward(\n",
    "        self, y_pred: torch.Tensor, y_true: torch.Tensor\n",
    "    ) -> torch.Tensor:\n",
    "        return log_cosh_loss(y_pred, y_true)\n",
    "    \n",
    "def tolerant_mean(arrs):\n",
    "    lens = [len(i) for i in arrs]\n",
    "    arr = np.ma.empty((np.max(lens),len(arrs)))\n",
    "    arr.mask = True\n",
    "    for idx, l in enumerate(arrs):\n",
    "        arr[:len(l),idx] = l\n",
    "    return arr.mean(axis = -1).data, arr.std(axis=-1).data"
   ]
  },
  {
   "cell_type": "code",
   "execution_count": 6,
   "metadata": {},
   "outputs": [],
   "source": [
    "def normalize_mins(vec):\n",
    "    for i in range(vec.shape[0]):\n",
    "        vec[i][::8]=vec[i][::8]/90\n",
    "\n",
    "def NormalizeData(data):\n",
    "    return (data - np.min(data)) / (np.max(data) - np.min(data))\n",
    "\n",
    "def NormalizeMatrix(data):   \n",
    "    for i in range(data.shape[1]):\n",
    "        data[:,i] = NormalizeData(data[:,i])\n",
    "\n",
    "def norm_max(out):\n",
    "    \n",
    "    maxes=[]\n",
    "    for i in range(int(out.shape[1]/8.0)):\n",
    "        maxes.append(out[:,8*int(i):8*(int(i)+1)].max(axis=0))\n",
    "\n",
    "        #maxes.append(out.max(axis=1)[8*int(i):8*(int(i)+1):8])\n",
    "    denominator=np.tile(np.max(maxes,axis=0),int(out.shape[1]/8))\n",
    "    return out/denominator, denominator \n",
    "\n",
    "with open(r'/Users/federico comitani/GitHub/sodakick/data/wainp_220303.pkl', 'rb') as pk:\n",
    "    inp=pickle.load(pk)\n",
    "with open(r'/Users/federico comitani/GitHub/sodakick/data/out_220303.pkl', 'rb') as pk:\n",
    "    out=np.array(pickle.load(pk),dtype=float)\n",
    "    \n",
    "### skipping norm for now since it's already tsvd \n",
    "#NormalizeMatrix(inp)\n",
    "#np.nan_to_num(inp, copy=False)\n",
    "\n",
    "from sklearn import preprocessing\n",
    "\n",
    "scaler = preprocessing.MinMaxScaler()\n",
    "inp = scaler.fit_transform(inp)\n",
    "\n",
    "#normalize_mins(out)\n",
    "out, denominator= norm_max(out)"
   ]
  },
  {
   "cell_type": "code",
   "execution_count": 7,
   "metadata": {},
   "outputs": [],
   "source": [
    "from sklearn.model_selection import train_test_split\n",
    "\n",
    "x_train, x_test, y_train, y_test = train_test_split(\n",
    "         inp[:1000], out[:1000], test_size=0.2, random_state=32)"
   ]
  },
  {
   "cell_type": "code",
   "execution_count": 8,
   "metadata": {},
   "outputs": [],
   "source": [
    "class Net(nn.Module):\n",
    "    \n",
    "    #=nn.LeakyReLU()\n",
    "    \n",
    "    def __init__(self, num_layers, num_nodes_in, num_nodes, num_nodes_out, final_activation, batch_norm, dropout, activation):\n",
    "        super(Net, self).__init__()\n",
    "        \n",
    "        self.fc = []\n",
    "        self.lr = []\n",
    "        self.bn = []\n",
    "        self.dp = []\n",
    "        self.act = activation\n",
    "        self.fact = final_activation\n",
    "        self.nl = num_layers\n",
    "        self.batch_norm = batch_norm\n",
    "        self.dropout = dropout\n",
    "        \n",
    "        power=0\n",
    "        \n",
    "        for i in range(self.nl):\n",
    "            if i==0:\n",
    "                self.fc.append(nn.Linear(int(num_nodes_in), int(num_nodes)))\n",
    "            else:\n",
    "                self.fc.append(nn.Linear(int(num_nodes), int(num_nodes)))\n",
    "            self.lr.append(self.act)\n",
    "            \n",
    "            if self.batch_norm:\n",
    "                self.bn.append(nn.BatchNorm1d(int(num_nodes)))\n",
    "\n",
    "            if self.dropout>0.0:\n",
    "                self.dp.append(nn.Dropout(dropout))\n",
    "                \n",
    "            power+=1\n",
    "        \n",
    "        self.oupt = nn.Linear(int(num_nodes), int(num_nodes_out))\n",
    "    \n",
    "    def reset_weights(self):\n",
    "\n",
    "        \"\"\" Resets network weights according to chosen distribution. \"\"\"\n",
    "\n",
    "        for f in self.fc:\n",
    "            nn.init.xavier_uniform_(f.weight, gain=np.sqrt(2/(1+0.01**2)))\n",
    "\n",
    "            \n",
    "    def forward(self, x):\n",
    "        z = x\n",
    "        for i in range(self.nl):\n",
    "            \n",
    "            z = self.fc[i](z)\n",
    "            \n",
    "            if self.batch_norm:\n",
    "                z = self.bn[i](z)\n",
    "            \n",
    "            z = self.lr[i](z)\n",
    "        \n",
    "            if self.dropout>0.0:\n",
    "                z = self.dp[i](z)\n",
    "                \n",
    "        if self.fact is not None:\n",
    "            z = self.fact(z)\n",
    "        \n",
    "        z = self.oupt(z)\n",
    "        \n",
    "        return z\n",
    "    \n",
    "    def clp(self):\n",
    "        with torch.no_grad():\n",
    "            for i in range(self.nl):\n",
    "                self.fc[i].weight.copy_ (self.fc[i].weight.data.clamp(min=0)) \n",
    "            self.oupt.weight.copy_ (self.oupt.weight.data.clamp(min=0))"
   ]
  },
  {
   "cell_type": "code",
   "execution_count": 9,
   "metadata": {},
   "outputs": [
    {
     "name": "stdout",
     "output_type": "stream",
     "text": [
      "Baseline WSE: 0.039\n",
      "Baseline WSE l1: 0.043\n",
      "Baseline MSE: 0.026\n",
      "Baseline MSE l1: 0.035\n",
      "36.36507936507937\n",
      "24.09365079365079\n",
      "34.76825396825397\n"
     ]
    }
   ],
   "source": [
    "print('Baseline WSE: {:.3f}'.format(WSE2(np.array([0]*out[0].shape[0]),out[0])))\n",
    "print('Baseline WSE l1: {:.3f}'.format(WSEl12(np.array([0]*out[0].shape[0]),out[0])))\n",
    "print('Baseline MSE: {:.3f}'.format(WSE2(np.array([0]*out[0].shape[0]),out[0], a=1, b=1)))\n",
    "print('Baseline MSE l1: {:.3f}'.format(WSEl12(np.array([0]*out[0].shape[0]),out[0], a=1, b=1)))\n",
    "\n",
    "print(np.abs(out[1]-out[10]).sum())\n",
    "print(np.abs(out[50]-out[60]).sum())\n",
    "print(np.abs(out[100]-out[110]).sum())"
   ]
  },
  {
   "cell_type": "code",
   "execution_count": 10,
   "metadata": {},
   "outputs": [],
   "source": [
    "def revert_output(output,multiplier=denominator,lineup=None):\n",
    "\n",
    "    reframe=pd.DataFrame(output.reshape(48,8),\n",
    "                 columns=['minutes','goals','assists','cards_yellow','cards_red','own_goals','goals_against','saves'])\n",
    "    \n",
    "    reframe[reframe<0] = 0\n",
    "    if lineup is not None:\n",
    "        reframe.index=lineup\n",
    "        reframe.drop([x for x in reframe.index if x.startswith('dummy')], axis=0, inplace=True)\n",
    "    \n",
    "    \n",
    "    #reframe['minutes']*=90\n",
    "    reframe=reframe*denominator[:8]\n",
    "    byteamframe=pd.concat([reframe.iloc[:24,:].sum(axis=0),reframe.iloc[24:,:].sum(axis=0)], axis=1).T\n",
    "    \n",
    "    return reframe, byteamframe[byteamframe.columns[1:]]"
   ]
  },
  {
   "cell_type": "markdown",
   "metadata": {},
   "source": [
    "# ensemble, kfold"
   ]
  },
  {
   "cell_type": "code",
   "execution_count": 11,
   "metadata": {},
   "outputs": [],
   "source": [
    "from tqdm import tqdm\n",
    "\n",
    "def train_alone(config, data, model=Net, silent=True, checkpoint_dir=None):\n",
    "    \n",
    "    phases = ['train','val']\n",
    "    \n",
    "    x_train, y_train, x_test, y_test = data[0], data[1], data[2], data[3]\n",
    "\n",
    "    training_set = matchesDataset(x_train, y_train)\n",
    "    trainBatch = torch.utils.data.DataLoader(training_set, batch_size=config['batch_size'], shuffle=config['shuffle'], num_workers=config['num_workers'])\n",
    "\n",
    "    validation_set = matchesDataset(x_test, y_test)\n",
    "    valBatch = torch.utils.data.DataLoader(validation_set, batch_size=config['batch_size'], shuffle=config['shuffle'], num_workers=config['num_workers'])\n",
    "\n",
    "    earlStop = EarlyStopping(patience=int(config['patience']), epsilon=config['epsilon'], keepBest=False)\n",
    "\n",
    "    net = model(config['num_layers'], config['num_nodes_in'],  config['num_nodes'],\n",
    "                    config['num_nodes_out'], config['final_activation'], config['batch_norm'], config['dropout'], config['activation'])\n",
    "\n",
    "    net.reset_weights()\n",
    "\n",
    "    device = \"cpu\"\n",
    "    if torch.cuda.is_available():\n",
    "        device = \"cuda:0\"\n",
    "        if torch.cuda.device_count() > 1:\n",
    "            net = nn.DataParallel(net)\n",
    "    net.to(device)\n",
    "\n",
    "    if checkpoint_dir:\n",
    "        model_state, optimizer_state = torch.load(\n",
    "            os.path.join(checkpoint_dir, \"checkpoint\"))\n",
    "        net.load_state_dict(model_state)\n",
    "        optimizer.load_state_dict(optimizer_state)\n",
    "\n",
    "    if config['optim']=='adam':\n",
    "        optimizer = Adam(net.parameters(), lr=config['lr'])\n",
    "    elif config['optim']=='adagrad':\n",
    "        optimizer = Adagrad(net.parameters(), lr=config['lr'])\n",
    "    else:\n",
    "        print('optim error')\n",
    "        return\n",
    "\n",
    "\n",
    "    losses=[[],[]]\n",
    "    mses=[]\n",
    "    diffs=[]\n",
    "    exit=False\n",
    "\n",
    "    for epoch in tqdm(range(config['epochs']), desc='Epoch'):\n",
    "    #for epoch in range(config['epochs']):\n",
    "\n",
    "        if exit:\n",
    "            break\n",
    "\n",
    "        for phase in phases:\n",
    "            if phase == 'train':\n",
    "                net.train(True) \n",
    "\n",
    "                \"\"\" Run the training of the model. \"\"\"    \n",
    "\n",
    "                losses_batch=[]\n",
    "                mses_batch=[]\n",
    "                for batchNum, batch in enumerate(trainBatch):\n",
    "\n",
    "                    x = batch[0]\n",
    "                    y = batch[1]\n",
    "\n",
    "                    \"\"\" Move batches to GPU if available. \"\"\"\n",
    "\n",
    "                    if torch.cuda.is_available():\n",
    "                        x = x.cuda()\n",
    "                        y = y.cuda()\n",
    "\n",
    "                    \"\"\" Core of training. \"\"\"\n",
    "\n",
    "                    loss = config['loss_f'](net(x), y)\n",
    "\n",
    "                    optimizer.zero_grad()\n",
    "                    loss.backward()\n",
    "                    optimizer.step()\n",
    "                    if config['clip']:\n",
    "                        net.clp()\n",
    "\n",
    "                    losses_batch.append(loss)\n",
    "                    #mses_batch.append(nn.MSELoss()(net(x), y).detach().numpy())\n",
    "\n",
    "\n",
    "                \"\"\" Early stop check. \"\"\"\n",
    "\n",
    "                earlStop(loss, net)\n",
    "                finalepoch = epoch\n",
    "\n",
    "                if earlStop.earlyStop:\n",
    "\n",
    "                    if not silent:\n",
    "                        print('Limit loss improvement reached, stopping the training.')\n",
    "\n",
    "                    exit=True \n",
    "\n",
    "                losses[0].append(torch.mean(torch.stack(losses_batch)).detach().cpu().numpy())\n",
    "                #mse[0].append(torch.mean(torch.stack(mses_batch)).detach().cpu().numpy())\n",
    "\n",
    "            else:\n",
    "                net.train(False)\n",
    "                net.eval()\n",
    "\n",
    "                val_loss=0\n",
    "                val_mse=0\n",
    "\n",
    "                losses_batch=[]\n",
    "                mses_batch=[]\n",
    "                diff_batch=[]\n",
    "\n",
    "                for batchNum, batch in enumerate(valBatch):\n",
    "\n",
    "                    x = batch[0]\n",
    "                    y = batch[1]\n",
    "\n",
    "                    \"\"\" Move batches to GPU if available. \"\"\"\n",
    "\n",
    "                    if torch.cuda.is_available():\n",
    "                        x = x.cuda()\n",
    "                        y = y.cuda()\n",
    "\n",
    "                    \"\"\" Core of training. \"\"\"\n",
    "\n",
    "                    optimizer.zero_grad()\n",
    "                    output=net(x)\n",
    "                    target=y\n",
    "                    loss = config['loss_f'](output, target)\n",
    "\n",
    "                    losses_batch.append(loss)\n",
    "                    #mses_batch.append(nn.MSELoss()(output, target).detach().numpy())\n",
    "                    \n",
    "                    val_loss+=loss.detach().numpy()\n",
    "                    #val_mse+=nn.MSELoss()(output, target).detach().numpy()\n",
    "                    diff_batch.append(output-target)\n",
    "                    \n",
    "                losses[1].append(torch.mean(torch.stack(losses_batch)).detach().cpu().numpy())\n",
    "                #mse[1].append(torch.mean(torch.stack(mses_batch)).detach().cpu().numpy())\n",
    "                diffs.append(torch.mean(torch.cat(diff_batch, dim=0), dim=0).detach().cpu().numpy())\n",
    "                \n",
    "    return net, val_loss/batchNum, losses, diffs #mses"
   ]
  },
  {
   "cell_type": "code",
   "execution_count": 12,
   "metadata": {},
   "outputs": [],
   "source": [
    "from sklearn.model_selection import KFold\n",
    "\n",
    "def runKfold(data, model, config, n_models=5, n_splits=5):\n",
    "    \n",
    "    kf = KFold(n_splits=n_splits, shuffle=True)\n",
    "    kf.get_n_splits(data[0])\n",
    "\n",
    "    trlosses=[]\n",
    "    losses=[]\n",
    "    ec=[]\n",
    "    mss=[]\n",
    "    diffs=[]\n",
    "    oobs=[]\n",
    "    \n",
    "    for train_index, test_index in kf.split(data[0]):\n",
    "        x_train, y_train, x_test, y_test = pd.DataFrame(data[0][train_index]), pd.DataFrame(data[1][train_index]), data[0][test_index], data[1][test_index]\n",
    "                \n",
    "        nets=[]\n",
    "        oobs.append([])\n",
    "        pred_train=[]\n",
    "        pred_test=[]\n",
    "        for m in range(n_models):\n",
    "            \n",
    "            #print(m, end=' ')\n",
    "        \n",
    "            x_train_bag = x_train.sample(frac=.9, replace=True, random_state=m)\n",
    "            y_train_bag = y_train.loc[x_train_bag.index].values\n",
    "            \n",
    "            x_test_bag  = x_train.loc[[x for x in x_train.index if x not in x_train_bag.index]].values\n",
    "            y_test_bag  = y_train.loc[[x for x in x_train.index if x not in x_train_bag.index]].values\n",
    "            \n",
    "            x_train_bag = x_train_bag.values\n",
    "\n",
    "            net, val_loss, ls, df = train_alone(config, [x_train_bag, y_train_bag, x_test_bag, y_test_bag], model, silent=True, checkpoint_dir=None)\n",
    "            \n",
    "            nets.append(net)\n",
    "            oobs[-1].append(val_loss)\n",
    "            \n",
    "            pred_train.append(net(torch.Tensor(x_train.values)))#.detach().cpu().numpy())\n",
    "            pred_test.append(net(torch.Tensor(x_test)))#.detach().cpu().numpy())\n",
    "            \n",
    "        pred_train = torch.mean(torch.stack(pred_train),axis=0)\n",
    "        pred_test = torch.mean(torch.stack(pred_test),axis=0)\n",
    "        \n",
    "        \"\"\"print(pred_train[-1].shape)\n",
    "        print(pred_train.shape,y_train.values.shape)\n",
    "        print(config['loss_f'](pred_train, torch.Tensor(y_train.values)).detach().cpu().numpy())\n",
    "        print(np.mean(config['loss_f'](pred_train, torch.Tensor(y_train.values)).detach().cpu().numpy()))\n",
    "        \n",
    "        print(pred_test[-1].shape)\n",
    "        print(pred_test.shape,y_test.shape)\n",
    "        print(config['loss_f'](pred_test, torch.Tensor(y_test)).detach().cpu().numpy())\n",
    "        print(np.mean(config['loss_f'](pred_test, torch.Tensor(y_test)).detach().cpu().numpy()))\n",
    "        \n",
    "        print()\n",
    "        print(torch.mean(pred_test-torch.Tensor(y_test),axis=0).detach().cpu().numpy().reshape(-1, 48).shape)\n",
    "        \"\"\"\n",
    "        \n",
    "        trlosses.append(np.mean(config['loss_f'](pred_train, torch.Tensor(y_train.values)).detach().cpu().numpy()))\n",
    "        losses.append(np.mean(config['loss_f'](pred_test, torch.Tensor(y_test)).detach().cpu().numpy()))\n",
    "        diffs.append(torch.mean(pred_test-torch.Tensor(y_test),axis=0).detach().cpu().numpy().reshape(-1, 48))\n",
    "                \n",
    "    errs=[np.mean(x, axis=1) for x in diffs]\n",
    "    meaerrs=np.mean(errs, axis=0)\n",
    "    meastd=np.std(errs, axis=0)\n",
    "\n",
    "    abserrs=[np.mean(np.abs(x), axis=1) for x in diffs]\n",
    "    absmeaerrs=np.mean(abserrs, axis=0)\n",
    "    absmeastd=np.std(abserrs, axis=0)\n",
    "        \n",
    "    print('KFold Result: {:.3f}+/-{:.3f}'.format(np.mean([np.mean(x) for x in losses]),np.std([np.mean(x) for x in losses])))\n",
    "    return nets, [trlosses,losses], [meaerrs, meastd], [absmeaerrs, absmeastd]"
   ]
  },
  {
   "cell_type": "code",
   "execution_count": 14,
   "metadata": {},
   "outputs": [
    {
     "name": "stderr",
     "output_type": "stream",
     "text": [
      "Epoch: 100%|██████████| 100/100 [37:13<00:00, 22.34s/it]\n",
      "Epoch: 100%|██████████| 100/100 [35:50<00:00, 21.50s/it]\n",
      "Epoch: 100%|██████████| 100/100 [30:53<00:00, 18.54s/it]\n",
      "Epoch: 100%|██████████| 100/100 [31:45<00:00, 19.05s/it]\n",
      "Epoch: 100%|██████████| 100/100 [33:36<00:00, 20.17s/it]\n",
      "Epoch: 100%|██████████| 100/100 [30:01<00:00, 18.01s/it]\n",
      "Epoch: 100%|██████████| 100/100 [29:05<00:00, 17.46s/it]\n",
      "Epoch: 100%|██████████| 100/100 [27:30<00:00, 16.51s/it]\n",
      "Epoch: 100%|██████████| 100/100 [27:34<00:00, 16.55s/it]\n"
     ]
    },
    {
     "name": "stdout",
     "output_type": "stream",
     "text": [
      "KFold Result: 0.004+/-0.000\n",
      "34.76059\n",
      "18.934996\n",
      "18.458145\n",
      "KFold Result Train: 0.004+/-0.000\n",
      "KFold Result Test: 0.004+/-0.000\n"
     ]
    },
    {
     "data": {
      "image/png": "[encoded data removed]",
      "text/plain": [
       "<Figure size 432x288 with 1 Axes>"
      ]
     },
     "metadata": {},
     "output_type": "display_data"
    },
    {
     "name": "stdout",
     "output_type": "stream",
     "text": [
      "   goals  assists  cards_yellow  cards_red  own_goals  goals_against  saves\n",
      "0      1        0             1          0          0              1      3\n",
      "1      1        1             2          0          0              2      4\n",
      "   goals  assists  cards_yellow  cards_red  own_goals  goals_against  saves\n",
      "0      1        1             4          1          0              0      2\n",
      "1      0        0             1          0          0              1      1\n",
      "   goals  assists  cards_yellow  cards_red  own_goals  goals_against  saves\n",
      "0      1        1             1          0          0              1      3\n",
      "1      1        0             2          0          0              2      3\n",
      "   goals  assists  cards_yellow  cards_red  own_goals  goals_against  saves\n",
      "0      1        1             1          0          0              1      3\n",
      "1      1        0             2          0          0              2      3\n"
     ]
    }
   ],
   "source": [
    " config = {\n",
    "        \"num_layers\": 2,\n",
    "        \"num_nodes_in\": inp.shape[1],\n",
    "        \"num_nodes\": inp.shape[1]/5,\n",
    "        \"num_nodes_out\": out.shape[1], \n",
    "        \"final_activation\" : None,\n",
    "        \"activation\": nn.LeakyReLU(),\n",
    "        \"clip\": False, #hp.choice('clip',[True, False]),\n",
    "        \"batch_size\": 32, #[16, 32, 64, 128]\n",
    "        \"loss_f\": log_cosh_loss,#WSE,#hp.choice('loss_f',[WSE, nn.MSELoss()]), #, nn.L1Loss()\n",
    "        \"optim\": 'adam',#hp.choice('optim',['adam', 'adagrad']),\n",
    "        \"lr\": 0.0001,#hp.choice('lr',[0.0001,0.001,.00001]),#hp.loguniform('lr', np.exp(np.log(1e-4)), np.exp(np.log(1e-1))),\n",
    "        \"batch_norm\": False,#hp.choice('batch_norm',[True, False]),\n",
    "        \"dropout\": 0.0,#hp.choice('dropout',[0.0,0.1,0.2,0.3]),#hp.sample_from(lambda _: np.random.uniform(low=0.0, high=.6)),\n",
    "        \"shuffle\": True,\n",
    "        \"num_workers\": 4,\n",
    "        \"epsilon\":1e-6, \n",
    "        \"patience\": 500,\n",
    "        \"epochs\": 100\n",
    "    }\n",
    "    \n",
    "nets, losses, errs, abserrs=runKfold([inp, out], Net, config, n_models=3, n_splits=3)\n",
    "    \n",
    "print((np.abs(np.mean([net(torch.Tensor(inp)).detach().cpu().numpy()[1] for net in nets], axis=0)\\\n",
    "       -np.mean([net(torch.Tensor(inp)).detach().cpu().numpy()[10] for net in nets], axis=0))).sum())\n",
    "\n",
    "print((np.abs(np.mean([net(torch.Tensor(inp)).detach().cpu().numpy()[50] for net in nets], axis=0)\\\n",
    "       -np.mean([net(torch.Tensor(inp)).detach().cpu().numpy()[60] for net in nets], axis=0))).sum())\n",
    "\n",
    "print((np.abs(np.mean([net(torch.Tensor(inp)).detach().cpu().numpy()[100] for net in nets], axis=0)\\\n",
    "       -np.mean([net(torch.Tensor(inp)).detach().cpu().numpy()[110] for net in nets], axis=0))).sum())\n",
    "\n",
    "print('KFold Result Train: {:.3f}+/-{:.3f}'.format(np.mean(losses[0]),np.std(losses[0])))\n",
    "print('KFold Result Test: {:.3f}+/-{:.3f}'.format(np.mean(losses[1]),np.std(losses[1])))\n",
    "\n",
    "#plt.fill_between(np.arange(len(lsmea[0])),lsmea[0]+lsstd[0],lsmea[0]-lsstd[0], alpha=.5, color='#1f77b4')\n",
    "#plt.plot(lsmea[0], color='#1f77b4')\n",
    "#plt.fill_between(np.arange(len(lsmea[1])),lsmea[1]+lsstd[1],lsmea[1]-lsstd[1], alpha=.5, color='#ff7f0e')\n",
    "#plt.plot(lsmea[1], color='#ff7f0e')\n",
    "#plt.show()\n",
    "\n",
    "plt.fill_between(np.arange(len(errs[0])),errs[0]+errs[1],errs[0]-errs[1], alpha=.5, color='#1f77b4')\n",
    "plt.plot(errs[0], color='#1f77b4')\n",
    "plt.fill_between(np.arange(len(abserrs[0])),abserrs[0]+abserrs[1],abserrs[0]-abserrs[1], alpha=.5, color='#ff7f0e')\n",
    "plt.plot(abserrs[0], color='#ff7f0e')\n",
    "plt.xticks(np.arange(len(errs[0])),['minutes','goals','assists','cards_yellow','cards_red','own_goals']+['goals_against','saves'], rotation=90)\n",
    "plt.show()\n",
    "\n",
    "pred=np.mean([net(torch.Tensor(inp)).detach().cpu().numpy() for net in nets], axis=0)\n",
    "\n",
    "i=1000\n",
    "cats=['minutes','goals','assists','cards_yellow','cards_red','own_goals']+['goals_against','saves']\n",
    "\n",
    "reframe, byteamframe = revert_output(pred[i])\n",
    "print(byteamframe.astype(int))\n",
    "reframe, byteamframe = revert_output(out[i])\n",
    "print(byteamframe.astype(int))\n",
    "\n",
    "\n",
    "reframe, byteamframe = revert_output(pred[i+1000])\n",
    "print(byteamframe.astype(int))\n",
    "reframe, byteamframe = revert_output(pred[i+1000])\n",
    "print(byteamframe.astype(int))\n",
    "\n",
    "\n",
    "print('rmse from avg: {:.4f}'.format(((pred-out.mean(axis=0))**2).sum(axis=1).mean()))"
   ]
  },
  {
   "cell_type": "code",
   "execution_count": 36,
   "metadata": {},
   "outputs": [
    {
     "name": "stdout",
     "output_type": "stream",
     "text": [
      "rmse from avg: 7.4601\n"
     ]
    }
   ],
   "source": []
  },
  {
   "cell_type": "code",
   "execution_count": 39,
   "metadata": {},
   "outputs": [
    {
     "name": "stderr",
     "output_type": "stream",
     "text": [
      "Epoch: 100%|██████████| 100/100 [1:43:58<00:00, 62.38s/it]   \n",
      "Epoch: 100%|██████████| 100/100 [39:50<00:00, 23.91s/it]\n",
      "Epoch: 100%|██████████| 100/100 [48:28<00:00, 29.08s/it]\n",
      "Epoch: 100%|██████████| 100/100 [49:56<00:00, 29.97s/it]\n",
      "Epoch: 100%|██████████| 100/100 [47:34<00:00, 28.55s/it]\n"
     ]
    },
    {
     "name": "stdout",
     "output_type": "stream",
     "text": [
      "KFold Result: 0.003+/-0.000\n",
      "36.681656\n",
      "20.574345\n",
      "19.595112\n",
      "KFold Result Train: 0.003+/-0.000\n",
      "KFold Result Test: 0.003+/-0.000\n"
     ]
    },
    {
     "data": {
      "image/png": "[encoded data removed]",
      "text/plain": [
       "<Figure size 432x288 with 1 Axes>"
      ]
     },
     "metadata": {},
     "output_type": "display_data"
    },
    {
     "name": "stdout",
     "output_type": "stream",
     "text": [
      "   goals  assists  cards_yellow  cards_red  own_goals  goals_against  saves\n",
      "0      1        1             2          0          0              1      3\n",
      "1      1        1             2          0          0              2      3\n",
      "   goals  assists  cards_yellow  cards_red  own_goals  goals_against  saves\n",
      "0      1        1             4          1          0              0      2\n",
      "1      0        0             1          0          0              1      1\n",
      "   goals  assists  cards_yellow  cards_red  own_goals  goals_against  saves\n",
      "0      1        0             2          0          0              1      3\n",
      "1      1        1             2          0          0              2      3\n",
      "   goals  assists  cards_yellow  cards_red  own_goals  goals_against  saves\n",
      "0      1        0             2          0          0              1      3\n",
      "1      1        1             2          0          0              2      3\n",
      "rmse from avg: 8.6596\n"
     ]
    }
   ],
   "source": [
    " config = {\n",
    "        \"num_layers\": 2,\n",
    "        \"num_nodes_in\": inp.shape[1],\n",
    "        \"num_nodes\": inp.shape[1],\n",
    "        \"num_nodes_out\": out.shape[1], \n",
    "        \"final_activation\" : None,\n",
    "        \"activation\": nn.LeakyReLU(),\n",
    "        \"clip\": False, #hp.choice('clip',[True, False]),\n",
    "        \"batch_size\": 32, #[16, 32, 64, 128]\n",
    "        \"loss_f\": log_cosh_loss,#WSE,#hp.choice('loss_f',[WSE, nn.MSELoss()]), #, nn.L1Loss()\n",
    "        \"optim\": 'adam',#hp.choice('optim',['adam', 'adagrad']),\n",
    "        \"lr\": 0.0001,#hp.choice('lr',[0.0001,0.001,.00001]),#hp.loguniform('lr', np.exp(np.log(1e-4)), np.exp(np.log(1e-1))),\n",
    "        \"batch_norm\": False,#hp.choice('batch_norm',[True, False]),\n",
    "        \"dropout\": 0.0,#hp.choice('dropout',[0.0,0.1,0.2,0.3]),#hp.sample_from(lambda _: np.random.uniform(low=0.0, high=.6)),\n",
    "        \"shuffle\": True,\n",
    "        \"num_workers\": 4,\n",
    "        \"epsilon\":1e-6, \n",
    "        \"patience\": 500,\n",
    "        \"epochs\": 100\n",
    "    }\n",
    "    \n",
    "nets, losses, errs, abserrs=runKfold([inp, out], Net, config, n_models=1, n_splits=5)\n",
    "    \n",
    "print((np.abs(np.mean([net(torch.Tensor(inp)).detach().cpu().numpy()[1] for net in nets], axis=0)\\\n",
    "       -np.mean([net(torch.Tensor(inp)).detach().cpu().numpy()[10] for net in nets], axis=0))).sum())\n",
    "\n",
    "print((np.abs(np.mean([net(torch.Tensor(inp)).detach().cpu().numpy()[50] for net in nets], axis=0)\\\n",
    "       -np.mean([net(torch.Tensor(inp)).detach().cpu().numpy()[60] for net in nets], axis=0))).sum())\n",
    "\n",
    "print((np.abs(np.mean([net(torch.Tensor(inp)).detach().cpu().numpy()[100] for net in nets], axis=0)\\\n",
    "       -np.mean([net(torch.Tensor(inp)).detach().cpu().numpy()[110] for net in nets], axis=0))).sum())\n",
    "\n",
    "print('KFold Result Train: {:.3f}+/-{:.3f}'.format(np.mean(losses[0]),np.std(losses[0])))\n",
    "print('KFold Result Test: {:.3f}+/-{:.3f}'.format(np.mean(losses[1]),np.std(losses[1])))\n",
    "\n",
    "#plt.fill_between(np.arange(len(lsmea[0])),lsmea[0]+lsstd[0],lsmea[0]-lsstd[0], alpha=.5, color='#1f77b4')\n",
    "#plt.plot(lsmea[0], color='#1f77b4')\n",
    "#plt.fill_between(np.arange(len(lsmea[1])),lsmea[1]+lsstd[1],lsmea[1]-lsstd[1], alpha=.5, color='#ff7f0e')\n",
    "#plt.plot(lsmea[1], color='#ff7f0e')\n",
    "#plt.show()\n",
    "\n",
    "plt.fill_between(np.arange(len(errs[0])),errs[0]+errs[1],errs[0]-errs[1], alpha=.5, color='#1f77b4')\n",
    "plt.plot(errs[0], color='#1f77b4')\n",
    "plt.fill_between(np.arange(len(abserrs[0])),abserrs[0]+abserrs[1],abserrs[0]-abserrs[1], alpha=.5, color='#ff7f0e')\n",
    "plt.plot(abserrs[0], color='#ff7f0e')\n",
    "plt.xticks(np.arange(len(errs[0])),['minutes','goals','assists','cards_yellow','cards_red','own_goals']+['goals_against','saves'], rotation=90)\n",
    "plt.show()\n",
    "\n",
    "pred=np.mean([net(torch.Tensor(inp)).detach().cpu().numpy() for net in nets], axis=0)\n",
    "\n",
    "i=1000\n",
    "cats=['minutes','goals','assists','cards_yellow','cards_red','own_goals']+['goals_against','saves']\n",
    "\n",
    "reframe, byteamframe = revert_output(pred[i])\n",
    "print(byteamframe.astype(int))\n",
    "reframe, byteamframe = revert_output(out[i])\n",
    "print(byteamframe.astype(int))\n",
    "\n",
    "\n",
    "reframe, byteamframe = revert_output(pred[i+1000])\n",
    "print(byteamframe.astype(int))\n",
    "reframe, byteamframe = revert_output(pred[i+1000])\n",
    "print(byteamframe.astype(int))\n",
    "\n",
    "\n",
    "print('rmse from avg: {:.4f}'.format(((pred-out.mean(axis=0))**2).sum(axis=1).mean()))\n"
   ]
  },
  {
   "cell_type": "code",
   "execution_count": 41,
   "metadata": {},
   "outputs": [
    {
     "name": "stderr",
     "output_type": "stream",
     "text": [
      "Epoch: 100%|██████████| 100/100 [1:11:13<00:00, 42.73s/it]\n",
      "Epoch: 100%|██████████| 100/100 [1:01:10<00:00, 36.70s/it]\n",
      "Epoch: 100%|██████████| 100/100 [59:51<00:00, 35.91s/it]\n",
      "Epoch: 100%|██████████| 100/100 [1:22:13<00:00, 49.34s/it]\n",
      "Epoch: 100%|██████████| 100/100 [58:31<00:00, 35.12s/it] \n"
     ]
    },
    {
     "name": "stdout",
     "output_type": "stream",
     "text": [
      "KFold Result: 0.007+/-0.000\n",
      "37.983227\n",
      "20.927906\n",
      "20.947596\n",
      "KFold Result Train: 0.007+/-0.000\n",
      "KFold Result Test: 0.007+/-0.000\n"
     ]
    },
    {
     "data": {
      "image/png": "[encoded data removed]",
      "text/plain": [
       "<Figure size 432x288 with 1 Axes>"
      ]
     },
     "metadata": {},
     "output_type": "display_data"
    },
    {
     "name": "stdout",
     "output_type": "stream",
     "text": [
      "   goals  assists  cards_yellow  cards_red  own_goals  goals_against  saves\n",
      "0      1        1             1          0          0              2      4\n",
      "1      1        1             2          0          0              2      4\n",
      "   goals  assists  cards_yellow  cards_red  own_goals  goals_against  saves\n",
      "0      1        1             4          1          0              0      2\n",
      "1      0        0             1          0          0              1      1\n",
      "   goals  assists  cards_yellow  cards_red  own_goals  goals_against  saves\n",
      "0      2        1             2          0          0              1      4\n",
      "1      1        1             2          0          0              2      4\n",
      "   goals  assists  cards_yellow  cards_red  own_goals  goals_against  saves\n",
      "0      2        1             2          0          0              1      4\n",
      "1      1        1             2          0          0              2      4\n",
      "rmse from avg: 8.7481\n"
     ]
    }
   ],
   "source": [
    " config = {\n",
    "        \"num_layers\": 3,\n",
    "        \"num_nodes_in\": inp.shape[1],\n",
    "        \"num_nodes\": inp.shape[1],\n",
    "        \"num_nodes_out\": out.shape[1], \n",
    "        \"final_activation\" : None,\n",
    "        \"activation\": nn.LeakyReLU(),\n",
    "        \"clip\": False, #hp.choice('clip',[True, False]),\n",
    "        \"batch_size\": 32, #[16, 32, 64, 128]\n",
    "        \"loss_f\": nn.MSELoss(),#WSE,#hp.choice('loss_f',[WSE, nn.MSELoss()]), #, nn.L1Loss()\n",
    "        \"optim\": 'adam',#hp.choice('optim',['adam', 'adagrad']),\n",
    "        \"lr\": 0.0005,#hp.choice('lr',[0.0001,0.001,.00001]),#hp.loguniform('lr', np.exp(np.log(1e-4)), np.exp(np.log(1e-1))),\n",
    "        \"batch_norm\": False,#hp.choice('batch_norm',[True, False]),\n",
    "        \"dropout\": 0.0,#hp.choice('dropout',[0.0,0.1,0.2,0.3]),#hp.sample_from(lambda _: np.random.uniform(low=0.0, high=.6)),\n",
    "        \"shuffle\": True,\n",
    "        \"num_workers\": 4,\n",
    "        \"epsilon\":1e-6, \n",
    "        \"patience\": 500,\n",
    "        \"epochs\": 100\n",
    "    }\n",
    "    \n",
    "nets, losses, errs, abserrs=runKfold([inp, out], Net, config, n_models=1, n_splits=5)\n",
    "    \n",
    "print((np.abs(np.mean([net(torch.Tensor(inp)).detach().cpu().numpy()[1] for net in nets], axis=0)\\\n",
    "       -np.mean([net(torch.Tensor(inp)).detach().cpu().numpy()[10] for net in nets], axis=0))).sum())\n",
    "\n",
    "print((np.abs(np.mean([net(torch.Tensor(inp)).detach().cpu().numpy()[50] for net in nets], axis=0)\\\n",
    "       -np.mean([net(torch.Tensor(inp)).detach().cpu().numpy()[60] for net in nets], axis=0))).sum())\n",
    "\n",
    "print((np.abs(np.mean([net(torch.Tensor(inp)).detach().cpu().numpy()[100] for net in nets], axis=0)\\\n",
    "       -np.mean([net(torch.Tensor(inp)).detach().cpu().numpy()[110] for net in nets], axis=0))).sum())\n",
    "\n",
    "print('KFold Result Train: {:.3f}+/-{:.3f}'.format(np.mean(losses[0]),np.std(losses[0])))\n",
    "print('KFold Result Test: {:.3f}+/-{:.3f}'.format(np.mean(losses[1]),np.std(losses[1])))\n",
    "\n",
    "#plt.fill_between(np.arange(len(lsmea[0])),lsmea[0]+lsstd[0],lsmea[0]-lsstd[0], alpha=.5, color='#1f77b4')\n",
    "#plt.plot(lsmea[0], color='#1f77b4')\n",
    "#plt.fill_between(np.arange(len(lsmea[1])),lsmea[1]+lsstd[1],lsmea[1]-lsstd[1], alpha=.5, color='#ff7f0e')\n",
    "#plt.plot(lsmea[1], color='#ff7f0e')\n",
    "#plt.show()\n",
    "\n",
    "plt.fill_between(np.arange(len(errs[0])),errs[0]+errs[1],errs[0]-errs[1], alpha=.5, color='#1f77b4')\n",
    "plt.plot(errs[0], color='#1f77b4')\n",
    "plt.fill_between(np.arange(len(abserrs[0])),abserrs[0]+abserrs[1],abserrs[0]-abserrs[1], alpha=.5, color='#ff7f0e')\n",
    "plt.plot(abserrs[0], color='#ff7f0e')\n",
    "plt.xticks(np.arange(len(errs[0])),['minutes','goals','assists','cards_yellow','cards_red','own_goals']+['goals_against','saves'], rotation=90)\n",
    "plt.show()\n",
    "\n",
    "pred=np.mean([net(torch.Tensor(inp)).detach().cpu().numpy() for net in nets], axis=0)\n",
    "\n",
    "i=1000\n",
    "cats=['minutes','goals','assists','cards_yellow','cards_red','own_goals']+['goals_against','saves']\n",
    "\n",
    "reframe, byteamframe = revert_output(pred[i])\n",
    "print(byteamframe.astype(int))\n",
    "reframe, byteamframe = revert_output(out[i])\n",
    "print(byteamframe.astype(int))\n",
    "\n",
    "\n",
    "reframe, byteamframe = revert_output(pred[i+1000])\n",
    "print(byteamframe.astype(int))\n",
    "reframe, byteamframe = revert_output(pred[i+1000])\n",
    "print(byteamframe.astype(int))\n",
    "\n",
    "\n",
    "print('rmse from avg: {:.4f}'.format(((pred-out.mean(axis=0))**2).sum(axis=1).mean()))\n"
   ]
  },
  {
   "cell_type": "code",
   "execution_count": 17,
   "metadata": {},
   "outputs": [],
   "source": [
    "from sklearn.model_selection import KFold\n",
    "\n",
    "def runKfold_onthefly(data, model, config, n_models=5, n_splits=5):\n",
    "    \n",
    "    num_layers=np.random.choice(config[\"num_layers\"],n_models*n_splits)\n",
    "    num_nodes=np.random.choice(config[\"num_nodes\"],n_models*n_splits)\n",
    "    \n",
    "    kf = KFold(n_splits=n_splits, shuffle=True)\n",
    "    kf.get_n_splits(data[0])\n",
    "\n",
    "    trlosses=[]\n",
    "    losses=[]\n",
    "    ec=[]\n",
    "    mss=[]\n",
    "    diffs=[]\n",
    "    oobs=[]\n",
    "    \n",
    "    n=0\n",
    "    for train_index, test_index in kf.split(data[0]):\n",
    "        x_train, y_train, x_test, y_test = pd.DataFrame(data[0][train_index]), pd.DataFrame(data[1][train_index]), data[0][test_index], data[1][test_index]\n",
    "                \n",
    "        nets=[]\n",
    "        oobs.append([])\n",
    "        pred_train=[]\n",
    "        pred_test=[]\n",
    "        for m in range(n_models):\n",
    "            \n",
    "            config['num_layers']=num_layers[(n*5)+m]\n",
    "            config['num_nodes']=num_nodes[(n*5)+m]\n",
    "            print(m, config['num_layers'], config['num_nodes'])\n",
    "        \n",
    "            x_train_bag = x_train.sample(frac=.9, replace=True, random_state=m)\n",
    "            y_train_bag = y_train.loc[x_train_bag.index].values\n",
    "            \n",
    "            x_test_bag  = x_train.loc[[x for x in x_train.index if x not in x_train_bag.index]].values\n",
    "            y_test_bag  = y_train.loc[[x for x in x_train.index if x not in x_train_bag.index]].values\n",
    "            \n",
    "            x_train_bag = x_train_bag.values\n",
    "\n",
    "            net, val_loss, ls, df = train_alone(config, [x_train_bag, y_train_bag, x_test_bag, y_test_bag], model, silent=True, checkpoint_dir=None)\n",
    "            \n",
    "            nets.append(net)\n",
    "            oobs[-1].append(val_loss)\n",
    "            \n",
    "            pred_train.append(net(torch.Tensor(x_train.values)))#.detach().cpu().numpy())\n",
    "            pred_test.append(net(torch.Tensor(x_test)))#.detach().cpu().numpy())\n",
    "            \n",
    "        pred_train = torch.mean(torch.stack(pred_train),axis=0)\n",
    "        pred_test = torch.mean(torch.stack(pred_test),axis=0)\n",
    "        \n",
    "        trlosses.append(np.mean(config['loss_f'](pred_train, torch.Tensor(y_train.values)).detach().cpu().numpy()))\n",
    "        losses.append(np.mean(config['loss_f'](pred_test, torch.Tensor(y_test)).detach().cpu().numpy()))\n",
    "        diffs.append(torch.mean(pred_test-torch.Tensor(y_test),axis=0).detach().cpu().numpy().reshape(-1, 48))\n",
    "                \n",
    "        n+=1\n",
    "        \n",
    "    errs=[np.mean(x, axis=1) for x in diffs]\n",
    "    meaerrs=np.mean(errs, axis=0)\n",
    "    meastd=np.std(errs, axis=0)\n",
    "\n",
    "    abserrs=[np.mean(np.abs(x), axis=1) for x in diffs]\n",
    "    absmeaerrs=np.mean(abserrs, axis=0)\n",
    "    absmeastd=np.std(abserrs, axis=0)\n",
    "        \n",
    "    print('KFold Result: {:.3f}+/-{:.3f}'.format(np.mean([np.mean(x) for x in losses]),np.std([np.mean(x) for x in losses])))\n",
    "    return nets, [trlosses,losses], [meaerrs, meastd], [absmeaerrs, absmeastd]"
   ]
  },
  {
   "cell_type": "code",
   "execution_count": 235,
   "metadata": {},
   "outputs": [
    {
     "name": "stdout",
     "output_type": "stream",
     "text": [
      "0 3 272\n"
     ]
    },
    {
     "name": "stderr",
     "output_type": "stream",
     "text": [
      "Epoch:  18%|█▊        | 9/50 [02:52<13:04, 19.12s/it]\n"
     ]
    },
    {
     "name": "stdout",
     "output_type": "stream",
     "text": [
      "1 1 163\n"
     ]
    },
    {
     "name": "stderr",
     "output_type": "stream",
     "text": [
      "Epoch:  36%|███▌      | 18/50 [03:44<06:38, 12.47s/it]\n"
     ]
    },
    {
     "name": "stdout",
     "output_type": "stream",
     "text": [
      "2 4 163\n"
     ]
    },
    {
     "name": "stderr",
     "output_type": "stream",
     "text": [
      "Epoch:  20%|██        | 10/50 [02:38<10:32, 15.81s/it]\n"
     ]
    },
    {
     "name": "stdout",
     "output_type": "stream",
     "text": [
      "3 3 408\n"
     ]
    },
    {
     "name": "stderr",
     "output_type": "stream",
     "text": [
      "Epoch:  14%|█▍        | 7/50 [02:59<18:21, 25.63s/it]\n"
     ]
    },
    {
     "name": "stdout",
     "output_type": "stream",
     "text": [
      "4 1 204\n"
     ]
    },
    {
     "name": "stderr",
     "output_type": "stream",
     "text": [
      "Epoch:  20%|██        | 10/50 [02:05<08:22, 12.56s/it]\n"
     ]
    },
    {
     "name": "stdout",
     "output_type": "stream",
     "text": [
      "0 2 272\n"
     ]
    },
    {
     "name": "stderr",
     "output_type": "stream",
     "text": [
      "Epoch:  32%|███▏      | 16/50 [04:17<09:06, 16.08s/it]\n"
     ]
    },
    {
     "name": "stdout",
     "output_type": "stream",
     "text": [
      "1 1 408\n"
     ]
    },
    {
     "name": "stderr",
     "output_type": "stream",
     "text": [
      "Epoch:  26%|██▌       | 13/50 [04:13<12:00, 19.47s/it]\n"
     ]
    },
    {
     "name": "stdout",
     "output_type": "stream",
     "text": [
      "2 1 204\n"
     ]
    },
    {
     "name": "stderr",
     "output_type": "stream",
     "text": [
      "Epoch:  32%|███▏      | 16/50 [03:39<07:46, 13.71s/it]\n"
     ]
    },
    {
     "name": "stdout",
     "output_type": "stream",
     "text": [
      "3 1 163\n"
     ]
    },
    {
     "name": "stderr",
     "output_type": "stream",
     "text": [
      "Epoch:  26%|██▌       | 13/50 [02:46<07:55, 12.84s/it]\n"
     ]
    },
    {
     "name": "stdout",
     "output_type": "stream",
     "text": [
      "4 4 163\n"
     ]
    },
    {
     "name": "stderr",
     "output_type": "stream",
     "text": [
      "Epoch:  40%|████      | 20/50 [05:11<07:46, 15.55s/it]\n"
     ]
    },
    {
     "name": "stdout",
     "output_type": "stream",
     "text": [
      "0 4 272\n"
     ]
    },
    {
     "name": "stderr",
     "output_type": "stream",
     "text": [
      "Epoch:  34%|███▍      | 17/50 [04:38<09:01, 16.40s/it]\n"
     ]
    },
    {
     "name": "stdout",
     "output_type": "stream",
     "text": [
      "1 1 272\n"
     ]
    },
    {
     "name": "stderr",
     "output_type": "stream",
     "text": [
      "Epoch:  16%|█▌        | 8/50 [01:29<07:48, 11.16s/it]\n"
     ]
    },
    {
     "name": "stdout",
     "output_type": "stream",
     "text": [
      "2 4 163\n"
     ]
    },
    {
     "name": "stderr",
     "output_type": "stream",
     "text": [
      "Epoch:  24%|██▍       | 12/50 [02:05<06:37, 10.46s/it]\n"
     ]
    },
    {
     "name": "stdout",
     "output_type": "stream",
     "text": [
      "3 4 163\n"
     ]
    },
    {
     "name": "stderr",
     "output_type": "stream",
     "text": [
      "Epoch:  30%|███       | 15/50 [02:48<06:32, 11.20s/it]\n"
     ]
    },
    {
     "name": "stdout",
     "output_type": "stream",
     "text": [
      "4 3 408\n"
     ]
    },
    {
     "name": "stderr",
     "output_type": "stream",
     "text": [
      "Epoch:  18%|█▊        | 9/50 [02:31<11:32, 16.88s/it]\n"
     ]
    },
    {
     "name": "stdout",
     "output_type": "stream",
     "text": [
      "0 1 272\n"
     ]
    },
    {
     "name": "stderr",
     "output_type": "stream",
     "text": [
      "Epoch:  18%|█▊        | 9/50 [01:24<06:23,  9.36s/it]\n"
     ]
    },
    {
     "name": "stdout",
     "output_type": "stream",
     "text": [
      "1 3 204\n"
     ]
    },
    {
     "name": "stderr",
     "output_type": "stream",
     "text": [
      "Epoch:  20%|██        | 10/50 [01:49<07:19, 10.99s/it]\n"
     ]
    },
    {
     "name": "stdout",
     "output_type": "stream",
     "text": [
      "2 1 408\n"
     ]
    },
    {
     "name": "stderr",
     "output_type": "stream",
     "text": [
      "Epoch:  20%|██        | 10/50 [01:56<07:45, 11.63s/it]\n"
     ]
    },
    {
     "name": "stdout",
     "output_type": "stream",
     "text": [
      "3 3 204\n"
     ]
    },
    {
     "name": "stderr",
     "output_type": "stream",
     "text": [
      "Epoch:  24%|██▍       | 12/50 [02:05<06:35, 10.42s/it]\n"
     ]
    },
    {
     "name": "stdout",
     "output_type": "stream",
     "text": [
      "4 3 163\n"
     ]
    },
    {
     "name": "stderr",
     "output_type": "stream",
     "text": [
      "Epoch:  26%|██▌       | 13/50 [02:01<05:47,  9.38s/it]\n"
     ]
    },
    {
     "name": "stdout",
     "output_type": "stream",
     "text": [
      "0 3 408\n"
     ]
    },
    {
     "name": "stderr",
     "output_type": "stream",
     "text": [
      "Epoch:  16%|█▌        | 8/50 [02:14<11:47, 16.85s/it]\n"
     ]
    },
    {
     "name": "stdout",
     "output_type": "stream",
     "text": [
      "1 4 408\n"
     ]
    },
    {
     "name": "stderr",
     "output_type": "stream",
     "text": [
      "Epoch:  34%|███▍      | 17/50 [05:27<10:35, 19.25s/it]\n"
     ]
    },
    {
     "name": "stdout",
     "output_type": "stream",
     "text": [
      "2 3 163\n"
     ]
    },
    {
     "name": "stderr",
     "output_type": "stream",
     "text": [
      "Epoch:  16%|█▌        | 8/50 [01:18<06:50,  9.76s/it]\n"
     ]
    },
    {
     "name": "stdout",
     "output_type": "stream",
     "text": [
      "3 2 163\n"
     ]
    },
    {
     "name": "stderr",
     "output_type": "stream",
     "text": [
      "Epoch:  28%|██▊       | 14/50 [02:19<05:58,  9.96s/it]\n"
     ]
    },
    {
     "name": "stdout",
     "output_type": "stream",
     "text": [
      "4 2 204\n"
     ]
    },
    {
     "name": "stderr",
     "output_type": "stream",
     "text": [
      "Epoch:  42%|████▏     | 21/50 [03:40<05:04, 10.50s/it]\n"
     ]
    },
    {
     "name": "stdout",
     "output_type": "stream",
     "text": [
      "KFold Result: 0.003+/-0.000\n",
      "31.397055\n",
      "20.77724\n",
      "18.84803\n",
      "KFold Result Train: 0.003+/-0.000\n",
      "KFold Result Test: 0.003+/-0.000\n"
     ]
    },
    {
     "data": {
      "image/png": "[encoded data removed]",
      "text/plain": [
       "<Figure size 432x288 with 1 Axes>"
      ]
     },
     "metadata": {},
     "output_type": "display_data"
    },
    {
     "name": "stdout",
     "output_type": "stream",
     "text": [
      "   goals  assists  cards_yellow  cards_red  own_goals  goals_against  saves\n",
      "0      1        1             1          0          0              1      2\n",
      "1      1        0             2          0          0              1      3\n",
      "   goals  assists  cards_yellow  cards_red  own_goals  goals_against  saves\n",
      "0      1        1             4          1          0              0      2\n",
      "1      0        0             1          0          0              1      1\n"
     ]
    }
   ],
   "source": [
    " config = {\n",
    "        \"num_layers\": [1,2,3,4],\n",
    "        \"num_nodes_in\": inp.shape[1],\n",
    "        \"num_nodes\": [int(inp.shape[1]/5),int(inp.shape[1]/4),int(inp.shape[1]/3),int(inp.shape[1]/2)],\n",
    "        \"num_nodes_out\": out.shape[1], \n",
    "        \"final_activation\" : None,\n",
    "        \"activation\": nn.LeakyReLU(),\n",
    "        \"clip\": False, #hp.choice('clip',[True, False]),\n",
    "        \"batch_size\": 32, #[16, 32, 64, 128]\n",
    "        \"loss_f\": log_cosh_loss,#WSE,#hp.choice('loss_f',[WSE, nn.MSELoss()]), #, nn.L1Loss()\n",
    "        \"optim\": 'adam',#hp.choice('optim',['adam', 'adagrad']),\n",
    "        \"lr\": 0.0001,#hp.choice('lr',[0.0001,0.001,.00001]),#hp.loguniform('lr', np.exp(np.log(1e-4)), np.exp(np.log(1e-1))),\n",
    "        \"batch_norm\": False,#hp.choice('batch_norm',[True, False]),\n",
    "        \"dropout\": 0.0,#hp.choice('dropout',[0.0,0.1,0.2,0.3]),#hp.sample_from(lambda _: np.random.uniform(low=0.0, high=.6)),\n",
    "        \"shuffle\": True,\n",
    "        \"num_workers\": 4,\n",
    "        \"patience\": 5,\n",
    "        \"epochs\": 50\n",
    "    }\n",
    "    \n",
    "nets, losses, errs, abserrs=runKfold_onthefly([inp, out], Net, config, n_models=5, n_splits=5)\n",
    "    \n",
    "print((np.abs(np.mean([net(torch.Tensor(inp)).detach().cpu().numpy()[1] for net in nets], axis=0)\\\n",
    "       -np.mean([net(torch.Tensor(inp)).detach().cpu().numpy()[10] for net in nets], axis=0))).sum())\n",
    "\n",
    "print((np.abs(np.mean([net(torch.Tensor(inp)).detach().cpu().numpy()[50] for net in nets], axis=0)\\\n",
    "       -np.mean([net(torch.Tensor(inp)).detach().cpu().numpy()[60] for net in nets], axis=0))).sum())\n",
    "\n",
    "print((np.abs(np.mean([net(torch.Tensor(inp)).detach().cpu().numpy()[100] for net in nets], axis=0)\\\n",
    "       -np.mean([net(torch.Tensor(inp)).detach().cpu().numpy()[110] for net in nets], axis=0))).sum())\n",
    "\n",
    "print('KFold Result Train: {:.3f}+/-{:.3f}'.format(np.mean(losses[0]),np.std(losses[0])))\n",
    "print('KFold Result Test: {:.3f}+/-{:.3f}'.format(np.mean(losses[1]),np.std(losses[1])))\n",
    "\n",
    "#plt.fill_between(np.arange(len(lsmea[0])),lsmea[0]+lsstd[0],lsmea[0]-lsstd[0], alpha=.5, color='#1f77b4')\n",
    "#plt.plot(lsmea[0], color='#1f77b4')\n",
    "#plt.fill_between(np.arange(len(lsmea[1])),lsmea[1]+lsstd[1],lsmea[1]-lsstd[1], alpha=.5, color='#ff7f0e')\n",
    "#plt.plot(lsmea[1], color='#ff7f0e')\n",
    "#plt.show()\n",
    "\n",
    "plt.fill_between(np.arange(len(errs[0])),errs[0]+errs[1],errs[0]-errs[1], alpha=.5, color='#1f77b4')\n",
    "plt.plot(errs[0], color='#1f77b4')\n",
    "plt.fill_between(np.arange(len(abserrs[0])),abserrs[0]+abserrs[1],abserrs[0]-abserrs[1], alpha=.5, color='#ff7f0e')\n",
    "plt.plot(abserrs[0], color='#ff7f0e')\n",
    "plt.xticks(np.arange(len(errs[0])),['minutes','goals','assists','cards_yellow','cards_red','own_goals']+['goals_against','saves'], rotation=90)\n",
    "plt.show()\n",
    "\n",
    "pred=np.mean([net(torch.Tensor(inp)).detach().cpu().numpy() for net in nets], axis=0)\n",
    "\n",
    "i=1000\n",
    "cats=['minutes','goals','assists','cards_yellow','cards_red','own_goals']+['goals_against','saves']\n",
    "\n",
    "reframe, byteamframe = revert_output(pred[i])\n",
    "print(byteamframe.astype(int))\n",
    "reframe, byteamframe = revert_output(out[i])\n",
    "print(byteamframe.astype(int))"
   ]
  },
  {
   "cell_type": "code",
   "execution_count": 13,
   "metadata": {},
   "outputs": [
    {
     "name": "stderr",
     "output_type": "stream",
     "text": [
      "Epoch:  38%|███▊      | 19/50 [02:42<04:24,  8.53s/it]\n",
      "Epoch:  22%|██▏       | 11/50 [01:33<05:31,  8.50s/it]\n",
      "Epoch:  18%|█▊        | 9/50 [01:19<06:00,  8.79s/it]\n",
      "Epoch:  32%|███▏      | 16/50 [02:15<04:47,  8.45s/it]\n",
      "Epoch:  28%|██▊       | 14/50 [01:58<05:04,  8.45s/it]\n",
      "Epoch:  28%|██▊       | 14/50 [02:00<05:10,  8.63s/it]\n",
      "Epoch:  26%|██▌       | 13/50 [01:51<05:17,  8.57s/it]\n",
      "Epoch:  20%|██        | 10/50 [01:26<05:45,  8.63s/it]\n",
      "Epoch:  18%|█▊        | 9/50 [01:16<05:49,  8.52s/it]\n",
      "Epoch:  38%|███▊      | 19/50 [02:41<04:23,  8.50s/it]\n",
      "Epoch:  26%|██▌       | 13/50 [01:49<05:12,  8.44s/it]\n",
      "Epoch:  32%|███▏      | 16/50 [02:14<04:45,  8.39s/it]\n",
      "Epoch:  32%|███▏      | 16/50 [02:14<04:46,  8.44s/it]\n",
      "Epoch:  26%|██▌       | 13/50 [01:50<05:13,  8.46s/it]\n",
      "Epoch:  20%|██        | 10/50 [01:24<05:38,  8.45s/it]\n",
      "Epoch:  26%|██▌       | 13/50 [01:50<05:15,  8.52s/it]\n",
      "Epoch:  24%|██▍       | 12/50 [01:47<05:39,  8.92s/it]\n",
      "Epoch:  16%|█▌        | 8/50 [01:07<05:52,  8.38s/it]\n",
      "Epoch:  26%|██▌       | 13/50 [01:52<05:21,  8.68s/it]\n",
      "Epoch:  30%|███       | 15/50 [02:07<04:56,  8.48s/it]\n",
      "Epoch:  22%|██▏       | 11/50 [01:34<05:35,  8.61s/it]\n",
      "Epoch:  22%|██▏       | 11/50 [01:33<05:31,  8.49s/it]\n",
      "Epoch:  18%|█▊        | 9/50 [01:15<05:46,  8.44s/it]\n",
      "Epoch:  36%|███▌      | 18/50 [02:33<04:32,  8.52s/it]\n",
      "Epoch:  16%|█▌        | 8/50 [01:16<06:40,  9.53s/it]\n",
      "Epoch:  20%|██        | 10/50 [01:24<05:38,  8.46s/it]\n",
      "Epoch:  20%|██        | 10/50 [01:39<06:39, 10.00s/it]\n",
      "Epoch:  26%|██▌       | 13/50 [02:18<06:33, 10.63s/it]\n",
      "Epoch:  24%|██▍       | 12/50 [01:55<06:06,  9.65s/it]\n",
      "Epoch:  20%|██        | 10/50 [01:36<06:25,  9.64s/it]\n",
      "Epoch:  28%|██▊       | 14/50 [02:04<05:20,  8.91s/it]\n",
      "Epoch:  26%|██▌       | 13/50 [01:56<05:32,  8.98s/it]\n",
      "Epoch:  26%|██▌       | 13/50 [02:07<06:01,  9.78s/it]\n",
      "Epoch:  34%|███▍      | 17/50 [02:33<04:58,  9.03s/it]\n",
      "Epoch:  20%|██        | 10/50 [01:27<05:49,  8.74s/it]\n",
      "Epoch:  26%|██▌       | 13/50 [02:05<05:57,  9.66s/it]\n",
      "Epoch:  16%|█▌        | 8/50 [01:20<07:02, 10.06s/it]\n",
      "Epoch:  22%|██▏       | 11/50 [02:03<07:17, 11.21s/it]\n",
      "Epoch:  22%|██▏       | 11/50 [01:48<06:23,  9.82s/it]\n",
      "Epoch:  20%|██        | 10/50 [01:45<07:01, 10.55s/it]\n",
      "Epoch:  30%|███       | 15/50 [02:17<05:20,  9.17s/it]\n",
      "Epoch:  30%|███       | 15/50 [02:22<05:32,  9.50s/it]\n",
      "Epoch:  26%|██▌       | 13/50 [02:07<06:04,  9.84s/it]\n",
      "Epoch:  22%|██▏       | 11/50 [01:38<05:47,  8.91s/it]\n",
      "Epoch:  26%|██▌       | 13/50 [01:57<05:34,  9.03s/it]\n",
      "Epoch:  38%|███▊      | 19/50 [02:53<04:43,  9.13s/it]\n",
      "Epoch:  30%|███       | 15/50 [02:14<05:12,  8.94s/it]\n",
      "Epoch:  20%|██        | 10/50 [01:35<06:21,  9.53s/it]\n",
      "Epoch:  18%|█▊        | 9/50 [01:24<06:25,  9.40s/it]\n",
      "Epoch:  20%|██        | 10/50 [01:31<06:06,  9.16s/it]\n"
     ]
    },
    {
     "name": "stdout",
     "output_type": "stream",
     "text": [
      "KFold Result: 0.003+/-0.000\n",
      "33.536674\n",
      "18.265581\n",
      "17.603857\n",
      "KFold Result Train: 0.003+/-0.000\n",
      "KFold Result Test: 0.003+/-0.000\n"
     ]
    },
    {
     "data": {
      "image/png": "[encoded data removed]",
      "text/plain": [
       "<Figure size 432x288 with 1 Axes>"
      ]
     },
     "metadata": {},
     "output_type": "display_data"
    },
    {
     "ename": "NameError",
     "evalue": "name 'revert_output' is not defined",
     "output_type": "error",
     "traceback": [
      "\u001b[0;31m---------------------------------------------------------------------------\u001b[0m",
      "\u001b[0;31mNameError\u001b[0m                                 Traceback (most recent call last)",
      "\u001b[0;32m<ipython-input-13-729ecaeea2a7>\u001b[0m in \u001b[0;36m<module>\u001b[0;34m\u001b[0m\n\u001b[1;32m     51\u001b[0m \u001b[0mcats\u001b[0m\u001b[0;34m=\u001b[0m\u001b[0;34m[\u001b[0m\u001b[0;34m'minutes'\u001b[0m\u001b[0;34m,\u001b[0m\u001b[0;34m'goals'\u001b[0m\u001b[0;34m,\u001b[0m\u001b[0;34m'assists'\u001b[0m\u001b[0;34m,\u001b[0m\u001b[0;34m'cards_yellow'\u001b[0m\u001b[0;34m,\u001b[0m\u001b[0;34m'cards_red'\u001b[0m\u001b[0;34m,\u001b[0m\u001b[0;34m'own_goals'\u001b[0m\u001b[0;34m]\u001b[0m\u001b[0;34m+\u001b[0m\u001b[0;34m[\u001b[0m\u001b[0;34m'goals_against'\u001b[0m\u001b[0;34m,\u001b[0m\u001b[0;34m'saves'\u001b[0m\u001b[0;34m]\u001b[0m\u001b[0;34m\u001b[0m\u001b[0;34m\u001b[0m\u001b[0m\n\u001b[1;32m     52\u001b[0m \u001b[0;34m\u001b[0m\u001b[0m\n\u001b[0;32m---> 53\u001b[0;31m \u001b[0mreframe\u001b[0m\u001b[0;34m,\u001b[0m \u001b[0mbyteamframe\u001b[0m \u001b[0;34m=\u001b[0m \u001b[0mrevert_output\u001b[0m\u001b[0;34m(\u001b[0m\u001b[0mpred\u001b[0m\u001b[0;34m[\u001b[0m\u001b[0mi\u001b[0m\u001b[0;34m]\u001b[0m\u001b[0;34m)\u001b[0m\u001b[0;34m\u001b[0m\u001b[0;34m\u001b[0m\u001b[0m\n\u001b[0m\u001b[1;32m     54\u001b[0m \u001b[0mprint\u001b[0m\u001b[0;34m(\u001b[0m\u001b[0mbyteamframe\u001b[0m\u001b[0;34m.\u001b[0m\u001b[0mastype\u001b[0m\u001b[0;34m(\u001b[0m\u001b[0mint\u001b[0m\u001b[0;34m)\u001b[0m\u001b[0;34m)\u001b[0m\u001b[0;34m\u001b[0m\u001b[0;34m\u001b[0m\u001b[0m\n\u001b[1;32m     55\u001b[0m \u001b[0mreframe\u001b[0m\u001b[0;34m,\u001b[0m \u001b[0mbyteamframe\u001b[0m \u001b[0;34m=\u001b[0m \u001b[0mrevert_output\u001b[0m\u001b[0;34m(\u001b[0m\u001b[0mout\u001b[0m\u001b[0;34m[\u001b[0m\u001b[0mi\u001b[0m\u001b[0;34m]\u001b[0m\u001b[0;34m)\u001b[0m\u001b[0;34m\u001b[0m\u001b[0;34m\u001b[0m\u001b[0m\n",
      "\u001b[0;31mNameError\u001b[0m: name 'revert_output' is not defined"
     ]
    }
   ],
   "source": [
    " config = {\n",
    "        \"num_layers\": 2,\n",
    "        \"num_nodes_in\": inp.shape[1],\n",
    "        \"num_nodes\": inp.shape[1]/5,\n",
    "        \"num_nodes_out\": out.shape[1], \n",
    "        \"final_activation\" : None,\n",
    "        \"activation\": nn.LeakyReLU(),\n",
    "        \"clip\": False, #hp.choice('clip',[True, False]),\n",
    "        \"batch_size\": 32, #[16, 32, 64, 128]\n",
    "        \"loss_f\": log_cosh_loss,#WSE,#hp.choice('loss_f',[WSE, nn.MSELoss()]), #, nn.L1Loss()\n",
    "        \"optim\": 'adam',#hp.choice('optim',['adam', 'adagrad']),\n",
    "        \"lr\": 0.0001,#hp.choice('lr',[0.0001,0.001,.00001]),#hp.loguniform('lr', np.exp(np.log(1e-4)), np.exp(np.log(1e-1))),\n",
    "        \"batch_norm\": False,#hp.choice('batch_norm',[True, False]),\n",
    "        \"dropout\": 0.0,#hp.choice('dropout',[0.0,0.1,0.2,0.3]),#hp.sample_from(lambda _: np.random.uniform(low=0.0, high=.6)),\n",
    "        \"shuffle\": True,\n",
    "        \"num_workers\": 4,\n",
    "        \"patience\": 5,\n",
    "        \"epochs\": 50\n",
    "    }\n",
    "    \n",
    "nets, losses, errs, abserrs=runKfold([inp, out], Net, config, n_models=10, n_splits=5)\n",
    "    \n",
    "print((np.abs(np.mean([net(torch.Tensor(inp)).detach().cpu().numpy()[1] for net in nets], axis=0)\\\n",
    "       -np.mean([net(torch.Tensor(inp)).detach().cpu().numpy()[10] for net in nets], axis=0))).sum())\n",
    "\n",
    "print((np.abs(np.mean([net(torch.Tensor(inp)).detach().cpu().numpy()[50] for net in nets], axis=0)\\\n",
    "       -np.mean([net(torch.Tensor(inp)).detach().cpu().numpy()[60] for net in nets], axis=0))).sum())\n",
    "\n",
    "print((np.abs(np.mean([net(torch.Tensor(inp)).detach().cpu().numpy()[100] for net in nets], axis=0)\\\n",
    "       -np.mean([net(torch.Tensor(inp)).detach().cpu().numpy()[110] for net in nets], axis=0))).sum())\n",
    "\n",
    "print('KFold Result Train: {:.3f}+/-{:.3f}'.format(np.mean(losses[0]),np.std(losses[0])))\n",
    "print('KFold Result Test: {:.3f}+/-{:.3f}'.format(np.mean(losses[1]),np.std(losses[1])))\n",
    "\n",
    "#plt.fill_between(np.arange(len(lsmea[0])),lsmea[0]+lsstd[0],lsmea[0]-lsstd[0], alpha=.5, color='#1f77b4')\n",
    "#plt.plot(lsmea[0], color='#1f77b4')\n",
    "#plt.fill_between(np.arange(len(lsmea[1])),lsmea[1]+lsstd[1],lsmea[1]-lsstd[1], alpha=.5, color='#ff7f0e')\n",
    "#plt.plot(lsmea[1], color='#ff7f0e')\n",
    "#plt.show()\n",
    "\n",
    "plt.fill_between(np.arange(len(errs[0])),errs[0]+errs[1],errs[0]-errs[1], alpha=.5, color='#1f77b4')\n",
    "plt.plot(errs[0], color='#1f77b4')\n",
    "plt.fill_between(np.arange(len(abserrs[0])),abserrs[0]+abserrs[1],abserrs[0]-abserrs[1], alpha=.5, color='#ff7f0e')\n",
    "plt.plot(abserrs[0], color='#ff7f0e')\n",
    "plt.xticks(np.arange(len(errs[0])),['minutes','goals','assists','cards_yellow','cards_red','own_goals']+['goals_against','saves'], rotation=90)\n",
    "plt.show()\n",
    "\n",
    "pred=np.mean([net(torch.Tensor(inp)).detach().cpu().numpy() for net in nets], axis=0)\n",
    "\n",
    "i=1000\n",
    "cats=['minutes','goals','assists','cards_yellow','cards_red','own_goals']+['goals_against','saves']\n",
    "\n",
    "reframe, byteamframe = revert_output(pred[i])\n",
    "print(byteamframe.astype(int))\n",
    "reframe, byteamframe = revert_output(out[i])\n",
    "print(byteamframe.astype(int))"
   ]
  },
  {
   "cell_type": "code",
   "execution_count": 15,
   "metadata": {},
   "outputs": [
    {
     "name": "stdout",
     "output_type": "stream",
     "text": [
      "   goals  assists  cards_yellow  cards_red  own_goals  goals_against  saves\n",
      "0      1        0             1          0          0              1      2\n",
      "1      1        0             1          0          0              1      3\n",
      "   goals  assists  cards_yellow  cards_red  own_goals  goals_against  saves\n",
      "0      1        1             4          1          0              0      2\n",
      "1      0        0             1          0          0              1      1\n"
     ]
    }
   ],
   "source": [
    "reframe, byteamframe = revert_output(pred[i])\n",
    "print(byteamframe.astype(int))\n",
    "reframe, byteamframe = revert_output(out[i])\n",
    "print(byteamframe.astype(int))"
   ]
  },
  {
   "cell_type": "code",
   "execution_count": 18,
   "metadata": {},
   "outputs": [
    {
     "name": "stdout",
     "output_type": "stream",
     "text": [
      "0 3 408\n"
     ]
    },
    {
     "name": "stderr",
     "output_type": "stream",
     "text": [
      "Epoch:  28%|██▊       | 14/50 [03:35<09:14, 15.39s/it]\n"
     ]
    },
    {
     "name": "stdout",
     "output_type": "stream",
     "text": [
      "1 3 408\n"
     ]
    },
    {
     "name": "stderr",
     "output_type": "stream",
     "text": [
      "Epoch:  38%|███▊      | 19/50 [04:52<07:56, 15.39s/it]\n"
     ]
    },
    {
     "name": "stdout",
     "output_type": "stream",
     "text": [
      "2 1 204\n"
     ]
    },
    {
     "name": "stderr",
     "output_type": "stream",
     "text": [
      "Epoch:  38%|███▊      | 19/50 [02:35<04:14,  8.20s/it]\n"
     ]
    },
    {
     "name": "stdout",
     "output_type": "stream",
     "text": [
      "3 3 272\n"
     ]
    },
    {
     "name": "stderr",
     "output_type": "stream",
     "text": [
      "Epoch:  26%|██▌       | 13/50 [02:36<07:26, 12.07s/it]\n"
     ]
    },
    {
     "name": "stdout",
     "output_type": "stream",
     "text": [
      "4 2 272\n"
     ]
    },
    {
     "name": "stderr",
     "output_type": "stream",
     "text": [
      "Epoch:  30%|███       | 15/50 [02:39<06:13, 10.66s/it]\n"
     ]
    },
    {
     "name": "stdout",
     "output_type": "stream",
     "text": [
      "5 1 204\n"
     ]
    },
    {
     "name": "stderr",
     "output_type": "stream",
     "text": [
      "Epoch:  36%|███▌      | 18/50 [02:29<04:25,  8.29s/it]\n"
     ]
    },
    {
     "name": "stdout",
     "output_type": "stream",
     "text": [
      "6 1 204\n"
     ]
    },
    {
     "name": "stderr",
     "output_type": "stream",
     "text": [
      "Epoch:  28%|██▊       | 14/50 [01:53<04:52,  8.13s/it]\n"
     ]
    },
    {
     "name": "stdout",
     "output_type": "stream",
     "text": [
      "7 2 204\n"
     ]
    },
    {
     "name": "stderr",
     "output_type": "stream",
     "text": [
      "Epoch:  30%|███       | 15/50 [02:16<05:19,  9.13s/it]\n"
     ]
    },
    {
     "name": "stdout",
     "output_type": "stream",
     "text": [
      "8 2 272\n"
     ]
    },
    {
     "name": "stderr",
     "output_type": "stream",
     "text": [
      "Epoch:  38%|███▊      | 19/50 [03:18<05:24, 10.46s/it]\n"
     ]
    },
    {
     "name": "stdout",
     "output_type": "stream",
     "text": [
      "9 1 408\n"
     ]
    },
    {
     "name": "stderr",
     "output_type": "stream",
     "text": [
      "Epoch:  28%|██▊       | 14/50 [02:34<06:38, 11.07s/it]\n"
     ]
    },
    {
     "name": "stdout",
     "output_type": "stream",
     "text": [
      "0 1 204\n"
     ]
    },
    {
     "name": "stderr",
     "output_type": "stream",
     "text": [
      "Epoch:  34%|███▍      | 17/50 [02:17<04:26,  8.07s/it]\n"
     ]
    },
    {
     "name": "stdout",
     "output_type": "stream",
     "text": [
      "1 1 204\n"
     ]
    },
    {
     "name": "stderr",
     "output_type": "stream",
     "text": [
      "Epoch:  24%|██▍       | 12/50 [01:48<05:45,  9.08s/it]\n"
     ]
    },
    {
     "name": "stdout",
     "output_type": "stream",
     "text": [
      "2 2 204\n"
     ]
    },
    {
     "name": "stderr",
     "output_type": "stream",
     "text": [
      "Epoch:  32%|███▏      | 16/50 [02:30<05:19,  9.40s/it]\n"
     ]
    },
    {
     "name": "stdout",
     "output_type": "stream",
     "text": [
      "3 2 272\n"
     ]
    },
    {
     "name": "stderr",
     "output_type": "stream",
     "text": [
      "Epoch:  28%|██▊       | 14/50 [02:39<06:50, 11.40s/it]\n"
     ]
    },
    {
     "name": "stdout",
     "output_type": "stream",
     "text": [
      "4 1 408\n"
     ]
    },
    {
     "name": "stderr",
     "output_type": "stream",
     "text": [
      "Epoch:  18%|█▊        | 9/50 [01:37<07:24, 10.84s/it]\n"
     ]
    },
    {
     "name": "stdout",
     "output_type": "stream",
     "text": [
      "5 3 272\n"
     ]
    },
    {
     "name": "stderr",
     "output_type": "stream",
     "text": [
      "Epoch:  30%|███       | 15/50 [03:05<07:12, 12.36s/it]\n"
     ]
    },
    {
     "name": "stdout",
     "output_type": "stream",
     "text": [
      "6 3 204\n"
     ]
    },
    {
     "name": "stderr",
     "output_type": "stream",
     "text": [
      "Epoch:  22%|██▏       | 11/50 [02:01<07:12, 11.08s/it]\n"
     ]
    },
    {
     "name": "stdout",
     "output_type": "stream",
     "text": [
      "7 2 204\n"
     ]
    },
    {
     "name": "stderr",
     "output_type": "stream",
     "text": [
      "Epoch:  32%|███▏      | 16/50 [02:42<05:45, 10.15s/it]\n"
     ]
    },
    {
     "name": "stdout",
     "output_type": "stream",
     "text": [
      "8 1 204\n"
     ]
    },
    {
     "name": "stderr",
     "output_type": "stream",
     "text": [
      "Epoch:  28%|██▊       | 14/50 [02:07<05:28,  9.13s/it]\n"
     ]
    },
    {
     "name": "stdout",
     "output_type": "stream",
     "text": [
      "9 2 204\n"
     ]
    },
    {
     "name": "stderr",
     "output_type": "stream",
     "text": [
      "Epoch:  34%|███▍      | 17/50 [02:55<05:39, 10.30s/it]\n"
     ]
    },
    {
     "name": "stdout",
     "output_type": "stream",
     "text": [
      "0 3 272\n"
     ]
    },
    {
     "name": "stderr",
     "output_type": "stream",
     "text": [
      "Epoch:  28%|██▊       | 14/50 [02:52<07:24, 12.35s/it]\n"
     ]
    },
    {
     "name": "stdout",
     "output_type": "stream",
     "text": [
      "1 3 204\n"
     ]
    },
    {
     "name": "stderr",
     "output_type": "stream",
     "text": [
      "Epoch:  32%|███▏      | 16/50 [02:48<05:58, 10.56s/it]\n"
     ]
    },
    {
     "name": "stdout",
     "output_type": "stream",
     "text": [
      "2 2 204\n"
     ]
    },
    {
     "name": "stderr",
     "output_type": "stream",
     "text": [
      "Epoch:  30%|███       | 15/50 [02:27<05:43,  9.81s/it]\n"
     ]
    },
    {
     "name": "stdout",
     "output_type": "stream",
     "text": [
      "3 1 204\n"
     ]
    },
    {
     "name": "stderr",
     "output_type": "stream",
     "text": [
      "Epoch:  24%|██▍       | 12/50 [01:38<05:10,  8.18s/it]\n"
     ]
    },
    {
     "name": "stdout",
     "output_type": "stream",
     "text": [
      "4 2 204\n"
     ]
    },
    {
     "name": "stderr",
     "output_type": "stream",
     "text": [
      "Epoch:  28%|██▊       | 14/50 [02:10<05:34,  9.31s/it]\n"
     ]
    },
    {
     "name": "stdout",
     "output_type": "stream",
     "text": [
      "5 1 408\n"
     ]
    },
    {
     "name": "stderr",
     "output_type": "stream",
     "text": [
      "Epoch:  18%|█▊        | 9/50 [01:39<07:32, 11.04s/it]\n"
     ]
    },
    {
     "name": "stdout",
     "output_type": "stream",
     "text": [
      "6 1 408\n"
     ]
    },
    {
     "name": "stderr",
     "output_type": "stream",
     "text": [
      "Epoch:  20%|██        | 10/50 [01:53<07:34, 11.37s/it]\n"
     ]
    },
    {
     "name": "stdout",
     "output_type": "stream",
     "text": [
      "7 3 204\n"
     ]
    },
    {
     "name": "stderr",
     "output_type": "stream",
     "text": [
      "Epoch:  28%|██▊       | 14/50 [02:49<07:14, 12.07s/it]\n"
     ]
    },
    {
     "name": "stdout",
     "output_type": "stream",
     "text": [
      "8 3 204\n"
     ]
    },
    {
     "name": "stderr",
     "output_type": "stream",
     "text": [
      "Epoch:  16%|█▌        | 8/50 [01:23<07:20, 10.49s/it]\n"
     ]
    },
    {
     "name": "stdout",
     "output_type": "stream",
     "text": [
      "9 1 408\n"
     ]
    },
    {
     "name": "stderr",
     "output_type": "stream",
     "text": [
      "Epoch:  14%|█▍        | 7/50 [01:24<08:41, 12.12s/it]\n"
     ]
    },
    {
     "name": "stdout",
     "output_type": "stream",
     "text": [
      "0 1 408\n"
     ]
    },
    {
     "name": "stderr",
     "output_type": "stream",
     "text": [
      "Epoch:  20%|██        | 10/50 [02:03<08:14, 12.37s/it]\n"
     ]
    },
    {
     "name": "stdout",
     "output_type": "stream",
     "text": [
      "1 1 408\n"
     ]
    },
    {
     "name": "stderr",
     "output_type": "stream",
     "text": [
      "Epoch:  26%|██▌       | 13/50 [02:36<07:25, 12.03s/it]\n"
     ]
    },
    {
     "name": "stdout",
     "output_type": "stream",
     "text": [
      "2 3 204\n"
     ]
    },
    {
     "name": "stderr",
     "output_type": "stream",
     "text": [
      "Epoch:  22%|██▏       | 11/50 [02:04<07:19, 11.28s/it]\n"
     ]
    },
    {
     "name": "stdout",
     "output_type": "stream",
     "text": [
      "3 3 204\n"
     ]
    },
    {
     "name": "stderr",
     "output_type": "stream",
     "text": [
      "Epoch:  24%|██▍       | 12/50 [02:18<07:17, 11.52s/it]\n"
     ]
    },
    {
     "name": "stdout",
     "output_type": "stream",
     "text": [
      "4 1 408\n"
     ]
    },
    {
     "name": "stderr",
     "output_type": "stream",
     "text": [
      "Epoch:  14%|█▍        | 7/50 [01:20<08:14, 11.49s/it]\n"
     ]
    },
    {
     "name": "stdout",
     "output_type": "stream",
     "text": [
      "5 1 272\n"
     ]
    },
    {
     "name": "stderr",
     "output_type": "stream",
     "text": [
      "Epoch:  24%|██▍       | 12/50 [01:57<06:12,  9.79s/it]\n"
     ]
    },
    {
     "name": "stdout",
     "output_type": "stream",
     "text": [
      "6 3 408\n"
     ]
    },
    {
     "name": "stderr",
     "output_type": "stream",
     "text": [
      "Epoch:  24%|██▍       | 12/50 [03:15<10:17, 16.25s/it]\n"
     ]
    },
    {
     "name": "stdout",
     "output_type": "stream",
     "text": [
      "7 1 272\n"
     ]
    },
    {
     "name": "stderr",
     "output_type": "stream",
     "text": [
      "Epoch:  32%|███▏      | 16/50 [02:39<05:38,  9.96s/it]\n"
     ]
    },
    {
     "name": "stdout",
     "output_type": "stream",
     "text": [
      "8 2 204\n"
     ]
    },
    {
     "name": "stderr",
     "output_type": "stream",
     "text": [
      "Epoch:  22%|██▏       | 11/50 [01:45<06:14,  9.61s/it]\n"
     ]
    },
    {
     "name": "stdout",
     "output_type": "stream",
     "text": [
      "9 1 408\n"
     ]
    },
    {
     "name": "stderr",
     "output_type": "stream",
     "text": [
      "Epoch:  16%|█▌        | 8/50 [01:40<08:49, 12.61s/it]\n"
     ]
    },
    {
     "name": "stdout",
     "output_type": "stream",
     "text": [
      "0 1 272\n"
     ]
    },
    {
     "name": "stderr",
     "output_type": "stream",
     "text": [
      "Epoch:  28%|██▊       | 14/50 [02:14<05:47,  9.64s/it]\n"
     ]
    },
    {
     "name": "stdout",
     "output_type": "stream",
     "text": [
      "1 3 408\n"
     ]
    },
    {
     "name": "stderr",
     "output_type": "stream",
     "text": [
      "Epoch:  22%|██▏       | 11/50 [02:49<10:01, 15.43s/it]\n"
     ]
    },
    {
     "name": "stdout",
     "output_type": "stream",
     "text": [
      "2 1 272\n"
     ]
    },
    {
     "name": "stderr",
     "output_type": "stream",
     "text": [
      "Epoch:  24%|██▍       | 12/50 [01:57<06:12,  9.81s/it]\n"
     ]
    },
    {
     "name": "stdout",
     "output_type": "stream",
     "text": [
      "3 2 204\n"
     ]
    },
    {
     "name": "stderr",
     "output_type": "stream",
     "text": [
      "Epoch:  48%|████▊     | 24/50 [03:36<03:54,  9.03s/it]\n"
     ]
    },
    {
     "name": "stdout",
     "output_type": "stream",
     "text": [
      "4 1 408\n"
     ]
    },
    {
     "name": "stderr",
     "output_type": "stream",
     "text": [
      "Epoch:  24%|██▍       | 12/50 [02:16<07:12, 11.38s/it]\n"
     ]
    },
    {
     "name": "stdout",
     "output_type": "stream",
     "text": [
      "5 3 408\n"
     ]
    },
    {
     "name": "stderr",
     "output_type": "stream",
     "text": [
      "Epoch:  36%|███▌      | 18/50 [04:52<08:39, 16.23s/it]\n"
     ]
    },
    {
     "name": "stdout",
     "output_type": "stream",
     "text": [
      "6 3 204\n"
     ]
    },
    {
     "name": "stderr",
     "output_type": "stream",
     "text": [
      "Epoch:  18%|█▊        | 9/50 [01:46<08:07, 11.88s/it]\n"
     ]
    },
    {
     "name": "stdout",
     "output_type": "stream",
     "text": [
      "7 1 272\n"
     ]
    },
    {
     "name": "stderr",
     "output_type": "stream",
     "text": [
      "Epoch:  26%|██▌       | 13/50 [02:13<06:21, 10.30s/it]\n"
     ]
    },
    {
     "name": "stdout",
     "output_type": "stream",
     "text": [
      "8 2 272\n"
     ]
    },
    {
     "name": "stderr",
     "output_type": "stream",
     "text": [
      "Epoch:  20%|██        | 10/50 [01:45<07:03, 10.58s/it]\n"
     ]
    },
    {
     "name": "stdout",
     "output_type": "stream",
     "text": [
      "9 3 272\n"
     ]
    },
    {
     "name": "stderr",
     "output_type": "stream",
     "text": [
      "Epoch:  22%|██▏       | 11/50 [02:11<07:44, 11.91s/it]\n"
     ]
    },
    {
     "name": "stdout",
     "output_type": "stream",
     "text": [
      "KFold Result: 0.003+/-0.000\n",
      "33.94715\n",
      "18.229177\n",
      "17.674072\n",
      "KFold Result Train: 0.003+/-0.000\n",
      "KFold Result Test: 0.003+/-0.000\n"
     ]
    },
    {
     "data": {
      "image/png": "[encoded data removed]",
      "text/plain": [
       "<Figure size 432x288 with 1 Axes>"
      ]
     },
     "metadata": {},
     "output_type": "display_data"
    },
    {
     "name": "stdout",
     "output_type": "stream",
     "text": [
      "   goals  assists  cards_yellow  cards_red  own_goals  goals_against  saves\n",
      "0      1        1             1          0          0              1      3\n",
      "1      1        0             2          0          0              1      3\n",
      "   goals  assists  cards_yellow  cards_red  own_goals  goals_against  saves\n",
      "0      1        1             4          1          0              0      2\n",
      "1      0        0             1          0          0              1      1\n"
     ]
    }
   ],
   "source": [
    " config = {\n",
    "        \"num_layers\": [1,2,3],\n",
    "        \"num_nodes_in\": inp.shape[1],\n",
    "        \"num_nodes\": [int(inp.shape[1]/4),int(inp.shape[1]/3),int(inp.shape[1]/2)],\n",
    "        \"num_nodes_out\": out.shape[1], \n",
    "        \"final_activation\" : None,\n",
    "        \"activation\": nn.LeakyReLU(),\n",
    "        \"clip\": False, #hp.choice('clip',[True, False]),\n",
    "        \"batch_size\": 32, #[16, 32, 64, 128]\n",
    "        \"loss_f\": log_cosh_loss,#WSE,#hp.choice('loss_f',[WSE, nn.MSELoss()]), #, nn.L1Loss()\n",
    "        \"optim\": 'adam',#hp.choice('optim',['adam', 'adagrad']),\n",
    "        \"lr\": 0.0001,#hp.choice('lr',[0.0001,0.001,.00001]),#hp.loguniform('lr', np.exp(np.log(1e-4)), np.exp(np.log(1e-1))),\n",
    "        \"batch_norm\": False,#hp.choice('batch_norm',[True, False]),\n",
    "        \"dropout\": 0.0,#hp.choice('dropout',[0.0,0.1,0.2,0.3]),#hp.sample_from(lambda _: np.random.uniform(low=0.0, high=.6)),\n",
    "        \"shuffle\": True,\n",
    "        \"num_workers\": 4,\n",
    "        \"patience\": 5,\n",
    "        \"epochs\": 50\n",
    "    }\n",
    "    \n",
    "nets, losses, errs, abserrs=runKfold_onthefly([inp, out], Net, config, n_models=10, n_splits=5)\n",
    "    \n",
    "print((np.abs(np.mean([net(torch.Tensor(inp)).detach().cpu().numpy()[1] for net in nets], axis=0)\\\n",
    "       -np.mean([net(torch.Tensor(inp)).detach().cpu().numpy()[10] for net in nets], axis=0))).sum())\n",
    "\n",
    "print((np.abs(np.mean([net(torch.Tensor(inp)).detach().cpu().numpy()[50] for net in nets], axis=0)\\\n",
    "       -np.mean([net(torch.Tensor(inp)).detach().cpu().numpy()[60] for net in nets], axis=0))).sum())\n",
    "\n",
    "print((np.abs(np.mean([net(torch.Tensor(inp)).detach().cpu().numpy()[100] for net in nets], axis=0)\\\n",
    "       -np.mean([net(torch.Tensor(inp)).detach().cpu().numpy()[110] for net in nets], axis=0))).sum())\n",
    "\n",
    "print('KFold Result Train: {:.3f}+/-{:.3f}'.format(np.mean(losses[0]),np.std(losses[0])))\n",
    "print('KFold Result Test: {:.3f}+/-{:.3f}'.format(np.mean(losses[1]),np.std(losses[1])))\n",
    "\n",
    "#plt.fill_between(np.arange(len(lsmea[0])),lsmea[0]+lsstd[0],lsmea[0]-lsstd[0], alpha=.5, color='#1f77b4')\n",
    "#plt.plot(lsmea[0], color='#1f77b4')\n",
    "#plt.fill_between(np.arange(len(lsmea[1])),lsmea[1]+lsstd[1],lsmea[1]-lsstd[1], alpha=.5, color='#ff7f0e')\n",
    "#plt.plot(lsmea[1], color='#ff7f0e')\n",
    "#plt.show()\n",
    "\n",
    "plt.fill_between(np.arange(len(errs[0])),errs[0]+errs[1],errs[0]-errs[1], alpha=.5, color='#1f77b4')\n",
    "plt.plot(errs[0], color='#1f77b4')\n",
    "plt.fill_between(np.arange(len(abserrs[0])),abserrs[0]+abserrs[1],abserrs[0]-abserrs[1], alpha=.5, color='#ff7f0e')\n",
    "plt.plot(abserrs[0], color='#ff7f0e')\n",
    "plt.xticks(np.arange(len(errs[0])),['minutes','goals','assists','cards_yellow','cards_red','own_goals']+['goals_against','saves'], rotation=90)\n",
    "plt.show()\n",
    "\n",
    "pred=np.mean([net(torch.Tensor(inp)).detach().cpu().numpy() for net in nets], axis=0)\n",
    "\n",
    "i=1000\n",
    "cats=['minutes','goals','assists','cards_yellow','cards_red','own_goals']+['goals_against','saves']\n",
    "\n",
    "reframe, byteamframe = revert_output(pred[i])\n",
    "print(byteamframe.astype(int))\n",
    "reframe, byteamframe = revert_output(out[i])\n",
    "print(byteamframe.astype(int))"
   ]
  },
  {
   "cell_type": "code",
   "execution_count": 19,
   "metadata": {},
   "outputs": [
    {
     "name": "stderr",
     "output_type": "stream",
     "text": [
      "Epoch:  24%|██▍       | 12/50 [01:55<06:06,  9.64s/it]\n",
      "Epoch:  36%|███▌      | 18/50 [02:45<04:53,  9.17s/it]\n",
      "Epoch:  20%|██        | 10/50 [01:31<06:04,  9.11s/it]\n",
      "Epoch:  20%|██        | 10/50 [01:30<06:01,  9.05s/it]\n",
      "Epoch:  28%|██▊       | 14/50 [02:12<05:39,  9.44s/it]\n",
      "Epoch:  24%|██▍       | 12/50 [01:59<06:19,  9.99s/it]\n",
      "Epoch:  40%|████      | 20/50 [03:12<04:48,  9.61s/it]\n",
      "Epoch:  30%|███       | 15/50 [02:23<05:35,  9.59s/it]\n",
      "Epoch:  20%|██        | 10/50 [01:30<06:02,  9.07s/it]\n",
      "Epoch:  24%|██▍       | 12/50 [01:51<05:51,  9.26s/it]\n",
      "Epoch:  36%|███▌      | 18/50 [02:49<05:01,  9.42s/it]\n",
      "Epoch:  32%|███▏      | 16/50 [02:25<05:09,  9.10s/it]\n",
      "Epoch:  32%|███▏      | 16/50 [02:28<05:16,  9.30s/it]\n",
      "Epoch:  24%|██▍       | 12/50 [01:47<05:40,  8.97s/it]\n",
      "Epoch:  18%|█▊        | 9/50 [01:20<06:06,  8.93s/it]\n",
      "Epoch:  18%|█▊        | 9/50 [01:23<06:20,  9.28s/it]\n",
      "Epoch:  26%|██▌       | 13/50 [02:05<05:55,  9.62s/it]\n",
      "Epoch:  32%|███▏      | 16/50 [02:27<05:12,  9.19s/it]\n",
      "Epoch:  36%|███▌      | 18/50 [02:42<04:48,  9.01s/it]\n",
      "Epoch:  28%|██▊       | 14/50 [02:07<05:27,  9.10s/it]\n",
      "Epoch:  44%|████▍     | 22/50 [03:21<04:16,  9.17s/it]\n",
      "Epoch:  32%|███▏      | 16/50 [02:26<05:11,  9.16s/it]\n",
      "Epoch:  22%|██▏       | 11/50 [01:44<06:10,  9.51s/it]\n",
      "Epoch:  40%|████      | 20/50 [03:00<04:30,  9.02s/it]\n",
      "Epoch:  30%|███       | 15/50 [02:13<05:12,  8.92s/it]\n",
      "Epoch:  20%|██        | 10/50 [01:28<05:55,  8.88s/it]\n",
      "Epoch:  16%|█▌        | 8/50 [01:10<06:11,  8.86s/it]\n",
      "Epoch:  42%|████▏     | 21/50 [03:22<04:39,  9.65s/it]\n",
      "Epoch:  36%|███▌      | 18/50 [02:44<04:52,  9.16s/it]\n",
      "Epoch:  32%|███▏      | 16/50 [02:39<05:39,  9.98s/it]\n",
      "Epoch:  22%|██▏       | 11/50 [01:44<06:11,  9.52s/it]\n",
      "Epoch:  26%|██▌       | 13/50 [02:03<05:50,  9.48s/it]\n",
      "Epoch:  34%|███▍      | 17/50 [02:44<05:19,  9.69s/it]\n",
      "Epoch:  26%|██▌       | 13/50 [02:11<06:14, 10.13s/it]\n",
      "Epoch:  40%|████      | 20/50 [03:12<04:48,  9.61s/it]\n",
      "Epoch:  20%|██        | 10/50 [01:38<06:33,  9.83s/it]\n",
      "Epoch:  18%|█▊        | 9/50 [01:24<06:26,  9.42s/it]\n",
      "Epoch:  20%|██        | 10/50 [01:29<05:57,  8.95s/it]\n",
      "Epoch:  40%|████      | 20/50 [03:03<04:35,  9.20s/it]\n",
      "Epoch:  20%|██        | 10/50 [01:29<05:58,  8.96s/it]\n",
      "Epoch:  24%|██▍       | 12/50 [01:54<06:02,  9.53s/it]\n",
      "Epoch:  30%|███       | 15/50 [02:17<05:21,  9.18s/it]\n",
      "Epoch:  24%|██▍       | 12/50 [01:47<05:39,  8.93s/it]\n",
      "Epoch:  32%|███▏      | 16/50 [02:24<05:07,  9.04s/it]\n",
      "Epoch:  36%|███▌      | 18/50 [02:53<05:09,  9.66s/it]\n",
      "Epoch:  52%|█████▏    | 26/50 [03:58<03:39,  9.16s/it]\n",
      "Epoch:  24%|██▍       | 12/50 [01:47<05:38,  8.92s/it]\n",
      "Epoch:  44%|████▍     | 22/50 [03:17<04:10,  8.96s/it]\n",
      "Epoch:  24%|██▍       | 12/50 [01:59<06:17,  9.94s/it]\n",
      "Epoch:  44%|████▍     | 22/50 [03:33<04:32,  9.72s/it]\n"
     ]
    },
    {
     "name": "stdout",
     "output_type": "stream",
     "text": [
      "KFold Result: 0.003+/-0.000\n",
      "31.11296\n",
      "16.06913\n",
      "16.741495\n",
      "KFold Result Train: 0.003+/-0.000\n",
      "KFold Result Test: 0.003+/-0.000\n"
     ]
    },
    {
     "data": {
      "image/png": "[encoded data removed]",
      "text/plain": [
       "<Figure size 432x288 with 1 Axes>"
      ]
     },
     "metadata": {},
     "output_type": "display_data"
    },
    {
     "name": "stdout",
     "output_type": "stream",
     "text": [
      "   goals  assists  cards_yellow  cards_red  own_goals  goals_against  saves\n",
      "0      1        1             1          0          0              1      2\n",
      "1      1        0             2          0          0              1      3\n",
      "   goals  assists  cards_yellow  cards_red  own_goals  goals_against  saves\n",
      "0      1        1             4          1          0              0      2\n",
      "1      0        0             1          0          0              1      1\n"
     ]
    }
   ],
   "source": [
    " config = {\n",
    "        \"num_layers\": 3,\n",
    "        \"num_nodes_in\": inp.shape[1],\n",
    "        \"num_nodes\": inp.shape[1]/5,\n",
    "        \"num_nodes_out\": out.shape[1], \n",
    "        \"final_activation\" : None,\n",
    "        \"activation\": nn.LeakyReLU(),\n",
    "        \"clip\": False, #hp.choice('clip',[True, False]),\n",
    "        \"batch_size\": 32, #[16, 32, 64, 128]\n",
    "        \"loss_f\": log_cosh_loss,#WSE,#hp.choice('loss_f',[WSE, nn.MSELoss()]), #, nn.L1Loss()\n",
    "        \"optim\": 'adam',#hp.choice('optim',['adam', 'adagrad']),\n",
    "        \"lr\": 0.0001,#hp.choice('lr',[0.0001,0.001,.00001]),#hp.loguniform('lr', np.exp(np.log(1e-4)), np.exp(np.log(1e-1))),\n",
    "        \"batch_norm\": False,#hp.choice('batch_norm',[True, False]),\n",
    "        \"dropout\": 0.0,#hp.choice('dropout',[0.0,0.1,0.2,0.3]),#hp.sample_from(lambda _: np.random.uniform(low=0.0, high=.6)),\n",
    "        \"shuffle\": True,\n",
    "        \"num_workers\": 4,\n",
    "        \"patience\": 5,\n",
    "        \"epochs\": 50\n",
    "    }\n",
    "    \n",
    "nets, losses, errs, abserrs=runKfold([inp, out], Net, config, n_models=10, n_splits=5)\n",
    "    \n",
    "print((np.abs(np.mean([net(torch.Tensor(inp)).detach().cpu().numpy()[1] for net in nets], axis=0)\\\n",
    "       -np.mean([net(torch.Tensor(inp)).detach().cpu().numpy()[10] for net in nets], axis=0))).sum())\n",
    "\n",
    "print((np.abs(np.mean([net(torch.Tensor(inp)).detach().cpu().numpy()[50] for net in nets], axis=0)\\\n",
    "       -np.mean([net(torch.Tensor(inp)).detach().cpu().numpy()[60] for net in nets], axis=0))).sum())\n",
    "\n",
    "print((np.abs(np.mean([net(torch.Tensor(inp)).detach().cpu().numpy()[100] for net in nets], axis=0)\\\n",
    "       -np.mean([net(torch.Tensor(inp)).detach().cpu().numpy()[110] for net in nets], axis=0))).sum())\n",
    "\n",
    "print('KFold Result Train: {:.3f}+/-{:.3f}'.format(np.mean(losses[0]),np.std(losses[0])))\n",
    "print('KFold Result Test: {:.3f}+/-{:.3f}'.format(np.mean(losses[1]),np.std(losses[1])))\n",
    "\n",
    "#plt.fill_between(np.arange(len(lsmea[0])),lsmea[0]+lsstd[0],lsmea[0]-lsstd[0], alpha=.5, color='#1f77b4')\n",
    "#plt.plot(lsmea[0], color='#1f77b4')\n",
    "#plt.fill_between(np.arange(len(lsmea[1])),lsmea[1]+lsstd[1],lsmea[1]-lsstd[1], alpha=.5, color='#ff7f0e')\n",
    "#plt.plot(lsmea[1], color='#ff7f0e')\n",
    "#plt.show()\n",
    "\n",
    "plt.fill_between(np.arange(len(errs[0])),errs[0]+errs[1],errs[0]-errs[1], alpha=.5, color='#1f77b4')\n",
    "plt.plot(errs[0], color='#1f77b4')\n",
    "plt.fill_between(np.arange(len(abserrs[0])),abserrs[0]+abserrs[1],abserrs[0]-abserrs[1], alpha=.5, color='#ff7f0e')\n",
    "plt.plot(abserrs[0], color='#ff7f0e')\n",
    "plt.xticks(np.arange(len(errs[0])),['minutes','goals','assists','cards_yellow','cards_red','own_goals']+['goals_against','saves'], rotation=90)\n",
    "plt.show()\n",
    "\n",
    "pred=np.mean([net(torch.Tensor(inp)).detach().cpu().numpy() for net in nets], axis=0)\n",
    "\n",
    "i=1000\n",
    "cats=['minutes','goals','assists','cards_yellow','cards_red','own_goals']+['goals_against','saves']\n",
    "\n",
    "reframe, byteamframe = revert_output(pred[i])\n",
    "print(byteamframe.astype(int))\n",
    "reframe, byteamframe = revert_output(out[i])\n",
    "print(byteamframe.astype(int))"
   ]
  },
  {
   "cell_type": "code",
   "execution_count": 41,
   "metadata": {},
   "outputs": [
    {
     "name": "stderr",
     "output_type": "stream",
     "text": [
      "Epoch: 100%|██████████| 25/25 [15:54<00:00, 38.19s/it]\n",
      "Epoch: 100%|██████████| 25/25 [15:55<00:00, 38.22s/it]\n",
      "Epoch: 100%|██████████| 25/25 [14:31<00:00, 34.87s/it]\n",
      "Epoch: 100%|██████████| 25/25 [14:30<00:00, 34.80s/it]\n",
      "Epoch: 100%|██████████| 25/25 [15:37<00:00, 37.50s/it]\n"
     ]
    },
    {
     "name": "stdout",
     "output_type": "stream",
     "text": [
      "KFold Result: 0.003+/-0.000\n",
      "34.56161\n",
      "21.85432\n",
      "21.836063\n",
      "KFold Result Train: 0.003+/-0.000\n",
      "KFold Result Test: 0.003+/-0.000\n"
     ]
    },
    {
     "data": {
      "image/png": "[encoded data removed]",
      "text/plain": [
       "<Figure size 432x288 with 1 Axes>"
      ]
     },
     "metadata": {},
     "output_type": "display_data"
    },
    {
     "name": "stdout",
     "output_type": "stream",
     "text": [
      "   goals  assists  cards_yellow  cards_red  own_goals  goals_against  saves\n",
      "0      1        1             2          0          0              1      3\n",
      "1      1        0             2          0          0              2      4\n",
      "   goals  assists  cards_yellow  cards_red  own_goals  goals_against  saves\n",
      "0      1        1             4          1          0              0      2\n",
      "1      0        0             1          0          0              1      1\n"
     ]
    }
   ],
   "source": [
    " config = {\n",
    "        \"num_layers\": 3,\n",
    "        \"num_nodes_in\": inp.shape[1],\n",
    "        \"num_nodes\": inp.shape[1],\n",
    "        \"num_nodes_out\": out.shape[1], \n",
    "        \"final_activation\" : None,\n",
    "        \"activation\": nn.LeakyReLU(),\n",
    "        \"clip\": False, #hp.choice('clip',[True, False]),\n",
    "        \"batch_size\": 32, #[16, 32, 64, 128]\n",
    "        \"loss_f\": log_cosh_loss,#WSE,#hp.choice('loss_f',[WSE, nn.MSELoss()]), #, nn.L1Loss()\n",
    "        \"optim\": 'adam',#hp.choice('optim',['adam', 'adagrad']),\n",
    "        \"lr\": 0.0001,#hp.choice('lr',[0.0001,0.001,.00001]),#hp.loguniform('lr', np.exp(np.log(1e-4)), np.exp(np.log(1e-1))),\n",
    "        \"batch_norm\": False,#hp.choice('batch_norm',[True, False]),\n",
    "        \"dropout\": 0.0,#hp.choice('dropout',[0.0,0.1,0.2,0.3]),#hp.sample_from(lambda _: np.random.uniform(low=0.0, high=.6)),\n",
    "        \"shuffle\": True,\n",
    "        \"num_workers\": 4,\n",
    "        \"patience\": 50,\n",
    "        \"epsilon\":1e-6, \n",
    "        \"epochs\": 25\n",
    "    }\n",
    "    \n",
    "nets, losses, errs, abserrs=runKfold([inp, out], Net, config, n_models=1, n_splits=5)\n",
    "    \n",
    "print((np.abs(np.mean([net(torch.Tensor(inp)).detach().cpu().numpy()[1] for net in nets], axis=0)\\\n",
    "       -np.mean([net(torch.Tensor(inp)).detach().cpu().numpy()[10] for net in nets], axis=0))).sum())\n",
    "\n",
    "print((np.abs(np.mean([net(torch.Tensor(inp)).detach().cpu().numpy()[50] for net in nets], axis=0)\\\n",
    "       -np.mean([net(torch.Tensor(inp)).detach().cpu().numpy()[60] for net in nets], axis=0))).sum())\n",
    "\n",
    "print((np.abs(np.mean([net(torch.Tensor(inp)).detach().cpu().numpy()[100] for net in nets], axis=0)\\\n",
    "       -np.mean([net(torch.Tensor(inp)).detach().cpu().numpy()[110] for net in nets], axis=0))).sum())\n",
    "\n",
    "print('KFold Result Train: {:.3f}+/-{:.3f}'.format(np.mean(losses[0]),np.std(losses[0])))\n",
    "print('KFold Result Test: {:.3f}+/-{:.3f}'.format(np.mean(losses[1]),np.std(losses[1])))\n",
    "\n",
    "#plt.fill_between(np.arange(len(lsmea[0])),lsmea[0]+lsstd[0],lsmea[0]-lsstd[0], alpha=.5, color='#1f77b4')\n",
    "#plt.plot(lsmea[0], color='#1f77b4')\n",
    "#plt.fill_between(np.arange(len(lsmea[1])),lsmea[1]+lsstd[1],lsmea[1]-lsstd[1], alpha=.5, color='#ff7f0e')\n",
    "#plt.plot(lsmea[1], color='#ff7f0e')\n",
    "#plt.show()\n",
    "\n",
    "plt.fill_between(np.arange(len(errs[0])),errs[0]+errs[1],errs[0]-errs[1], alpha=.5, color='#1f77b4')\n",
    "plt.plot(errs[0], color='#1f77b4')\n",
    "plt.fill_between(np.arange(len(abserrs[0])),abserrs[0]+abserrs[1],abserrs[0]-abserrs[1], alpha=.5, color='#ff7f0e')\n",
    "plt.plot(abserrs[0], color='#ff7f0e')\n",
    "plt.xticks(np.arange(len(errs[0])),['minutes','goals','assists','cards_yellow','cards_red','own_goals']+['goals_against','saves'], rotation=90)\n",
    "plt.show()\n",
    "\n",
    "pred=np.mean([net(torch.Tensor(inp)).detach().cpu().numpy() for net in nets], axis=0)\n",
    "\n",
    "i=1000\n",
    "cats=['minutes','goals','assists','cards_yellow','cards_red','own_goals']+['goals_against','saves']\n",
    "\n",
    "reframe, byteamframe = revert_output(pred[i])\n",
    "print(byteamframe.astype(int))\n",
    "reframe, byteamframe = revert_output(out[i])\n",
    "print(byteamframe.astype(int))"
   ]
  },
  {
   "cell_type": "code",
   "execution_count": 43,
   "metadata": {},
   "outputs": [
    {
     "name": "stdout",
     "output_type": "stream",
     "text": [
      "      goals   assists  cards_yellow  cards_red  own_goals  goals_against  \\\n",
      "0  2.231939  1.826244      2.090416   0.149428   0.094699       1.581552   \n",
      "1  1.140687  0.652879      2.082909   0.197357   0.062220       2.656081   \n",
      "\n",
      "      saves  \n",
      "0  2.795248  \n",
      "1  4.474113  \n",
      "   goals  assists  cards_yellow  cards_red  own_goals  goals_against  saves\n",
      "0      4        4             1          0          0              0      4\n",
      "1      0        0             2          0          0              4      4\n",
      "\n",
      "      goals   assists  cards_yellow  cards_red  own_goals  goals_against  \\\n",
      "0  2.082279  1.787717      1.721687   0.165081   0.084857       1.338306   \n",
      "1  0.857602  0.649439      1.808736   0.176213   0.064212       2.889474   \n",
      "\n",
      "      saves  \n",
      "0  3.128425  \n",
      "1  4.361162  \n",
      "   goals  assists  cards_yellow  cards_red  own_goals  goals_against  saves\n",
      "0      3        2             2          0          0              0      1\n",
      "1      0        0             0          0          0              3      2\n",
      "\n",
      "      goals   assists  cards_yellow  cards_red  own_goals  goals_against  \\\n",
      "0  2.205519  1.485680      2.089813   0.243126   0.132636       2.062194   \n",
      "1  1.848881  1.299451      2.194678   0.275597   0.071858       2.769686   \n",
      "\n",
      "      saves  \n",
      "0  3.445782  \n",
      "1  4.330578  \n",
      "   goals  assists  cards_yellow  cards_red  own_goals  goals_against  saves\n",
      "0      2        2             1          0          0              0      5\n",
      "1      0        0             4          0          0              2      1\n",
      "\n",
      "      goals   assists  cards_yellow  cards_red  own_goals  goals_against  \\\n",
      "0  1.806903  1.508556      2.140414   0.154865   0.109391       1.640181   \n",
      "1  1.121822  0.821905      2.350321   0.191542   0.068381       2.453981   \n",
      "\n",
      "      saves  \n",
      "0  3.374293  \n",
      "1  4.163616  \n",
      "   goals  assists  cards_yellow  cards_red  own_goals  goals_against  saves\n",
      "0      2        1             0          0          0              0      5\n",
      "1      0        0             1          0          1              3      3\n",
      "\n"
     ]
    }
   ],
   "source": [
    "for i in [0,10000,500,100000]:\n",
    "    cats=['minutes','goals','assists','cards_yellow','cards_red','own_goals']+['goals_against','saves']\n",
    "\n",
    "    reframe, byteamframe = revert_output(pred[i])\n",
    "    print(byteamframe)\n",
    "    reframe, byteamframe = revert_output(out[i])\n",
    "    print(byteamframe.astype(int))\n",
    "    print()"
   ]
  },
  {
   "cell_type": "code",
   "execution_count": 49,
   "metadata": {},
   "outputs": [
    {
     "name": "stderr",
     "output_type": "stream",
     "text": [
      "Epoch: 100%|██████████| 25/25 [10:28<00:00, 25.16s/it]\n",
      "Epoch: 100%|██████████| 25/25 [09:52<00:00, 23.70s/it]\n",
      "Epoch: 100%|██████████| 25/25 [09:49<00:00, 23.58s/it]\n",
      "Epoch: 100%|██████████| 25/25 [09:51<00:00, 23.65s/it]\n",
      "Epoch: 100%|██████████| 25/25 [09:52<00:00, 23.69s/it]\n",
      "Epoch: 100%|██████████| 25/25 [08:29<00:00, 20.39s/it]\n",
      "Epoch: 100%|██████████| 25/25 [08:21<00:00, 20.05s/it]\n",
      "Epoch: 100%|██████████| 25/25 [08:21<00:00, 20.07s/it]\n",
      "Epoch: 100%|██████████| 25/25 [10:02<00:00, 24.12s/it]\n",
      "Epoch: 100%|██████████| 25/25 [10:08<00:00, 24.34s/it]\n",
      "Epoch: 100%|██████████| 25/25 [10:05<00:00, 24.20s/it]\n",
      "Epoch: 100%|██████████| 25/25 [09:54<00:00, 23.76s/it]\n",
      "Epoch: 100%|██████████| 25/25 [09:57<00:00, 23.91s/it]\n",
      "Epoch: 100%|██████████| 25/25 [08:49<00:00, 21.19s/it]\n",
      "Epoch: 100%|██████████| 25/25 [08:21<00:00, 20.06s/it]\n",
      "Epoch: 100%|██████████| 25/25 [08:17<00:00, 19.89s/it]\n",
      "Epoch: 100%|██████████| 25/25 [09:38<00:00, 23.14s/it]\n",
      "Epoch: 100%|██████████| 25/25 [09:50<00:00, 23.62s/it]\n",
      "Epoch: 100%|██████████| 25/25 [09:49<00:00, 23.58s/it]\n",
      "Epoch: 100%|██████████| 25/25 [09:55<00:00, 23.83s/it]\n",
      "Epoch: 100%|██████████| 25/25 [09:53<00:00, 23.72s/it]\n",
      "Epoch: 100%|██████████| 25/25 [08:21<00:00, 20.07s/it]\n",
      "Epoch: 100%|██████████| 25/25 [06:31<00:00, 15.67s/it]\n",
      "Epoch: 100%|██████████| 25/25 [06:32<00:00, 15.71s/it]\n",
      "Epoch: 100%|██████████| 25/25 [06:34<00:00, 15.77s/it]\n",
      "Epoch: 100%|██████████| 25/25 [06:31<00:00, 15.66s/it]\n",
      "Epoch: 100%|██████████| 25/25 [06:32<00:00, 15.68s/it]\n",
      "Epoch: 100%|██████████| 25/25 [06:36<00:00, 15.88s/it]\n",
      "Epoch: 100%|██████████| 25/25 [06:33<00:00, 15.73s/it]\n",
      "Epoch: 100%|██████████| 25/25 [06:33<00:00, 15.75s/it]\n",
      "Epoch: 100%|██████████| 25/25 [06:32<00:00, 15.72s/it]\n",
      "Epoch: 100%|██████████| 25/25 [06:31<00:00, 15.67s/it]\n",
      "Epoch: 100%|██████████| 25/25 [06:34<00:00, 15.77s/it]\n",
      "Epoch: 100%|██████████| 25/25 [06:31<00:00, 15.65s/it]\n",
      "Epoch: 100%|██████████| 25/25 [06:33<00:00, 15.73s/it]\n",
      "Epoch: 100%|██████████| 25/25 [06:31<00:00, 15.66s/it]\n",
      "Epoch: 100%|██████████| 25/25 [06:37<00:00, 15.91s/it]\n",
      "Epoch: 100%|██████████| 25/25 [06:32<00:00, 15.71s/it]\n",
      "Epoch: 100%|██████████| 25/25 [06:33<00:00, 15.75s/it]\n",
      "Epoch: 100%|██████████| 25/25 [06:31<00:00, 15.65s/it]\n",
      "Epoch: 100%|██████████| 25/25 [06:33<00:00, 15.72s/it]\n",
      "Epoch: 100%|██████████| 25/25 [06:31<00:00, 15.65s/it]\n",
      "Epoch: 100%|██████████| 25/25 [06:33<00:00, 15.72s/it]\n",
      "Epoch: 100%|██████████| 25/25 [06:32<00:00, 15.70s/it]\n",
      "Epoch: 100%|██████████| 25/25 [06:34<00:00, 15.76s/it]\n",
      "Epoch: 100%|██████████| 25/25 [06:38<00:00, 15.95s/it]\n",
      "Epoch: 100%|██████████| 25/25 [06:32<00:00, 15.69s/it]\n",
      "Epoch: 100%|██████████| 25/25 [06:33<00:00, 15.76s/it]\n",
      "Epoch: 100%|██████████| 25/25 [06:34<00:00, 15.77s/it]\n",
      "Epoch: 100%|██████████| 25/25 [06:33<00:00, 15.74s/it]\n"
     ]
    },
    {
     "name": "stdout",
     "output_type": "stream",
     "text": [
      "KFold Result: 0.003+/-0.000\n",
      "35.50329\n",
      "19.649746\n",
      "18.72363\n",
      "KFold Result Train: 0.003+/-0.000\n",
      "KFold Result Test: 0.003+/-0.000\n"
     ]
    },
    {
     "data": {
      "image/png": "[encoded data removed]",
      "text/plain": [
       "<Figure size 432x288 with 1 Axes>"
      ]
     },
     "metadata": {},
     "output_type": "display_data"
    },
    {
     "name": "stdout",
     "output_type": "stream",
     "text": [
      "   goals  assists  cards_yellow  cards_red  own_goals  goals_against  saves\n",
      "0      1        1             2          0          0              1      2\n",
      "1      1        0             2          0          0              1      3\n",
      "   goals  assists  cards_yellow  cards_red  own_goals  goals_against  saves\n",
      "0      1        1             4          1          0              0      2\n",
      "1      0        0             1          0          0              1      1\n"
     ]
    }
   ],
   "source": [
    " config = {\n",
    "        \"num_layers\": 1,\n",
    "        \"num_nodes_in\": inp.shape[1],\n",
    "        \"num_nodes\": inp.shape[1],\n",
    "        \"num_nodes_out\": out.shape[1], \n",
    "        \"final_activation\" : None,\n",
    "        \"activation\": nn.LeakyReLU(),\n",
    "        \"clip\": False, #hp.choice('clip',[True, False]),\n",
    "        \"batch_size\": 32, #[16, 32, 64, 128]\n",
    "        \"loss_f\": log_cosh_loss,#WSE,#hp.choice('loss_f',[WSE, nn.MSELoss()]), #, nn.L1Loss()\n",
    "        \"optim\": 'adam',#hp.choice('optim',['adam', 'adagrad']),\n",
    "        \"lr\": 0.0001,#hp.choice('lr',[0.0001,0.001,.00001]),#hp.loguniform('lr', np.exp(np.log(1e-4)), np.exp(np.log(1e-1))),\n",
    "        \"batch_norm\": False,#hp.choice('batch_norm',[True, False]),\n",
    "        \"dropout\": 0.0,#hp.choice('dropout',[0.0,0.1,0.2,0.3]),#hp.sample_from(lambda _: np.random.uniform(low=0.0, high=.6)),\n",
    "        \"shuffle\": True,\n",
    "        \"num_workers\": 4,\n",
    "        \"patience\": 50,\n",
    "        \"epsilon\":1e-6, \n",
    "        \"epochs\": 25\n",
    "    }\n",
    "    \n",
    "nets, losses, errs, abserrs=runKfold([inp, out], Net, config, n_models=10, n_splits=5)\n",
    "    \n",
    "print((np.abs(np.mean([net(torch.Tensor(inp)).detach().cpu().numpy()[1] for net in nets], axis=0)\\\n",
    "       -np.mean([net(torch.Tensor(inp)).detach().cpu().numpy()[10] for net in nets], axis=0))).sum())\n",
    "\n",
    "print((np.abs(np.mean([net(torch.Tensor(inp)).detach().cpu().numpy()[50] for net in nets], axis=0)\\\n",
    "       -np.mean([net(torch.Tensor(inp)).detach().cpu().numpy()[60] for net in nets], axis=0))).sum())\n",
    "\n",
    "print((np.abs(np.mean([net(torch.Tensor(inp)).detach().cpu().numpy()[100] for net in nets], axis=0)\\\n",
    "       -np.mean([net(torch.Tensor(inp)).detach().cpu().numpy()[110] for net in nets], axis=0))).sum())\n",
    "\n",
    "print('KFold Result Train: {:.3f}+/-{:.3f}'.format(np.mean(losses[0]),np.std(losses[0])))\n",
    "print('KFold Result Test: {:.3f}+/-{:.3f}'.format(np.mean(losses[1]),np.std(losses[1])))\n",
    "\n",
    "#plt.fill_between(np.arange(len(lsmea[0])),lsmea[0]+lsstd[0],lsmea[0]-lsstd[0], alpha=.5, color='#1f77b4')\n",
    "#plt.plot(lsmea[0], color='#1f77b4')\n",
    "#plt.fill_between(np.arange(len(lsmea[1])),lsmea[1]+lsstd[1],lsmea[1]-lsstd[1], alpha=.5, color='#ff7f0e')\n",
    "#plt.plot(lsmea[1], color='#ff7f0e')\n",
    "#plt.show()\n",
    "\n",
    "plt.fill_between(np.arange(len(errs[0])),errs[0]+errs[1],errs[0]-errs[1], alpha=.5, color='#1f77b4')\n",
    "plt.plot(errs[0], color='#1f77b4')\n",
    "plt.fill_between(np.arange(len(abserrs[0])),abserrs[0]+abserrs[1],abserrs[0]-abserrs[1], alpha=.5, color='#ff7f0e')\n",
    "plt.plot(abserrs[0], color='#ff7f0e')\n",
    "plt.xticks(np.arange(len(errs[0])),['minutes','goals','assists','cards_yellow','cards_red','own_goals']+['goals_against','saves'], rotation=90)\n",
    "plt.show()\n",
    "\n",
    "pred=np.mean([net(torch.Tensor(inp)).detach().cpu().numpy() for net in nets], axis=0)\n",
    "\n",
    "i=1000\n",
    "cats=['minutes','goals','assists','cards_yellow','cards_red','own_goals']+['goals_against','saves']\n",
    "\n",
    "reframe, byteamframe = revert_output(pred[i])\n",
    "print(byteamframe.astype(int))\n",
    "reframe, byteamframe = revert_output(out[i])\n",
    "print(byteamframe.astype(int))"
   ]
  },
  {
   "cell_type": "code",
   "execution_count": 50,
   "metadata": {},
   "outputs": [
    {
     "name": "stdout",
     "output_type": "stream",
     "text": [
      "      goals   assists  cards_yellow  cards_red  own_goals  goals_against  \\\n",
      "0  2.175386  1.569782      1.957105   0.073357   0.043927       1.276598   \n",
      "1  1.027351  0.602364      2.204746   0.096785   0.063859       2.414673   \n",
      "\n",
      "      saves  \n",
      "0  2.425753  \n",
      "1  3.961755  \n",
      "   goals  assists  cards_yellow  cards_red  own_goals  goals_against  saves\n",
      "0      4        4             1          0          0              0      4\n",
      "1      0        0             2          0          0              4      4\n",
      "\n",
      "      goals   assists  cards_yellow  cards_red  own_goals  goals_against  \\\n",
      "0  1.945690  1.401756      1.668227   0.044750   0.029066       1.377635   \n",
      "1  1.132221  0.833960      1.966284   0.068566   0.044426       2.162368   \n",
      "\n",
      "      saves  \n",
      "0  2.682376  \n",
      "1  3.619148  \n",
      "   goals  assists  cards_yellow  cards_red  own_goals  goals_against  saves\n",
      "0      3        2             2          0          0              0      1\n",
      "1      0        0             0          0          0              3      2\n",
      "\n",
      "      goals   assists  cards_yellow  cards_red  own_goals  goals_against  \\\n",
      "0  1.296705  0.975970      2.107200   0.099682   0.066096       1.840854   \n",
      "1  1.609385  1.144872      2.095787   0.083016   0.059145       1.573010   \n",
      "\n",
      "      saves  \n",
      "0  3.452499  \n",
      "1  3.264759  \n",
      "   goals  assists  cards_yellow  cards_red  own_goals  goals_against  saves\n",
      "0      2        2             1          0          0              0      5\n",
      "1      0        0             4          0          0              2      1\n",
      "\n",
      "      goals   assists  cards_yellow  cards_red  own_goals  goals_against  \\\n",
      "0  1.522220  1.062211      1.933901   0.063547   0.046672       1.228095   \n",
      "1  0.912879  0.672167      2.320352   0.078093   0.066439       1.772624   \n",
      "\n",
      "      saves  \n",
      "0  2.785189  \n",
      "1  3.644697  \n",
      "   goals  assists  cards_yellow  cards_red  own_goals  goals_against  saves\n",
      "0      2        1             0          0          0              0      5\n",
      "1      0        0             1          0          1              3      3\n",
      "\n"
     ]
    }
   ],
   "source": [
    "for i in [0,10000,500,100000]:\n",
    "    cats=['minutes','goals','assists','cards_yellow','cards_red','own_goals']+['goals_against','saves']\n",
    "\n",
    "    reframe, byteamframe = revert_output(pred[i])\n",
    "    print(byteamframe)\n",
    "    reframe, byteamframe = revert_output(out[i])\n",
    "    print(byteamframe.astype(int))\n",
    "    print()"
   ]
  },
  {
   "cell_type": "code",
   "execution_count": 51,
   "metadata": {},
   "outputs": [
    {
     "name": "stderr",
     "output_type": "stream",
     "text": [
      "Epoch: 100%|██████████| 25/25 [16:24<00:00, 39.40s/it]\n",
      "Epoch:  72%|███████▏  | 18/25 [11:47<04:35, 39.32s/it]\n"
     ]
    },
    {
     "ename": "KeyboardInterrupt",
     "evalue": "",
     "output_type": "error",
     "traceback": [
      "\u001b[0;31m---------------------------------------------------------------------------\u001b[0m",
      "\u001b[0;31mKeyboardInterrupt\u001b[0m                         Traceback (most recent call last)",
      "\u001b[0;32m<ipython-input-51-c5e2cd5dff1b>\u001b[0m in \u001b[0;36m<module>\u001b[0;34m\u001b[0m\n\u001b[1;32m     20\u001b[0m    }\n\u001b[1;32m     21\u001b[0m \u001b[0;34m\u001b[0m\u001b[0m\n\u001b[0;32m---> 22\u001b[0;31m \u001b[0mnets\u001b[0m\u001b[0;34m,\u001b[0m \u001b[0mlosses\u001b[0m\u001b[0;34m,\u001b[0m \u001b[0merrs\u001b[0m\u001b[0;34m,\u001b[0m \u001b[0mabserrs\u001b[0m\u001b[0;34m=\u001b[0m\u001b[0mrunKfold\u001b[0m\u001b[0;34m(\u001b[0m\u001b[0;34m[\u001b[0m\u001b[0minp\u001b[0m\u001b[0;34m,\u001b[0m \u001b[0mout\u001b[0m\u001b[0;34m]\u001b[0m\u001b[0;34m,\u001b[0m \u001b[0mNet\u001b[0m\u001b[0;34m,\u001b[0m \u001b[0mconfig\u001b[0m\u001b[0;34m,\u001b[0m \u001b[0mn_models\u001b[0m\u001b[0;34m=\u001b[0m\u001b[0;36m10\u001b[0m\u001b[0;34m,\u001b[0m \u001b[0mn_splits\u001b[0m\u001b[0;34m=\u001b[0m\u001b[0;36m5\u001b[0m\u001b[0;34m)\u001b[0m\u001b[0;34m\u001b[0m\u001b[0;34m\u001b[0m\u001b[0m\n\u001b[0m\u001b[1;32m     23\u001b[0m \u001b[0;34m\u001b[0m\u001b[0m\n\u001b[1;32m     24\u001b[0m print((np.abs(np.mean([net(torch.Tensor(inp)).detach().cpu().numpy()[1] for net in nets], axis=0)\\\n",
      "\u001b[0;32m<ipython-input-13-d00ecb87ce46>\u001b[0m in \u001b[0;36mrunKfold\u001b[0;34m(data, model, config, n_models, n_splits)\u001b[0m\n\u001b[1;32m     32\u001b[0m             \u001b[0mx_train_bag\u001b[0m \u001b[0;34m=\u001b[0m \u001b[0mx_train_bag\u001b[0m\u001b[0;34m.\u001b[0m\u001b[0mvalues\u001b[0m\u001b[0;34m\u001b[0m\u001b[0;34m\u001b[0m\u001b[0m\n\u001b[1;32m     33\u001b[0m \u001b[0;34m\u001b[0m\u001b[0m\n\u001b[0;32m---> 34\u001b[0;31m             \u001b[0mnet\u001b[0m\u001b[0;34m,\u001b[0m \u001b[0mval_loss\u001b[0m\u001b[0;34m,\u001b[0m \u001b[0mls\u001b[0m\u001b[0;34m,\u001b[0m \u001b[0mdf\u001b[0m \u001b[0;34m=\u001b[0m \u001b[0mtrain_alone\u001b[0m\u001b[0;34m(\u001b[0m\u001b[0mconfig\u001b[0m\u001b[0;34m,\u001b[0m \u001b[0;34m[\u001b[0m\u001b[0mx_train_bag\u001b[0m\u001b[0;34m,\u001b[0m \u001b[0my_train_bag\u001b[0m\u001b[0;34m,\u001b[0m \u001b[0mx_test_bag\u001b[0m\u001b[0;34m,\u001b[0m \u001b[0my_test_bag\u001b[0m\u001b[0;34m]\u001b[0m\u001b[0;34m,\u001b[0m \u001b[0mmodel\u001b[0m\u001b[0;34m,\u001b[0m \u001b[0msilent\u001b[0m\u001b[0;34m=\u001b[0m\u001b[0;32mTrue\u001b[0m\u001b[0;34m,\u001b[0m \u001b[0mcheckpoint_dir\u001b[0m\u001b[0;34m=\u001b[0m\u001b[0;32mNone\u001b[0m\u001b[0;34m)\u001b[0m\u001b[0;34m\u001b[0m\u001b[0;34m\u001b[0m\u001b[0m\n\u001b[0m\u001b[1;32m     35\u001b[0m \u001b[0;34m\u001b[0m\u001b[0m\n\u001b[1;32m     36\u001b[0m             \u001b[0mnets\u001b[0m\u001b[0;34m.\u001b[0m\u001b[0mappend\u001b[0m\u001b[0;34m(\u001b[0m\u001b[0mnet\u001b[0m\u001b[0;34m)\u001b[0m\u001b[0;34m\u001b[0m\u001b[0;34m\u001b[0m\u001b[0m\n",
      "\u001b[0;32m<ipython-input-34-59143edc8ffd>\u001b[0m in \u001b[0;36mtrain_alone\u001b[0;34m(config, data, model, silent, checkpoint_dir)\u001b[0m\n\u001b[1;32m     60\u001b[0m \u001b[0;34m\u001b[0m\u001b[0m\n\u001b[1;32m     61\u001b[0m                 \u001b[0mlosses_batch\u001b[0m\u001b[0;34m=\u001b[0m\u001b[0;34m[\u001b[0m\u001b[0;34m]\u001b[0m\u001b[0;34m\u001b[0m\u001b[0;34m\u001b[0m\u001b[0m\n\u001b[0;32m---> 62\u001b[0;31m                 \u001b[0mmses_batch\u001b[0m\u001b[0;34m=\u001b[0m\u001b[0;34m[\u001b[0m\u001b[0;34m]\u001b[0m\u001b[0;34m\u001b[0m\u001b[0;34m\u001b[0m\u001b[0m\n\u001b[0m\u001b[1;32m     63\u001b[0m                 \u001b[0;32mfor\u001b[0m \u001b[0mbatchNum\u001b[0m\u001b[0;34m,\u001b[0m \u001b[0mbatch\u001b[0m \u001b[0;32min\u001b[0m \u001b[0menumerate\u001b[0m\u001b[0;34m(\u001b[0m\u001b[0mtrainBatch\u001b[0m\u001b[0;34m)\u001b[0m\u001b[0;34m:\u001b[0m\u001b[0;34m\u001b[0m\u001b[0;34m\u001b[0m\u001b[0m\n\u001b[1;32m     64\u001b[0m \u001b[0;34m\u001b[0m\u001b[0m\n",
      "\u001b[0;31mKeyboardInterrupt\u001b[0m: "
     ]
    }
   ],
   "source": [
    " config = {\n",
    "        \"num_layers\": 1,\n",
    "        \"num_nodes_in\": inp.shape[1],\n",
    "        \"num_nodes\": inp.shape[1],\n",
    "        \"num_nodes_out\": out.shape[1], \n",
    "        \"final_activation\" : None,\n",
    "        \"activation\": nn.LeakyReLU(),\n",
    "        \"clip\": False, #hp.choice('clip',[True, False]),\n",
    "        \"batch_size\": 32, #[16, 32, 64, 128]\n",
    "        \"loss_f\": Wlog_cosh_loss,#WSE,#hp.choice('loss_f',[WSE, nn.MSELoss()]), #, nn.L1Loss()\n",
    "        \"optim\": 'adam',#hp.choice('optim',['adam', 'adagrad']),\n",
    "        \"lr\": 0.0001,#hp.choice('lr',[0.0001,0.001,.00001]),#hp.loguniform('lr', np.exp(np.log(1e-4)), np.exp(np.log(1e-1))),\n",
    "        \"batch_norm\": False,#hp.choice('batch_norm',[True, False]),\n",
    "        \"dropout\": 0.0,#hp.choice('dropout',[0.0,0.1,0.2,0.3]),#hp.sample_from(lambda _: np.random.uniform(low=0.0, high=.6)),\n",
    "        \"shuffle\": True,\n",
    "        \"num_workers\": 4,\n",
    "        \"patience\": 50,\n",
    "        \"epsilon\":1e-6, \n",
    "        \"epochs\": 25\n",
    "    }\n",
    "    \n",
    "nets, losses, errs, abserrs=runKfold([inp, out], Net, config, n_models=10, n_splits=5)\n",
    "    \n",
    "print((np.abs(np.mean([net(torch.Tensor(inp)).detach().cpu().numpy()[1] for net in nets], axis=0)\\\n",
    "       -np.mean([net(torch.Tensor(inp)).detach().cpu().numpy()[10] for net in nets], axis=0))).sum())\n",
    "\n",
    "print((np.abs(np.mean([net(torch.Tensor(inp)).detach().cpu().numpy()[50] for net in nets], axis=0)\\\n",
    "       -np.mean([net(torch.Tensor(inp)).detach().cpu().numpy()[60] for net in nets], axis=0))).sum())\n",
    "\n",
    "print((np.abs(np.mean([net(torch.Tensor(inp)).detach().cpu().numpy()[100] for net in nets], axis=0)\\\n",
    "       -np.mean([net(torch.Tensor(inp)).detach().cpu().numpy()[110] for net in nets], axis=0))).sum())\n",
    "\n",
    "print('KFold Result Train: {:.3f}+/-{:.3f}'.format(np.mean(losses[0]),np.std(losses[0])))\n",
    "print('KFold Result Test: {:.3f}+/-{:.3f}'.format(np.mean(losses[1]),np.std(losses[1])))\n",
    "\n",
    "#plt.fill_between(np.arange(len(lsmea[0])),lsmea[0]+lsstd[0],lsmea[0]-lsstd[0], alpha=.5, color='#1f77b4')\n",
    "#plt.plot(lsmea[0], color='#1f77b4')\n",
    "#plt.fill_between(np.arange(len(lsmea[1])),lsmea[1]+lsstd[1],lsmea[1]-lsstd[1], alpha=.5, color='#ff7f0e')\n",
    "#plt.plot(lsmea[1], color='#ff7f0e')\n",
    "#plt.show()\n",
    "\n",
    "plt.fill_between(np.arange(len(errs[0])),errs[0]+errs[1],errs[0]-errs[1], alpha=.5, color='#1f77b4')\n",
    "plt.plot(errs[0], color='#1f77b4')\n",
    "plt.fill_between(np.arange(len(abserrs[0])),abserrs[0]+abserrs[1],abserrs[0]-abserrs[1], alpha=.5, color='#ff7f0e')\n",
    "plt.plot(abserrs[0], color='#ff7f0e')\n",
    "plt.xticks(np.arange(len(errs[0])),['minutes','goals','assists','cards_yellow','cards_red','own_goals']+['goals_against','saves'], rotation=90)\n",
    "plt.show()\n",
    "\n",
    "pred=np.mean([net(torch.Tensor(inp)).detach().cpu().numpy() for net in nets], axis=0)\n",
    "\n",
    "i=1000\n",
    "cats=['minutes','goals','assists','cards_yellow','cards_red','own_goals']+['goals_against','saves']\n",
    "\n",
    "reframe, byteamframe = revert_output(pred[i])\n",
    "print(byteamframe.astype(int))\n",
    "reframe, byteamframe = revert_output(out[i])\n",
    "print(byteamframe.astype(int))"
   ]
  },
  {
   "cell_type": "code",
   "execution_count": null,
   "metadata": {},
   "outputs": [],
   "source": [
    "for i in [0,10000,500,100000]:\n",
    "    cats=['minutes','goals','assists','cards_yellow','cards_red','own_goals']+['goals_against','saves']\n",
    "\n",
    "    reframe, byteamframe = revert_output(pred[i])\n",
    "    print(byteamframe)\n",
    "    reframe, byteamframe = revert_output(out[i])\n",
    "    print(byteamframe.astype(int))\n",
    "    print()"
   ]
  },
  {
   "cell_type": "code",
   "execution_count": 44,
   "metadata": {},
   "outputs": [
    {
     "name": "stderr",
     "output_type": "stream",
     "text": [
      "Epoch: 100%|██████████| 25/25 [09:32<00:00, 22.89s/it]\n",
      "Epoch: 100%|██████████| 25/25 [08:45<00:00, 21.02s/it]\n",
      "Epoch: 100%|██████████| 25/25 [08:35<00:00, 20.64s/it]\n",
      "Epoch: 100%|██████████| 25/25 [08:40<00:00, 20.81s/it]\n",
      "Epoch: 100%|██████████| 25/25 [09:29<00:00, 22.77s/it]\n"
     ]
    },
    {
     "name": "stdout",
     "output_type": "stream",
     "text": [
      "KFold Result: 0.004+/-0.000\n",
      "39.00741\n",
      "23.217642\n",
      "21.008663\n",
      "KFold Result Train: 0.004+/-0.000\n",
      "KFold Result Test: 0.004+/-0.000\n"
     ]
    },
    {
     "data": {
      "image/png": "[encoded data removed]",
      "text/plain": [
       "<Figure size 432x288 with 1 Axes>"
      ]
     },
     "metadata": {},
     "output_type": "display_data"
    },
    {
     "name": "stdout",
     "output_type": "stream",
     "text": [
      "   goals  assists  cards_yellow  cards_red  own_goals  goals_against  saves\n",
      "0      1        1             1          0          0              1      3\n",
      "1      1        1             2          0          0              2      3\n",
      "   goals  assists  cards_yellow  cards_red  own_goals  goals_against  saves\n",
      "0      1        1             4          1          0              0      2\n",
      "1      0        0             1          0          0              1      1\n"
     ]
    }
   ],
   "source": [
    " config = {\n",
    "        \"num_layers\": 4,\n",
    "        \"num_nodes_in\": inp.shape[1],\n",
    "        \"num_nodes\": inp.shape[1]/2,\n",
    "        \"num_nodes_out\": out.shape[1], \n",
    "        \"final_activation\" : None,\n",
    "        \"activation\": nn.LeakyReLU(),\n",
    "        \"clip\": False, #hp.choice('clip',[True, False]),\n",
    "        \"batch_size\": 32, #[16, 32, 64, 128]\n",
    "        \"loss_f\": log_cosh_loss,#WSE,#hp.choice('loss_f',[WSE, nn.MSELoss()]), #, nn.L1Loss()\n",
    "        \"optim\": 'adam',#hp.choice('optim',['adam', 'adagrad']),\n",
    "        \"lr\": 0.0001,#hp.choice('lr',[0.0001,0.001,.00001]),#hp.loguniform('lr', np.exp(np.log(1e-4)), np.exp(np.log(1e-1))),\n",
    "        \"batch_norm\": False,#hp.choice('batch_norm',[True, False]),\n",
    "        \"dropout\": 0.0,#hp.choice('dropout',[0.0,0.1,0.2,0.3]),#hp.sample_from(lambda _: np.random.uniform(low=0.0, high=.6)),\n",
    "        \"shuffle\": True,\n",
    "        \"num_workers\": 4,\n",
    "        \"patience\": 50,\n",
    "        \"epsilon\":1e-6, \n",
    "        \"epochs\": 25\n",
    "    }\n",
    "    \n",
    "nets, losses, errs, abserrs=runKfold([inp, out], Net, config, n_models=1, n_splits=5)\n",
    "    \n",
    "print((np.abs(np.mean([net(torch.Tensor(inp)).detach().cpu().numpy()[1] for net in nets], axis=0)\\\n",
    "       -np.mean([net(torch.Tensor(inp)).detach().cpu().numpy()[10] for net in nets], axis=0))).sum())\n",
    "\n",
    "print((np.abs(np.mean([net(torch.Tensor(inp)).detach().cpu().numpy()[50] for net in nets], axis=0)\\\n",
    "       -np.mean([net(torch.Tensor(inp)).detach().cpu().numpy()[60] for net in nets], axis=0))).sum())\n",
    "\n",
    "print((np.abs(np.mean([net(torch.Tensor(inp)).detach().cpu().numpy()[100] for net in nets], axis=0)\\\n",
    "       -np.mean([net(torch.Tensor(inp)).detach().cpu().numpy()[110] for net in nets], axis=0))).sum())\n",
    "\n",
    "print('KFold Result Train: {:.3f}+/-{:.3f}'.format(np.mean(losses[0]),np.std(losses[0])))\n",
    "print('KFold Result Test: {:.3f}+/-{:.3f}'.format(np.mean(losses[1]),np.std(losses[1])))\n",
    "\n",
    "#plt.fill_between(np.arange(len(lsmea[0])),lsmea[0]+lsstd[0],lsmea[0]-lsstd[0], alpha=.5, color='#1f77b4')\n",
    "#plt.plot(lsmea[0], color='#1f77b4')\n",
    "#plt.fill_between(np.arange(len(lsmea[1])),lsmea[1]+lsstd[1],lsmea[1]-lsstd[1], alpha=.5, color='#ff7f0e')\n",
    "#plt.plot(lsmea[1], color='#ff7f0e')\n",
    "#plt.show()\n",
    "\n",
    "plt.fill_between(np.arange(len(errs[0])),errs[0]+errs[1],errs[0]-errs[1], alpha=.5, color='#1f77b4')\n",
    "plt.plot(errs[0], color='#1f77b4')\n",
    "plt.fill_between(np.arange(len(abserrs[0])),abserrs[0]+abserrs[1],abserrs[0]-abserrs[1], alpha=.5, color='#ff7f0e')\n",
    "plt.plot(abserrs[0], color='#ff7f0e')\n",
    "plt.xticks(np.arange(len(errs[0])),['minutes','goals','assists','cards_yellow','cards_red','own_goals']+['goals_against','saves'], rotation=90)\n",
    "plt.show()\n",
    "\n",
    "pred=np.mean([net(torch.Tensor(inp)).detach().cpu().numpy() for net in nets], axis=0)\n",
    "\n",
    "i=1000\n",
    "cats=['minutes','goals','assists','cards_yellow','cards_red','own_goals']+['goals_against','saves']\n",
    "\n",
    "reframe, byteamframe = revert_output(pred[i])\n",
    "print(byteamframe.astype(int))\n",
    "reframe, byteamframe = revert_output(out[i])\n",
    "print(byteamframe.astype(int))"
   ]
  },
  {
   "cell_type": "code",
   "execution_count": 45,
   "metadata": {},
   "outputs": [
    {
     "name": "stdout",
     "output_type": "stream",
     "text": [
      "      goals   assists  cards_yellow  cards_red  own_goals  goals_against  \\\n",
      "0  2.040215  1.604066      2.035260   0.116796   0.069316       1.666596   \n",
      "1  1.264131  0.972396      2.053585   0.114959   0.100392       2.400839   \n",
      "\n",
      "      saves  \n",
      "0  3.215224  \n",
      "1  3.899981  \n",
      "   goals  assists  cards_yellow  cards_red  own_goals  goals_against  saves\n",
      "0      4        4             1          0          0              0      4\n",
      "1      0        0             2          0          0              4      4\n",
      "\n",
      "      goals   assists  cards_yellow  cards_red  own_goals  goals_against  \\\n",
      "0  1.985991  1.512235      1.772529   0.073637   0.056308       1.978611   \n",
      "1  1.411154  1.037478      1.898890   0.050671   0.058929       2.756490   \n",
      "\n",
      "      saves  \n",
      "0  3.373348  \n",
      "1  4.879425  \n",
      "   goals  assists  cards_yellow  cards_red  own_goals  goals_against  saves\n",
      "0      3        2             2          0          0              0      1\n",
      "1      0        0             0          0          0              3      2\n",
      "\n",
      "      goals   assists  cards_yellow  cards_red  own_goals  goals_against  \\\n",
      "0  2.249842  1.591897      2.179219   0.185864   0.094547       2.348194   \n",
      "1  1.863961  1.262971      1.992693   0.190055   0.133125       2.566727   \n",
      "\n",
      "      saves  \n",
      "0  4.264242  \n",
      "1  4.072638  \n",
      "   goals  assists  cards_yellow  cards_red  own_goals  goals_against  saves\n",
      "0      2        2             1          0          0              0      5\n",
      "1      0        0             4          0          0              2      1\n",
      "\n",
      "      goals   assists  cards_yellow  cards_red  own_goals  goals_against  \\\n",
      "0  1.724309  1.436745      2.101471   0.107794   0.067549       1.867950   \n",
      "1  1.512398  1.050185      2.161077   0.099927   0.105196       2.179548   \n",
      "\n",
      "      saves  \n",
      "0  3.420009  \n",
      "1  3.352476  \n",
      "   goals  assists  cards_yellow  cards_red  own_goals  goals_against  saves\n",
      "0      2        1             0          0          0              0      5\n",
      "1      0        0             1          0          1              3      3\n",
      "\n"
     ]
    }
   ],
   "source": [
    "for i in [0,10000,500,100000]:\n",
    "    cats=['minutes','goals','assists','cards_yellow','cards_red','own_goals']+['goals_against','saves']\n",
    "\n",
    "    reframe, byteamframe = revert_output(pred[i])\n",
    "    print(byteamframe)\n",
    "    reframe, byteamframe = revert_output(out[i])\n",
    "    print(byteamframe.astype(int))\n",
    "    print()"
   ]
  },
  {
   "cell_type": "code",
   "execution_count": 46,
   "metadata": {},
   "outputs": [
    {
     "name": "stderr",
     "output_type": "stream",
     "text": [
      "Epoch: 100%|██████████| 25/25 [13:26<00:00, 32.25s/it]\n",
      "Epoch: 100%|██████████| 25/25 [12:19<00:00, 29.57s/it]\n",
      "Epoch: 100%|██████████| 25/25 [12:54<00:00, 31.00s/it]\n",
      "Epoch: 100%|██████████| 25/25 [12:17<00:00, 29.52s/it]\n",
      "Epoch: 100%|██████████| 25/25 [12:17<00:00, 29.49s/it]\n"
     ]
    },
    {
     "name": "stdout",
     "output_type": "stream",
     "text": [
      "KFold Result: 0.004+/-0.000\n",
      "36.880894\n",
      "23.17464\n",
      "19.142452\n",
      "KFold Result Train: 0.004+/-0.000\n",
      "KFold Result Test: 0.004+/-0.000\n"
     ]
    },
    {
     "data": {
      "image/png": "[encoded data removed]",
      "text/plain": [
       "<Figure size 432x288 with 1 Axes>"
      ]
     },
     "metadata": {},
     "output_type": "display_data"
    },
    {
     "name": "stdout",
     "output_type": "stream",
     "text": [
      "   goals  assists  cards_yellow  cards_red  own_goals  goals_against  saves\n",
      "0      1        1             1          0          0              1      3\n",
      "1      1        0             2          0          0              2      4\n",
      "   goals  assists  cards_yellow  cards_red  own_goals  goals_against  saves\n",
      "0      1        1             4          1          0              0      2\n",
      "1      0        0             1          0          0              1      1\n"
     ]
    }
   ],
   "source": [
    " config = {\n",
    "        \"num_layers\": 6,\n",
    "        \"num_nodes_in\": inp.shape[1],\n",
    "        \"num_nodes\": inp.shape[1]/2,\n",
    "        \"num_nodes_out\": out.shape[1], \n",
    "        \"final_activation\" : None,\n",
    "        \"activation\": nn.LeakyReLU(),\n",
    "        \"clip\": False, #hp.choice('clip',[True, False]),\n",
    "        \"batch_size\": 32, #[16, 32, 64, 128]\n",
    "        \"loss_f\": log_cosh_loss,#WSE,#hp.choice('loss_f',[WSE, nn.MSELoss()]), #, nn.L1Loss()\n",
    "        \"optim\": 'adam',#hp.choice('optim',['adam', 'adagrad']),\n",
    "        \"lr\": 0.0001,#hp.choice('lr',[0.0001,0.001,.00001]),#hp.loguniform('lr', np.exp(np.log(1e-4)), np.exp(np.log(1e-1))),\n",
    "        \"batch_norm\": False,#hp.choice('batch_norm',[True, False]),\n",
    "        \"dropout\": 0.0,#hp.choice('dropout',[0.0,0.1,0.2,0.3]),#hp.sample_from(lambda _: np.random.uniform(low=0.0, high=.6)),\n",
    "        \"shuffle\": True,\n",
    "        \"num_workers\": 4,\n",
    "        \"patience\": 50,\n",
    "        \"epsilon\":1e-6, \n",
    "        \"epochs\": 25\n",
    "    }\n",
    "    \n",
    "nets, losses, errs, abserrs=runKfold([inp, out], Net, config, n_models=1, n_splits=5)\n",
    "    \n",
    "print((np.abs(np.mean([net(torch.Tensor(inp)).detach().cpu().numpy()[1] for net in nets], axis=0)\\\n",
    "       -np.mean([net(torch.Tensor(inp)).detach().cpu().numpy()[10] for net in nets], axis=0))).sum())\n",
    "\n",
    "print((np.abs(np.mean([net(torch.Tensor(inp)).detach().cpu().numpy()[50] for net in nets], axis=0)\\\n",
    "       -np.mean([net(torch.Tensor(inp)).detach().cpu().numpy()[60] for net in nets], axis=0))).sum())\n",
    "\n",
    "print((np.abs(np.mean([net(torch.Tensor(inp)).detach().cpu().numpy()[100] for net in nets], axis=0)\\\n",
    "       -np.mean([net(torch.Tensor(inp)).detach().cpu().numpy()[110] for net in nets], axis=0))).sum())\n",
    "\n",
    "print('KFold Result Train: {:.3f}+/-{:.3f}'.format(np.mean(losses[0]),np.std(losses[0])))\n",
    "print('KFold Result Test: {:.3f}+/-{:.3f}'.format(np.mean(losses[1]),np.std(losses[1])))\n",
    "\n",
    "#plt.fill_between(np.arange(len(lsmea[0])),lsmea[0]+lsstd[0],lsmea[0]-lsstd[0], alpha=.5, color='#1f77b4')\n",
    "#plt.plot(lsmea[0], color='#1f77b4')\n",
    "#plt.fill_between(np.arange(len(lsmea[1])),lsmea[1]+lsstd[1],lsmea[1]-lsstd[1], alpha=.5, color='#ff7f0e')\n",
    "#plt.plot(lsmea[1], color='#ff7f0e')\n",
    "#plt.show()\n",
    "\n",
    "plt.fill_between(np.arange(len(errs[0])),errs[0]+errs[1],errs[0]-errs[1], alpha=.5, color='#1f77b4')\n",
    "plt.plot(errs[0], color='#1f77b4')\n",
    "plt.fill_between(np.arange(len(abserrs[0])),abserrs[0]+abserrs[1],abserrs[0]-abserrs[1], alpha=.5, color='#ff7f0e')\n",
    "plt.plot(abserrs[0], color='#ff7f0e')\n",
    "plt.xticks(np.arange(len(errs[0])),['minutes','goals','assists','cards_yellow','cards_red','own_goals']+['goals_against','saves'], rotation=90)\n",
    "plt.show()\n",
    "\n",
    "pred=np.mean([net(torch.Tensor(inp)).detach().cpu().numpy() for net in nets], axis=0)\n",
    "\n",
    "i=1000\n",
    "cats=['minutes','goals','assists','cards_yellow','cards_red','own_goals']+['goals_against','saves']\n",
    "\n",
    "reframe, byteamframe = revert_output(pred[i])\n",
    "print(byteamframe.astype(int))\n",
    "reframe, byteamframe = revert_output(out[i])\n",
    "print(byteamframe.astype(int))"
   ]
  },
  {
   "cell_type": "code",
   "execution_count": 47,
   "metadata": {},
   "outputs": [
    {
     "name": "stdout",
     "output_type": "stream",
     "text": [
      "      goals   assists  cards_yellow  cards_red  own_goals  goals_against  \\\n",
      "0  1.486620  0.870732      2.363866   0.138098   0.088374       2.137479   \n",
      "1  1.411229  1.242251      2.090373   0.162585   0.088660       2.153908   \n",
      "\n",
      "      saves  \n",
      "0  4.001372  \n",
      "1  3.896155  \n",
      "   goals  assists  cards_yellow  cards_red  own_goals  goals_against  saves\n",
      "0      4        4             1          0          0              0      4\n",
      "1      0        0             2          0          0              4      4\n",
      "\n",
      "      goals   assists  cards_yellow  cards_red  own_goals  goals_against  \\\n",
      "0  1.703468  1.174769      1.898975   0.158976   0.066580       1.712947   \n",
      "1  1.016693  0.791798      1.986550   0.190987   0.093661       2.439783   \n",
      "\n",
      "      saves  \n",
      "0  3.820258  \n",
      "1  4.501498  \n",
      "   goals  assists  cards_yellow  cards_red  own_goals  goals_against  saves\n",
      "0      3        2             2          0          0              0      1\n",
      "1      0        0             0          0          0              3      2\n",
      "\n",
      "      goals   assists  cards_yellow  cards_red  own_goals  goals_against  \\\n",
      "0  1.349452  0.706003      2.108366   0.151180   0.067605       1.810679   \n",
      "1  1.411775  1.064795      2.025488   0.154386   0.085595       2.010798   \n",
      "\n",
      "      saves  \n",
      "0  3.862890  \n",
      "1  3.910229  \n",
      "   goals  assists  cards_yellow  cards_red  own_goals  goals_against  saves\n",
      "0      2        2             1          0          0              0      5\n",
      "1      0        0             4          0          0              2      1\n",
      "\n",
      "      goals   assists  cards_yellow  cards_red  own_goals  goals_against  \\\n",
      "0  1.403366  0.900066      2.192599   0.135638   0.080437       1.686494   \n",
      "1  1.183028  0.829118      2.410606   0.118853   0.079671       2.069010   \n",
      "\n",
      "      saves  \n",
      "0  3.592421  \n",
      "1  4.139338  \n",
      "   goals  assists  cards_yellow  cards_red  own_goals  goals_against  saves\n",
      "0      2        1             0          0          0              0      5\n",
      "1      0        0             1          0          1              3      3\n",
      "\n"
     ]
    }
   ],
   "source": [
    "for i in [0,10000,500,100000]:\n",
    "    cats=['minutes','goals','assists','cards_yellow','cards_red','own_goals']+['goals_against','saves']\n",
    "\n",
    "    reframe, byteamframe = revert_output(pred[i])\n",
    "    print(byteamframe)\n",
    "    reframe, byteamframe = revert_output(out[i])\n",
    "    print(byteamframe.astype(int))\n",
    "    print()"
   ]
  },
  {
   "cell_type": "code",
   "execution_count": 13,
   "metadata": {},
   "outputs": [
    {
     "name": "stderr",
     "output_type": "stream",
     "text": [
      "Epoch:  18%|█▊        | 9/50 [01:52<08:32, 12.51s/it]\n",
      "Epoch:  14%|█▍        | 7/50 [01:27<08:55, 12.46s/it]\n",
      "Epoch:  44%|████▍     | 22/50 [04:35<05:50, 12.52s/it]\n",
      "Epoch:  22%|██▏       | 11/50 [02:17<08:08, 12.52s/it]\n",
      "Epoch:  20%|██        | 10/50 [02:05<08:20, 12.52s/it]\n",
      "Epoch:  32%|███▏      | 16/50 [03:24<07:14, 12.77s/it]\n",
      "Epoch:  14%|█▍        | 7/50 [01:27<09:00, 12.56s/it]\n",
      "Epoch:  12%|█▏        | 6/50 [01:14<09:09, 12.50s/it]\n",
      "Epoch:  30%|███       | 15/50 [03:09<07:21, 12.61s/it]\n",
      "Epoch:  14%|█▍        | 7/50 [01:27<08:58, 12.52s/it]\n",
      "Epoch:  24%|██▍       | 12/50 [02:29<07:53, 12.47s/it]\n",
      "Epoch:  30%|███       | 15/50 [03:06<07:16, 12.47s/it]\n",
      "Epoch:  40%|████      | 20/50 [04:11<06:16, 12.56s/it]\n",
      "Epoch:  30%|███       | 15/50 [03:07<07:17, 12.49s/it]\n",
      "Epoch:  20%|██        | 10/50 [02:06<08:26, 12.65s/it]\n",
      "Epoch:  16%|█▌        | 8/50 [01:39<08:44, 12.48s/it]\n",
      "Epoch:  34%|███▍      | 17/50 [03:32<06:51, 12.47s/it]\n",
      "Epoch:  34%|███▍      | 17/50 [03:34<06:56, 12.62s/it]\n",
      "Epoch:  34%|███▍      | 17/50 [03:35<06:58, 12.68s/it]\n",
      "Epoch:  16%|█▌        | 8/50 [01:45<09:15, 13.23s/it]\n",
      "Epoch:  30%|███       | 15/50 [03:06<07:16, 12.46s/it]\n",
      "Epoch:  20%|██        | 10/50 [02:05<08:20, 12.51s/it]\n",
      "Epoch:  24%|██▍       | 12/50 [02:29<07:52, 12.44s/it]\n",
      "Epoch:  22%|██▏       | 11/50 [02:17<08:06, 12.49s/it]\n",
      "Epoch:  32%|███▏      | 16/50 [03:22<07:10, 12.68s/it]\n",
      "Epoch:  40%|████      | 20/50 [04:13<06:20, 12.68s/it]\n",
      "Epoch:  42%|████▏     | 21/50 [04:34<06:18, 13.06s/it]\n",
      "Epoch:  24%|██▍       | 12/50 [02:31<07:59, 12.63s/it]\n",
      "Epoch:  46%|████▌     | 23/50 [05:01<05:54, 13.13s/it]\n",
      "Epoch:  28%|██▊       | 14/50 [03:04<07:55, 13.19s/it]\n",
      "Epoch:  26%|██▌       | 13/50 [02:52<08:11, 13.28s/it]\n",
      "Epoch:  36%|███▌      | 18/50 [03:56<07:01, 13.16s/it]\n",
      "Epoch:  18%|█▊        | 9/50 [01:52<08:33, 12.53s/it]\n",
      "Epoch:  14%|█▍        | 7/50 [01:27<08:58, 12.53s/it]\n",
      "Epoch:  34%|███▍      | 17/50 [03:33<06:55, 12.58s/it]\n",
      "Epoch:  32%|███▏      | 16/50 [03:20<07:05, 12.52s/it]\n",
      "Epoch:  14%|█▍        | 7/50 [01:27<08:57, 12.49s/it]\n",
      "Epoch:  44%|████▍     | 22/50 [04:36<05:52, 12.58s/it]\n",
      "Epoch:  16%|█▌        | 8/50 [01:42<08:59, 12.84s/it]\n",
      "Epoch:  34%|███▍      | 17/50 [03:39<07:05, 12.89s/it]\n",
      "Epoch:  20%|██        | 10/50 [02:04<08:18, 12.46s/it]\n",
      "Epoch:  24%|██▍       | 12/50 [02:29<07:54, 12.50s/it]\n",
      "Epoch:  20%|██        | 10/50 [02:05<08:21, 12.54s/it]\n",
      "Epoch:  22%|██▏       | 11/50 [02:19<08:13, 12.66s/it]\n",
      "Epoch:  20%|██        | 10/50 [02:04<08:19, 12.49s/it]\n",
      "Epoch:  18%|█▊        | 9/50 [01:53<08:36, 12.61s/it]\n",
      "Epoch:  18%|█▊        | 9/50 [01:53<08:36, 12.59s/it]\n",
      "Epoch:  26%|██▌       | 13/50 [02:47<07:55, 12.85s/it]\n",
      "Epoch:  16%|█▌        | 8/50 [01:40<08:48, 12.58s/it]\n",
      "Epoch:  14%|█▍        | 7/50 [01:31<09:20, 13.04s/it]\n"
     ]
    },
    {
     "name": "stdout",
     "output_type": "stream",
     "text": [
      "KFold Result: 0.003+/-0.000\n",
      "33.585495\n",
      "17.928848\n",
      "18.183666\n",
      "KFold Result Train: 0.003+/-0.000\n",
      "KFold Result Test: 0.003+/-0.000\n"
     ]
    },
    {
     "data": {
      "image/png": "[encoded data removed]",
      "text/plain": [
       "<Figure size 432x288 with 1 Axes>"
      ]
     },
     "metadata": {},
     "output_type": "display_data"
    },
    {
     "name": "stdout",
     "output_type": "stream",
     "text": [
      "   goals  assists  cards_yellow  cards_red  own_goals  goals_against  saves\n",
      "0      1        1             1          0          0              1      2\n",
      "1      1        0             1          0          0              1      3\n",
      "   goals  assists  cards_yellow  cards_red  own_goals  goals_against  saves\n",
      "0      1        1             4          1          0              0      2\n",
      "1      0        0             1          0          0              1      1\n"
     ]
    }
   ],
   "source": [
    " config = {\n",
    "        \"num_layers\": 2,\n",
    "        \"num_nodes_in\": inp.shape[1],\n",
    "        \"num_nodes\": inp.shape[1]/2,\n",
    "        \"num_nodes_out\": out.shape[1], \n",
    "        \"final_activation\" : None,\n",
    "        \"activation\": nn.LeakyReLU(),\n",
    "        \"clip\": False, #hp.choice('clip',[True, False]),\n",
    "        \"batch_size\": 32, #[16, 32, 64, 128]\n",
    "        \"loss_f\": log_cosh_loss,#WSE,#hp.choice('loss_f',[WSE, nn.MSELoss()]), #, nn.L1Loss()\n",
    "        \"optim\": 'adam',#hp.choice('optim',['adam', 'adagrad']),\n",
    "        \"lr\": 0.0001,#hp.choice('lr',[0.0001,0.001,.00001]),#hp.loguniform('lr', np.exp(np.log(1e-4)), np.exp(np.log(1e-1))),\n",
    "        \"batch_norm\": False,#hp.choice('batch_norm',[True, False]),\n",
    "        \"dropout\": 0.0,#hp.choice('dropout',[0.0,0.1,0.2,0.3]),#hp.sample_from(lambda _: np.random.uniform(low=0.0, high=.6)),\n",
    "        \"shuffle\": True,\n",
    "        \"num_workers\": 4,\n",
    "        \"patience\": 5,\n",
    "        \"epochs\": 50\n",
    "    }\n",
    "    \n",
    "nets, losses, errs, abserrs=runKfold([inp, out], Net, config, n_models=10, n_splits=5)\n",
    "    \n",
    "print((np.abs(np.mean([net(torch.Tensor(inp)).detach().cpu().numpy()[1] for net in nets], axis=0)\\\n",
    "       -np.mean([net(torch.Tensor(inp)).detach().cpu().numpy()[10] for net in nets], axis=0))).sum())\n",
    "\n",
    "print((np.abs(np.mean([net(torch.Tensor(inp)).detach().cpu().numpy()[50] for net in nets], axis=0)\\\n",
    "       -np.mean([net(torch.Tensor(inp)).detach().cpu().numpy()[60] for net in nets], axis=0))).sum())\n",
    "\n",
    "print((np.abs(np.mean([net(torch.Tensor(inp)).detach().cpu().numpy()[100] for net in nets], axis=0)\\\n",
    "       -np.mean([net(torch.Tensor(inp)).detach().cpu().numpy()[110] for net in nets], axis=0))).sum())\n",
    "\n",
    "print('KFold Result Train: {:.3f}+/-{:.3f}'.format(np.mean(losses[0]),np.std(losses[0])))\n",
    "print('KFold Result Test: {:.3f}+/-{:.3f}'.format(np.mean(losses[1]),np.std(losses[1])))\n",
    "\n",
    "#plt.fill_between(np.arange(len(lsmea[0])),lsmea[0]+lsstd[0],lsmea[0]-lsstd[0], alpha=.5, color='#1f77b4')\n",
    "#plt.plot(lsmea[0], color='#1f77b4')\n",
    "#plt.fill_between(np.arange(len(lsmea[1])),lsmea[1]+lsstd[1],lsmea[1]-lsstd[1], alpha=.5, color='#ff7f0e')\n",
    "#plt.plot(lsmea[1], color='#ff7f0e')\n",
    "#plt.show()\n",
    "\n",
    "plt.fill_between(np.arange(len(errs[0])),errs[0]+errs[1],errs[0]-errs[1], alpha=.5, color='#1f77b4')\n",
    "plt.plot(errs[0], color='#1f77b4')\n",
    "plt.fill_between(np.arange(len(abserrs[0])),abserrs[0]+abserrs[1],abserrs[0]-abserrs[1], alpha=.5, color='#ff7f0e')\n",
    "plt.plot(abserrs[0], color='#ff7f0e')\n",
    "plt.xticks(np.arange(len(errs[0])),['minutes','goals','assists','cards_yellow','cards_red','own_goals']+['goals_against','saves'], rotation=90)\n",
    "plt.show()\n",
    "\n",
    "pred=np.mean([net(torch.Tensor(inp)).detach().cpu().numpy() for net in nets], axis=0)\n",
    "\n",
    "i=1000\n",
    "cats=['minutes','goals','assists','cards_yellow','cards_red','own_goals']+['goals_against','saves']\n",
    "\n",
    "reframe, byteamframe = revert_output(pred[i])\n",
    "print(byteamframe.astype(int))\n",
    "reframe, byteamframe = revert_output(out[i])\n",
    "print(byteamframe.astype(int))"
   ]
  },
  {
   "cell_type": "code",
   "execution_count": null,
   "metadata": {},
   "outputs": [],
   "source": [
    "#try stacking"
   ]
  }
 ],
 "metadata": {
  "kernelspec": {
   "display_name": "Python 3",
   "language": "python",
   "name": "python3"
  },
  "language_info": {
   "codemirror_mode": {
    "name": "ipython",
    "version": 3
   },
   "file_extension": ".py",
   "mimetype": "text/x-python",
   "name": "python",
   "nbconvert_exporter": "python",
   "pygments_lexer": "ipython3",
   "version": "3.7.6"
  }
 },
 "nbformat": 4,
 "nbformat_minor": 4
}
